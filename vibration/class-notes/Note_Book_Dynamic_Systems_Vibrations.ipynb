{
  "nbformat": 4,
  "nbformat_minor": 0,
  "metadata": {
    "colab": {
      "provenance": [],
      "collapsed_sections": [
        "3JE-6OEi0-UE",
        "2FueYc8S-XuA",
        "f0VDZrcz-lQU",
        "QHeBGTHoKvEB",
        "562opER9e3id",
        "bDTsRPO2nTbU",
        "pqr6GagCoEix",
        "nY_BhTPbX-Xx",
        "ABrdqk6ftMJQ",
        "iCiFgcUcq8Sq",
        "7YVH24XqqY1f",
        "FW5s5h-asbzB",
        "Sze9QqSMuQQc",
        "pvMmU7iauiEr",
        "P5KwaVf1OkZy",
        "0Zim6ZXK_Deg",
        "g7sHmwgJ_xD2",
        "IR3G5ijD_9wV",
        "beAMgGm151ys",
        "gYemdncY57ZF",
        "-pOSHYAgHtD8",
        "ClmsQTe5Hq2N",
        "ODsRLplMKUWx",
        "x9gUWmtbUSJo",
        "N8nxvFA_DCi0",
        "f9m7imUNOvwy",
        "9Mgu3bjJO-z3",
        "uB5dWyqTRywc",
        "1yX1zX3_SWw_"
      ],
      "include_colab_link": true
    },
    "kernelspec": {
      "display_name": "Python 3",
      "name": "python3"
    }
  },
  "cells": [
    {
      "cell_type": "markdown",
      "metadata": {
        "id": "view-in-github",
        "colab_type": "text"
      },
      "source": [
        "<a href=\"https://colab.research.google.com/github/mugalan/lessons/blob/main/vibration/class-notes/Note_Book_Dynamic_Systems_Vibrations.ipynb\" target=\"_parent\"><img src=\"https://colab.research.google.com/assets/colab-badge.svg\" alt=\"Open In Colab\"/></a>"
      ]
    },
    {
      "cell_type": "markdown",
      "metadata": {
        "id": "oEW0HvfSwEg1"
      },
      "source": [
        "This is a notebook prepared by D. H. S. Maithripala of the Dept. of Mechanical Engineering, of the University of Peradniya as a learning resource for the 'Analysis of Vibratory Systems' part of the course ME320 Dynamics of Rigid Body Systems and ME327 Vibrations. Please email smaithri at eng.pdn.ac.lk of any mistakes, errata and or suggestions for improvements"
      ]
    },
    {
      "cell_type": "markdown",
      "metadata": {
        "id": "GblrZHGLoiQK"
      },
      "source": [
        "# Setting Up"
      ]
    },
    {
      "cell_type": "markdown",
      "metadata": {
        "id": "3JE-6OEi0-UE"
      },
      "source": [
        "## Importing Python Packages"
      ]
    },
    {
      "cell_type": "code",
      "metadata": {
        "id": "d48gsGCSooxS"
      },
      "source": [
        "import numpy as np\n",
        "from numpy import linalg\n",
        "import scipy as sp\n",
        "import math\n",
        "from scipy.integrate import odeint\n",
        "#from matplotlib import animation, rc\n",
        "from IPython.display import HTML\n",
        "\n",
        "import plotly.graph_objects as go\n",
        "from sympy import *"
      ],
      "execution_count": null,
      "outputs": []
    },
    {
      "cell_type": "markdown",
      "metadata": {
        "id": "W6cQLdmB0pGn"
      },
      "source": [
        "### Python Vibratory Systems Class Definition"
      ]
    },
    {
      "cell_type": "code",
      "metadata": {
        "id": "dSeluENWQQYH"
      },
      "source": [
        "class mugas_vibration_functions:\n",
        "  \n",
        "    def __init__(self): \n",
        "        self=[];\n",
        "\n",
        "    def dynamicSystemModel(self, X, t, A, B, cParameters):\n",
        "        dXdt=A @ X + B * self.controlFn(t, cParameters);\n",
        "        self.X=X;\n",
        "        return dXdt\n",
        "\n",
        "    def controlFn(self, t, cParameters):\n",
        "        return cParameters[0]*np.cos(cParameters[1] * t)\n",
        "\n",
        "    def simulateDySystem(self, Tmax, dT, X0, A,B, cParameters, xLabel, yLabel):\n",
        "        t = np.linspace(0, Tmax, int(Tmax/dT+1))\n",
        "        sol = odeint(self.dynamicSystemModel, X0, t, args=(A, B, cParameters));\n",
        "        self.soln=sol;\n",
        "        fig = go.Figure()\n",
        "        [nt,nS]=sol.shape;\n",
        "\n",
        "        # Add traces\n",
        "        for nn in range(nS):\n",
        "            fig.add_trace(go.Scatter(x=t, y=sol[:,nn], mode='lines+markers', name='x'+str(nn+1)))\n",
        "            fig.update_layout(xaxis=dict(title=xLabel),yaxis=dict(title=yLabel))\n",
        "        \n",
        "        fig.show()\n",
        "        return [t,sol,fig] \n",
        "    \n",
        "    def animate_particle_motion(self, XX, axisRange, figTitle):\n",
        "        xx=[jj[0] for jj in XX]\n",
        "        yy=[jj[1] for jj in XX]\n",
        "        zz=[jj[2] for jj in XX]\n",
        "\n",
        "        fig = go.Figure(\n",
        "            data=[go.Scatter3d(x=[xx[0]], y=[yy[0]],z=[zz[0]],\n",
        "                            mode=\"markers\",\n",
        "                            marker=dict(color=\"red\", size=10)),\n",
        "                go.Scatter3d(x=xx, y=yy,z=zz, name='Path',\n",
        "                            mode=\"lines\",\n",
        "                            line=dict(color=\"blue\", width=2))],\n",
        "            layout=go.Layout(\n",
        "                scene = dict(\n",
        "                            xaxis=dict(range=axisRange[0], autorange=False),\n",
        "                            yaxis=dict(range=axisRange[1], autorange=False),\n",
        "                            zaxis=dict(range=axisRange[2], autorange=False),\n",
        "                            aspectratio=dict(x=1, y=1, z=1),\n",
        "                ),\n",
        "                title_text=figTitle, hovermode=\"closest\",\n",
        "                updatemenus=[dict(type=\"buttons\",\n",
        "                                buttons=[dict(label=\"Play\",\n",
        "                                                method=\"animate\",\n",
        "                                                args=[None])])]),\n",
        "            frames=[go.Frame(\n",
        "                data=[go.Scatter3d(\n",
        "                    x=[p[0]],\n",
        "                    y=[p[1]],\n",
        "                    z=[p[2]],\n",
        "                    name='Particle',\n",
        "                    mode=\"markers\",\n",
        "                    marker=dict(color=\"red\", size=10))])\n",
        "\n",
        "                for p in XX]\n",
        "        )\n",
        "\n",
        "        fig.show()\n",
        "        return fig\n",
        "\n",
        "    def animate_2D_scatter_plot(self, x, YY, xlabel, ylabel, title):\n",
        "        fig = go.Figure(data=[go.Scatter(x=x,y=YY[0,:])],\n",
        "                layout=go.Layout(\n",
        "                    xaxis={'title':xlabel},\n",
        "                    yaxis={'title':ylabel,'range':[1.1*YY.min(),1.1*YY.max()]},\n",
        "                    title={'text':title,'y':0.9,'x':0.5, 'xanchor': 'center','yanchor': 'top'},\n",
        "                    scene = dict(aspectratio=dict(x=1, y=1)),    \n",
        "                    hovermode=\"closest\",\n",
        "                    updatemenus=[dict(type=\"buttons\",\n",
        "                                    buttons=[dict(label=\"Play\",\n",
        "                                                    method=\"animate\",\n",
        "                                                    args=[None])])]\n",
        "                    ),\n",
        "            frames=[go.Frame(data=[go.Scatter(x=x,y=y)]) for y in YY]\n",
        "        )\n",
        "\n",
        "        #fig.show()\n",
        "        return fig"
      ],
      "execution_count": null,
      "outputs": []
    },
    {
      "cell_type": "code",
      "metadata": {
        "id": "Sfu9BNcWh7MP"
      },
      "source": [
        "mv=mugas_vibration_functions()"
      ],
      "execution_count": null,
      "outputs": []
    },
    {
      "cell_type": "markdown",
      "metadata": {
        "id": "9MwDuFd084T5"
      },
      "source": [
        "# Section#1: First Approximation of Simple Vibratory System\n"
      ]
    },
    {
      "cell_type": "markdown",
      "metadata": {
        "id": "1E_L6YU89Bvv"
      },
      "source": [
        "Consider the blower shown in figure below and answer the following:\n",
        "\n",
        "1. Explain the source of vibration arising in the blower using schematics and mathematical justification and state the relationship between the vibrational frequency of the blower and the rotational speed of the blower. \n",
        "\n",
        "2. We are interested in predicting its small amplitudte motion under various conditions. Show that for small amplitude motion the system response is approximated by the solutions of the linear second order ODE of the form\n",
        "\n",
        "\\begin{align}\n",
        "M\\ddot{x}+C\\dot{x}+Kx=F(t)\n",
        "\\end{align}\n",
        "\n",
        "3. What can you say about the response of the system to a sudden initial vertical displacement that may have been caused by some accidental event.\n",
        "\n",
        "4. What can you say about the amplitude of vibrations for \n",
        "\n",
        "* extremely high rotational speeds of the blower? Justify your answer clearly.\n",
        "\n",
        "* extremely low rotational speeds of the blower? Justify your answer clearly.\n",
        "\n",
        "5. Plot the amplitude of vibration of the blower versus the rotational speed of the blower?\n",
        "\n",
        "![air-blower-500x500.jpeg](data:image/jpeg;base64,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)\n",
        "\n"
      ]
    },
    {
      "cell_type": "markdown",
      "metadata": {
        "id": "2FueYc8S-XuA"
      },
      "source": [
        "## A1-The cause of vibration in the system"
      ]
    },
    {
      "cell_type": "markdown",
      "metadata": {
        "id": "pBaaqiMt-XuF"
      },
      "source": [
        "Consider the figure shown below that can be consdered as a first approximation of the system for small amplitude motion:\n",
        "\n",
        "![erm-model-with-one-degree-of-freedom.original.png](data:image/png;base64,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)\n",
        "\n",
        "Due to the eccentricity $e$ of the center of mass of the rotating object a centrifugal force $me\\omega^2$ acts on the center. We see that the vertical and horizontal components of this force are respectively given by:\n",
        "\\begin{align}\n",
        "F_v&=me\\omega^2\\,\\sin{\\omega t},\\\\\n",
        "F_h&=me\\omega^2\\,\\cos{\\omega t}\n",
        "\\end{align}\n",
        "\n",
        "All rotating objects have an eccentric center of mass due to practical difficulties of achieving perfect precision. Thus all bodies with rotating objects will inevitably experince sinusoidal forces with frequency equal to the frequancy of rotation of the object."
      ]
    },
    {
      "cell_type": "markdown",
      "metadata": {
        "id": "f0VDZrcz-lQU"
      },
      "source": [
        "## A2-Predicitng the motion of the system: Mathematical Modelling "
      ]
    },
    {
      "cell_type": "markdown",
      "metadata": {
        "id": "HwK9cvhPDYZx"
      },
      "source": [
        "Measuring the displacement of the center of mass of the rotor from its equilibrium position and using the Newtons equations we find that\n",
        "\n",
        "\\begin{align}\n",
        "M\\ddot{x}+C\\dot{x}+Kx=F(t)\n",
        "\\end{align}\n",
        "\n",
        "Being a linear second order ODE one can solve it explicitly. Since this differential equation was derived by considering small deflections and velocities of the mass it is interesting to find out if the solutions of the differential equation correspond to the physical behaviour of the SMD system for small deflections.One way of finding the solutions of this differential equation is the Laplace  transform method that we use below.\n",
        "\n",
        "Let $\\omega^2_n=\\frac{K}{M}$ and $2 \\zeta \\omega_n=\\frac{C}{M}$. Then the above equations take the form\n",
        "\\begin{align}\n",
        "\\ddot{x}(t) + 2 \\zeta \\omega_n \\dot{x}(t) + \\omega^2_n x(t)= \\frac{1}{M}F(t).\n",
        "\\end{align}\n",
        "\n",
        "The parameter $\\omega_n$ is called the \\textit{undamped natural frequency} of the system and $\\zeta$ is called the \\textit{damping ratio} of the system. The reason for this nomenclature will be apparent when we investigate the solutions of this differential equation.\n",
        "\n",
        "\n",
        "\n",
        "\n",
        "For a given $f(t)$ that does not grow faster than an exponential function it can be shown, owing to the linearity of the system, that the solution will also not grow\n",
        "faster than an exponential function. Thus taking Laplace transform\n",
        "of both sides of and using the linearity property of the Laplace transform we have\n",
        "\\begin{align}\n",
        "\\mathcal{L}\\left\\{\\ddot{x}(t) + 2 \\zeta \\omega_n \\dot{x}(t) + \\omega^2_n x(t)\\right\\}&=\\frac{1}{M}\\mathcal{L}\\left\\{f(t)\\right\\},\\\\\n",
        "(s^2+2 \\zeta \\omega_n s + \\omega_n^2) X(s) - \\dot{x}(0)- ( s + 2\\zeta \\omega_n)x(0)  &= \\frac{1}{M} F(s).\n",
        "\\end{align}\n",
        "This yields\n",
        "\\begin{align}\n",
        "X(s)=\\frac{1}{s^2+2 \\zeta \\omega_n s + \\omega_n^2} \\dot{x}(0)+\\frac{ s + 2\\zeta \\omega_n}{s^2+2 \\zeta \\omega_n s + \\omega_n^2}x(0)\n",
        "+\\frac{1/M}{s^2+2 \\zeta \\omega_n s + \\omega_n^2}F(s).\n",
        "\\end{align}\n",
        "Since the Laplace is a one-to-one and onto operator its inverse exists and thus the the solution can be uniquely determined to be $x(t)=\\mathcal{L}^{-1}\\{X(s)\\}$. Using the linearity property of the inverse we thus have\n",
        "\n",
        "\n",
        "\\begin{align}\n",
        "x(t)&=\\dot{x}(0)\\mathcal{L}^{-1}\\left\\{\\frac{1}{s^2+2 \\zeta \\omega_n s + \\omega_n^2} \\right\\}+x(0)\\mathcal{L}^{-1}\\left\\{\\frac{ s + 2\\zeta \\omega_n}{s^2+2 \\zeta \\omega_n s + \\omega_n^2}\\right\\}+\\mathcal{L}^{-1}\\left\\{\\frac{1/M}{s^2+2 \\zeta \\omega_n s + \\omega_n^2}F(s)\\right\\}.\n",
        "\\end{align}\n",
        "\n",
        "\n",
        "Observe that the first two terms depend on the initial conditions and do not depend on the forcing while the last term does depend on the forcing but is in depend of the initial conditions. Therefore \n",
        "we may breakup the solution into two parts such that $x(t)=x_{IC}(t)+x_f(t)$ where\n",
        "\\begin{align}\n",
        "x_{IC}(t)&=\\dot{x}(0)\\mathcal{L}^{-1}\\left\\{\\frac{1}{s^2+2 \\zeta \\omega_n s + \\omega_n^2} \\right\\}+x(0)\\mathcal{L}^{-1}\\left\\{\\frac{ s + 2\\zeta \\omega_n}{s^2+2 \\zeta \\omega_n s + \\omega_n^2}\\right\\}, \\\\\n",
        "x_f(t)&=\\mathcal{L}^{-1}\\left\\{\\frac{1/M}{s^2+2 \\zeta \\omega_n s + \\omega_n^2}F(s)\\right\\}.\n",
        "\\end{align}\n",
        "We will call the first part two parts given by $x_{IC}(t)$ that depends only on the initial conditions the \\textit{initial condition response} while we will call the last part that depends only on the forcing the \\textit{forced response}.\n",
        "\n",
        "The inverse Laplace transforms of each of the terms are obtained by expanding the terms in a partial fraction expansion. This depends on the roots of the polynomial\n",
        "\\begin{align}\n",
        "\\Delta(s)&=s^2+2 \\zeta \\omega_n s + \\omega_n^2.\n",
        "\\end{align}\n",
        "The two roots , $-\\lambda_1$ and $-\\lambda_2$, of the polynomial are given by\n",
        "\\begin{align}\n",
        "-\\lambda_1&=\\omega_n (-\\zeta+\\sqrt{\\zeta^2-1}),\\\\\n",
        "-\\lambda_2&=\\omega_n (-\\zeta-\\sqrt{\\zeta^2-1}).\n",
        "\\end{align}\n",
        "Since the character of the solution is determined by the roots of the above polynomial it is referred to as the \\textit{characteristic polynomial} of the system. These roots will be complex and conjugate, real and distinct, or real and repeated depending on if $0\\leq \\zeta <1$, $\\zeta >1$, or $\\zeta=1$ respectively.\n",
        "\n",
        "Let us consider the case $0\\leq \\zeta <1$. In this case the roots of the characteristic polynomial $\\Delta(s)=s^2+2 \\zeta \\omega_n s + \\omega_n^2$ of the system\n",
        "are given by $-\\lambda_1=-\\zeta\\omega_n+i\\omega_d$ and $-\\lambda_2=-\\zeta\\omega_n-i\\omega_d$. \n",
        "A typical location of the roots of the characteristic polynomial in this case is shown in the figure below\n",
        "\n",
        "![UnderdampedPolesDynamics.jpg](data:image/jpeg;base64,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)"
      ]
    },
    {
      "cell_type": "markdown",
      "metadata": {
        "id": "njDiWhETOefl"
      },
      "source": [
        "Find the roots of $\\Delta (s)$ for various values of natural frequencies and natural frequancies"
      ]
    },
    {
      "cell_type": "code",
      "metadata": {
        "id": "i_-LeOaPNlHG"
      },
      "source": [
        "wn=1; zeta=0.1;\n",
        "Delta_s=[1, 2*zeta*wn, wn**2];\n",
        "np.roots(Delta_s)"
      ],
      "execution_count": null,
      "outputs": []
    },
    {
      "cell_type": "markdown",
      "metadata": {
        "id": "QHeBGTHoKvEB"
      },
      "source": [
        "## A3-Initial Condition Response\n",
        "\n"
      ]
    },
    {
      "cell_type": "markdown",
      "metadata": {
        "id": "G6DtDH79W_sK"
      },
      "source": [
        "\n",
        "Assume that the forcing is such that  \n",
        "\\begin{align}\n",
        "\\mathcal{L}\\{f(t)\\}=F(s)=\\frac{N(s)}{(s+\\beta_1)(s+\\beta_2)\\cdots(s+\\beta_k)}.\n",
        "\\end{align}\n",
        "When $0\\leq\\zeta \\leq 1$ it is a straight forward exercise in partial fraction expansion to show that the above expressions reduce to\n",
        "\n",
        "\\begin{align}\n",
        "x_{IC} (t) &=e^{-\\zeta \\omega_nt}\\left(\\frac{\\dot{x}(0)}{\\omega_d}\\cos{(\\omega_dt-\\pi/2)}+\\frac{x(0)}{\\sqrt{1-\\zeta^2}}\\sin{(\\omega_dt+\\phi_{IC})}\\right),\\\\\n",
        "x_{f} (t) &=\\left(|\\alpha|\\,e^{-\\zeta \\omega_n t}\\cos{(\\omega_dt+\\phi)}+\\left(r_1 e^{-\\beta_1 t}+\\cdots+r_k e^{-\\beta_k t}\\right)\\right)\\;,\n",
        "\\end{align}\n",
        "where $\\omega_d=\\omega_n\\sqrt{1-\\zeta^2}$, $\\phi_{IC}=\\arcsin\\left({\\sqrt{1-\\zeta^2}}\\right)$, and the constants $\\alpha$ and $r_i$ are determined by,\n",
        "\n",
        "\\begin{align}\n",
        "\\alpha&=(s+\\lambda_i)G(s)F(s)\\left|_{s=-\\lambda_i}\\right.,\\\\\n",
        "r_i&=(s+\\beta_i)G(s)F(s)\\left|_{s=-\\beta_i}\\right..\n",
        "\\end{align}\n",
        "\n",
        "Below we will plot $x_{IC} (t)$ for various different system parameter conditions."
      ]
    },
    {
      "cell_type": "code",
      "metadata": {
        "id": "5PxDHGQzXSIS"
      },
      "source": [
        "wd=wn*np.sqrt(1-zeta**2); phi_IC=np.arcsin(1-zeta**2); x0=1; xdot0=0;\n",
        "t=np.linspace(0,100,1000);\n",
        "x_IC=np.exp(-zeta*wn*t)*((xdot0/wd)*np.cos(wd*t-np.pi/2)+(x0/(np.sqrt(1-zeta**2)))*np.sin(wd*t+phi_IC))   #np.exp(-zeta*wn*t);"
      ],
      "execution_count": null,
      "outputs": []
    },
    {
      "cell_type": "code",
      "metadata": {
        "id": "sHfNiAuiYiSP"
      },
      "source": [
        "fig = go.Figure()\n",
        "fig.add_trace(go.Scatter(x=t, y=x_IC, mode='lines+markers', name='x'))\n",
        "fig.update_layout(title='Initial Condition Response', xaxis=dict(title='Time / t'), yaxis=dict(title=r'$x_{IC}(t)$'))\n",
        "fig.show()"
      ],
      "execution_count": null,
      "outputs": []
    },
    {
      "cell_type": "markdown",
      "metadata": {
        "id": "562opER9e3id"
      },
      "source": [
        "## A4-Forced Response"
      ]
    },
    {
      "cell_type": "markdown",
      "metadata": {
        "id": "okCxmMc-dKCb"
      },
      "source": [
        "In the case of forced vibrations it suffices to look at only the forced response $x_f(t)$ since the initial condition part of the response dies out when damping is positive.\n",
        "\n",
        "Let us now take a look at the forced part of the response a bit more closely.\n",
        "\\begin{align}\n",
        "x_{f} (t) &=\\left(|\\alpha|\\,e^{-\\zeta \\omega_n t}\\cos{(\\omega_dt+\\phi)}+\\left(r_1 e^{-\\beta_1 t}+\\cdots+r_k e^{-\\beta_k t}\\right)\\right)\\;,\n",
        "\\end{align}\n",
        "where \n",
        "\\begin{align}\n",
        "\\alpha&=(s+\\lambda_i)G(s)F(s)\\left|_{s=-\\lambda_i}\\right.,\\\\\n",
        "r_i&=(s+\\beta_i)G(s)F(s)\\left|_{s=-\\beta_i}\\right..\n",
        "\\end{align}\n",
        "\n",
        "It can be seen that the forced response can be broken up into two parts:\n",
        "\\begin{align}\n",
        "x_f(t)=x_{tr}(t)+x_{ss}(t),\n",
        "\\end{align}\n",
        "where\n",
        "\\begin{align}\n",
        "x_{tr} (t) &=\\left(|\\alpha|\\,e^{-\\zeta \\omega_n t}\\cos{(\\omega_dt+\\phi)}\\right) 1(t),\\\\\n",
        "x_{ss} (t) &=\\left(r_1 e^{-\\beta_1 t}+\\cdots+r_k e^{-\\beta_k t}\\right)\\;1(t).\n",
        "\\end{align}\n",
        "Once again we see that for positive damping the transient part of the response $x_{tr}(t)$ asymptotically tends to zero as $t$ tends to infinity and hence \n",
        "it suffices to only look at the steady state part of the forced response. \n",
        "\n",
        "Let us consider a very particular type of forcing that always arises in the presence of roatary parts in a system.\n",
        "\\begin{align}\n",
        "F(t)=F_0\\,\\cos{(\\omega t)}.\n",
        "\\end{align}\n",
        "Since the Laplace transform of $F(t)$ is \n",
        "\n",
        "\\begin{align}\n",
        "F(s)=F_0\\left(\\frac{s}{s^2+\\omega^2}\\right)=F_0\\left(\\frac{s}{(s+i\\omega)(s-i\\omega)}\\right).\n",
        "\\end{align}\n",
        "\n",
        "Thus it can be shown that the steady state response of the system for sinusoidal forcing is\n",
        "\\begin{align}\n",
        "x_{ss}(t)=\\chi(\\omega)\\,F_0\\,\\cos(\\omega t +\\phi(\\omega))\\:1(t),\n",
        "\\end{align}\n",
        "where\n",
        "\\begin{align}\n",
        "\\chi(\\omega)=\\frac{1/M}{\\sqrt{(\\omega_n^2-\\omega^2)^2+4\\zeta^2\\omega^2\\omega_n^2}}\n",
        "\\end{align}\n",
        "and\n",
        "\\begin{align}\n",
        "\\phi(\\omega)=\\arctan{\\left(\\frac{2\\zeta\\omega\\omega_n}{\\omega_n^2-\\omega^2}\\right)}.\n",
        "\\end{align}\n",
        "Thus we see that the steady state response to sinusoidal forcing is also sinusoidal with frequency of oscillation equal to that of the forcing frequency $\\omega$. However it differs from the forcing in two distinct ways. One is that the amplitude of the steady state solution is $\\chi(\\omega)$ times the magnitude of the forcing while the other is that the phase of the steady state solution is shifted by $\\phi(\\omega)$ from the phase of the forcing. It is also important to note that the amplitude magnification and the phase shift depend on the forcing frequency $\\omega$. We will see that this observation has crucial implications for vibration analysis and control system design.\n",
        "\n",
        "One can show that $\\chi(\\omega)$ is maximum when \n",
        "\\begin{align}\n",
        "\\omega=\\omega_r=\\omega_n\\sqrt{1-2\\zeta^2},\n",
        "\\end{align}\n",
        "and that the maximum amplitude of vibration is given by\n",
        "\\begin{align}\n",
        "{x_{ss}}_{max}=\\frac{F_0/M}{2\\zeta\\omega_n^2\\sqrt{1-\\zeta^2}}.\n",
        "\\end{align}"
      ]
    },
    {
      "cell_type": "markdown",
      "metadata": {
        "id": "7Wb2QQJWgO4v"
      },
      "source": [
        "Amplitude magnification Vs rotational frequancy"
      ]
    },
    {
      "cell_type": "code",
      "metadata": {
        "id": "_h5dgZFxfz61"
      },
      "source": [
        "M=1; wn=1; zeta=0.1; \n",
        "w=np.logspace(-1,1,1000);\n",
        "chi_w=abs((1/M)/(np.sqrt((wn**2-w**2)**2+4*zeta**2*w**2*wn**2)))\n",
        "phi_w=np.arctan(2*zeta*w*wn/(wn**2-w**2))"
      ],
      "execution_count": null,
      "outputs": []
    },
    {
      "cell_type": "code",
      "metadata": {
        "id": "xtYIocNTg0dQ"
      },
      "source": [
        "fig = go.Figure()\n",
        "fig.add_trace(go.Scatter(x=w, y=chi_w, mode='lines+markers', name='x'))\n",
        "fig.update_layout(title='Amplitude Magnification', yaxis=dict(title=r'$\\chi(\\omega)$'), xaxis=dict(title=r'$\\log{\\omega}$', type='log'))\n",
        "fig.show()"
      ],
      "execution_count": null,
      "outputs": []
    },
    {
      "cell_type": "code",
      "metadata": {
        "id": "q_psR4EpkLvS"
      },
      "source": [
        "fig = go.Figure()\n",
        "fig.add_trace(go.Scatter(x=w, y=phi_w, mode='lines+markers', name='x'))\n",
        "fig.update_layout(title='Phase Shift', yaxis=dict(title=r'$\\phi(\\omega)$'), xaxis=dict(title=r'$\\log{\\omega}$', type='log'))\n",
        "fig.show()"
      ],
      "execution_count": null,
      "outputs": []
    },
    {
      "cell_type": "markdown",
      "metadata": {
        "id": "vawzttN175Wh"
      },
      "source": [
        "# Section#2: Example of a 2-DOF Coupled Spring Mass Damper System"
      ]
    },
    {
      "cell_type": "markdown",
      "metadata": {
        "id": "FVb9sUSw75Wi"
      },
      "source": [
        "## A1-Lumped Parameter Model of 2-DOF Spring Mass Damper System"
      ]
    },
    {
      "cell_type": "markdown",
      "metadata": {
        "id": "2cW-BaMG75Wh"
      },
      "source": [
        "In this section we will begin to develop the tools necessary to analyze the vibratory motion of coupled systems such as multi-story buildings, rotary machines mounted on elastic foundations, and multi-rotor shafts. Specifically to keep things simple we will address in detail a system that can be approximated as a 2-DOF coupled spring mass damper system with external forcing.  \n",
        "\n",
        "We first consider the vibration of a coupled spring mass damper system that can be approximated by a system of the form: \n",
        "\n",
        "![tunedmassdamper.png](data:image/png;base64,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)\n",
        "\n"
      ]
    },
    {
      "cell_type": "markdown",
      "metadata": {
        "id": "X25hk--P75Wj"
      },
      "source": [
        "Choosing the equilibrium positions of the masses as the reference points and applying Newton's laws we obtain\n",
        "\\begin{align}\n",
        "m_1\\ddot{x}_1+(c_1+c_2)\\dot{x}_1+(k_1+k_2)x_1 -c_2\\dot{x}_2-k_2x_2 &=&f(t),\\\\\n",
        "m_2\\ddot{x}_2+c_2\\dot{x}_2+k_2x_2-c_2\\dot{x}_1-k_2x_1 &=&0,\n",
        "\\end{align}\n",
        "where we have set $f(t)=p_0\\cos{(\\omega t)}$.\n",
        "We can write the above equations as\n",
        "\\begin{align}\n",
        "\\begin{bmatrix} m_1 & 0\\\\0 & m_2\\end{bmatrix}\\begin{bmatrix} \\ddot{x}_1 \\\\ \\ddot{x}_2\\end{bmatrix}+\n",
        "\\begin{bmatrix} (c_1+c_2) & -c_2\\\\-c_2 & c_2\\end{bmatrix} \\begin{bmatrix}\\dot{x}_1 \\\\ \\dot{x}_2\\end{bmatrix}+\n",
        "\\begin{bmatrix} (k_1+k_2) & -k_2\\\\-k_2 & k_2\\end{bmatrix}\\begin{bmatrix} {x}_1 \\\\ {x}_2\\end{bmatrix} =\n",
        "\\begin{bmatrix} f(t) \\\\ 0\\end{bmatrix}\n",
        "\\end{align}\n",
        "\n",
        "Let \n",
        "\\begin{align}\n",
        "X(t)=\\begin{bmatrix}x_1(t)\\\\ x_2(t)\\end{bmatrix},\\:\\:\\:\\:f(t)=\\begin{bmatrix}f_1(t)\\\\ 0\\end{bmatrix},\\:\\:\\:\\:\n",
        "M=\\begin{bmatrix} m_1 & 0\\\\0 & m_2\\end{bmatrix} ,\\:\\:\\:\\: C=\\begin{bmatrix} (c_1+c_2) & -c_2\\\\-c_2 & c_2\\end{bmatrix} \\:\\:\\:\\:\n",
        "K=\\begin{bmatrix} (k_1+k_2) & -k_2\\\\-k_2 & k_2\\end{bmatrix}.\n",
        "\\end{align}\n",
        "Then we can write the above equations as\n",
        "\\begin{align}\n",
        "M\\ddot{X}+C\\dot{X}+KX=F(t).\n",
        "\\end{align}\n",
        "\n",
        "Notice the similarity with the 1-DOF spring mass damper system. We are interested in solving this $2^{nd}$ order matrix ODE in order to understand the vibratory behavior of the system. We do so in two steps. Recalling the crucial role the undamped natural frequency played in the resonance analysis of the 1-DOF spring mass damper system we first investigate undamped free vibrations of the system and then consider the damped forced vibration behavior of the system.\n"
      ]
    },
    {
      "cell_type": "markdown",
      "metadata": {
        "id": "GTszc5j975Wj"
      },
      "source": [
        "For completeness we also write down the dynamic system form of the model.\n",
        "\\begin{align}\n",
        "\\dot{X}= AX+B\\,f(t),\n",
        "\\end{align}\n",
        "where\n",
        "\\begin{align}\n",
        "X(t)=\\begin{bmatrix} x_1(t)\\\\ x_2(t) \\\\ \\dot{x}_1(t)\\\\ \\dot{x}_2 (t)\\end{bmatrix},\\:\\:\\:\\:\n",
        "B=\\begin{bmatrix}0\\\\ 0\\\\ 1\\\\ 0\\end{bmatrix},\\:\\:\\:\\:\n",
        "A=\\begin{bmatrix} 0 & 0 & 1& 0\\\\ 0 & 0 & 0 &1 \\\\ -(k_1+k_2) & k_2&-(c_1+c_2) & c_2\\\\ k_2 & -k_2 & c_2 & -c_2\n",
        "\\end{bmatrix}\n",
        "\\end{align}"
      ]
    },
    {
      "cell_type": "markdown",
      "metadata": {
        "id": "UnLB-8rg75Wm"
      },
      "source": [
        "### A1.1-Modal Analysis"
      ]
    },
    {
      "cell_type": "markdown",
      "metadata": {
        "id": "Q-_76WxR75Wn"
      },
      "source": [
        "In vibration analysis we are typically interested in near resonant conditions. That is, in cases where the system is very lightly damped and the forcing frequency is close to the resonance frequencies of the system. Since the behavior of the system depends smoothly on the damping ratios we see that the real behavior of the system will thus be described in a qualitative and approximately quantitative sense quite well by analyzing the case where the damping is zero. \n",
        "\n",
        "Thus in this section we will assume that the damping is negligible and hence that the system equations are approximately given by\n",
        "\\begin{align}\n",
        "\\ddot{X}+\\Omega X=M^{-1}F(t),\n",
        "\\end{align}\n",
        "where\n",
        "\\begin{align}\n",
        "\\Omega=M^{-1}K=\n",
        "\\begin{bmatrix}\\omega_{n1}^2(1+\\alpha \\mu)& -\\alpha\\mu \\omega_{n_1}^2\\\\ -\\alpha\\omega_{n1}^2 & \\alpha\\omega_{n1}^2\\end{bmatrix}.\n",
        "\\end{align}\n",
        "with\n",
        "\\begin{align}\n",
        "\\omega_{n1}^2=\\frac{k_1}{m_1},\\:\\:\\:\\omega_{n2}^2=\\frac{k_2}{m_2},\\:\\:\\:2\\zeta_1\\omega_{n1}=\\frac{c_1}{m_1},\\:\\:\\:2\\zeta_2\\omega_{n2}=\\frac{c_2}{m_2},\n",
        "\\:\\:\\:\\mu=\\frac{m_2}{m_1},\\:\\:\\:\\alpha=\\frac{\\omega_{n_2}^2}{\\omega_{n_1}^2}\n",
        "\\end{align}\n",
        "\n",
        "Let $\\omega_1^2,\\omega_2^2$ be the eignevalues of $\\Omega$ and \n",
        "\\begin{align*}\n",
        "\\bar{X}_{m_1}&\\triangleq \\begin{bmatrix}\\bar{x}_{11}\\\\ \\bar{x}_{21}\\end{bmatrix},\\:\\:\\:\\:\\:\\:\n",
        "\\bar{X}_{m_2}\\triangleq \\begin{bmatrix} \\bar{x}_{12}\\\\ \\bar{x}_{22} \\end{bmatrix}\n",
        "\\end{align*}\n",
        "be the corresponding eigenvectors."
      ]
    },
    {
      "cell_type": "markdown",
      "metadata": {
        "id": "WsGxF8R575Wn"
      },
      "source": [
        "#### A1.1.1-Symbolic Computation of the Natural Frequancies and Modeshapes"
      ]
    },
    {
      "cell_type": "code",
      "metadata": {
        "id": "gyYtln9u75Wn"
      },
      "source": [
        "from sympy import symbols\n",
        "from sympy import *"
      ],
      "execution_count": null,
      "outputs": []
    },
    {
      "cell_type": "code",
      "metadata": {
        "id": "UzBNeoL275Wn"
      },
      "source": [
        "m1, omega, omega_n1, mu, alpha=symbols('m1 omega omega_n1 mu alpha');\n",
        "Omega=Matrix([[omega_n1**2*(1+alpha*mu), -alpha*mu*omega_n1**2],[-alpha*omega_n1**2, alpha*omega_n1**2]]);"
      ],
      "execution_count": null,
      "outputs": []
    },
    {
      "cell_type": "markdown",
      "metadata": {
        "id": "YSLIWZay75Wn"
      },
      "source": [
        "###### Symbolic computation of the Eignevalues of $\\Omega$"
      ]
    },
    {
      "cell_type": "code",
      "metadata": {
        "id": "XJj2m4I-75Wn"
      },
      "source": [
        "Omega.eigenvals()"
      ],
      "execution_count": null,
      "outputs": []
    },
    {
      "cell_type": "code",
      "metadata": {
        "id": "JD59lYJgAO9q"
      },
      "source": [
        "Omega.eigenvals()"
      ],
      "execution_count": null,
      "outputs": []
    },
    {
      "cell_type": "code",
      "metadata": {
        "id": "6coc32xxALbw"
      },
      "source": [
        "latex()"
      ],
      "execution_count": null,
      "outputs": []
    },
    {
      "cell_type": "markdown",
      "metadata": {
        "id": "cN6nPM5c75Wn"
      },
      "source": [
        "##### Symbolic computation of the Natural Frequencies $\\omega_1$ and $\\omega_2$"
      ]
    },
    {
      "cell_type": "code",
      "metadata": {
        "id": "ggKbfUna75Wn"
      },
      "source": [
        "omega_1_sq=[*Omega.eigenvals()][0]\n",
        "omega_2_sq=[*Omega.eigenvals()][1]"
      ],
      "execution_count": null,
      "outputs": []
    },
    {
      "cell_type": "code",
      "metadata": {
        "id": "WluAkGaH75Wn"
      },
      "source": [
        "omega_1=sqrt(omega_1_sq);\n",
        "omega_2=sqrt(omega_2_sq);"
      ],
      "execution_count": null,
      "outputs": []
    },
    {
      "cell_type": "code",
      "metadata": {
        "id": "qfFvoF7zAZyo"
      },
      "source": [
        "omega_1"
      ],
      "execution_count": null,
      "outputs": []
    },
    {
      "cell_type": "code",
      "metadata": {
        "id": "7Y1McYsG75Wn"
      },
      "source": [
        "latex(omega_1_sq)"
      ],
      "execution_count": null,
      "outputs": []
    },
    {
      "cell_type": "code",
      "metadata": {
        "id": "kxNfSf2175Wn"
      },
      "source": [
        "latex(omega_2_sq)"
      ],
      "execution_count": null,
      "outputs": []
    },
    {
      "cell_type": "markdown",
      "metadata": {
        "id": "g1WRZsCD75Wo"
      },
      "source": [
        "The eigenvalues are\n",
        "\\begin{align}\n",
        "\\omega_{1}^2&=\\frac{\\omega_{n1}^{2} \\left(\\alpha \\mu + \\alpha + 1\\right)}{2} - \\frac{\\omega_{n1}^{2} \\sqrt{\\alpha^{2} \\mu^{2} + 2 \\alpha^{2} \\mu + \\alpha^{2} + 2 \\alpha \\mu - 2 \\alpha + 1}}{2}=\\frac{\\omega_{n1}^{2}}{2}\\left( \\left(\\alpha \\mu + \\alpha + 1\\right)-\\sqrt{\\left(\\alpha \\mu + \\alpha + 1\\right)^2-4\\alpha}\\right)\\\\\n",
        "\\omega_{2}^2&=\\frac{\\omega_{n1}^{2} \\left(\\alpha \\mu + \\alpha + 1\\right)}{2} + \\frac{\\omega_{n1}^{2} \\sqrt{\\alpha^{2} \\mu^{2} + 2 \\alpha^{2} \\mu + \\alpha^{2} + 2 \\alpha \\mu - 2 \\alpha + 1}}{2}=\\frac{\\omega_{n1}^{2}}{2}\\left( \\left(\\alpha \\mu + \\alpha + 1\\right)+\\sqrt{\\left(\\alpha \\mu + \\alpha + 1\\right)^2-4\\alpha}\\right)\n",
        "\\end{align}"
      ]
    },
    {
      "cell_type": "markdown",
      "metadata": {
        "id": "KRST5wRH75Wo"
      },
      "source": [
        "##### Symbolic computation of the eignevectors $\\bar{X}_{m_1}$ and $\\bar{X}_{m_2}$"
      ]
    },
    {
      "cell_type": "code",
      "metadata": {
        "id": "rjXJQfgp75Wo"
      },
      "source": [
        "Xbar_m1=Omega.eigenvects()[0][2][0]\n",
        "Xbar_m2=Omega.eigenvects()[1][2][0]"
      ],
      "execution_count": null,
      "outputs": []
    },
    {
      "cell_type": "code",
      "metadata": {
        "id": "Iv4frMDn75Wo"
      },
      "source": [
        "latex(Xbar_m1)"
      ],
      "execution_count": null,
      "outputs": []
    },
    {
      "cell_type": "code",
      "metadata": {
        "id": "i01sDfmD75Wo"
      },
      "source": [
        "latex(Xbar_m2)"
      ],
      "execution_count": null,
      "outputs": []
    },
    {
      "cell_type": "markdown",
      "metadata": {
        "id": "pSYbZ1Vz75Wo"
      },
      "source": [
        "The corresponding eigenvectors are:\n",
        "\\begin{align}\n",
        "\\bar{X}_{m_1}&=\n",
        "\\begin{bmatrix}\\frac{2 \\alpha \\mu}{\\alpha \\mu - \\alpha + \\sqrt{\\alpha^{2} \\mu^{2} + 2 \\alpha^{2} \\mu + \\alpha^{2} + 2 \\alpha \\mu - 2 \\alpha + 1} + 1}\\\\1\\end{bmatrix}\\\\\n",
        "\\bar{X}_{m_2}&=\n",
        "\\begin{bmatrix}\\frac{2 \\alpha \\mu}{\\alpha \\mu - \\alpha - \\sqrt{\\alpha^{2} \\mu^{2} + 2 \\alpha^{2} \\mu + \\alpha^{2} + 2 \\alpha \\mu - 2 \\alpha + 1} + 1}\\\\1\\end{bmatrix}\n",
        "\\end{align}"
      ]
    },
    {
      "cell_type": "markdown",
      "metadata": {
        "id": "QC5u2O7l75Wo"
      },
      "source": [
        "#### A1.1.2-Normal form transformation"
      ]
    },
    {
      "cell_type": "markdown",
      "metadata": {
        "id": "3aoWeQvb75Wo"
      },
      "source": [
        "Let $T\\triangleq [\\bar{X}_{m_1}\\:\\:\\:\\bar{X}_{m_2}]$\n",
        "\n",
        "Then we see that $\\Omega T=TD$ where\n",
        "\\begin{align}\n",
        "D\\triangleq \\begin{bmatrix}\\omega_1^2 & 0\\\\0 &\\omega_2^2\n",
        "\\end{bmatrix}.\n",
        "\\end{align}\n",
        "\n",
        "Thus if we define $Y\\triangleq Tz$ where $z=[z_1\\:\\:\\:z_2]^T$,\n",
        "then the equations above reduce to the form $\\ddot{z}+T^{-1}\\Omega Tz=\\ddot{z}+Dz=T^{-1}M^{-1}F$.  Then these equations take the explicit form\n",
        "\\begin{align*}\n",
        "\\ddot{z}_1+\\omega_1^2z_1&=\\frac{\\gamma_1}{m_1}\\,f(t),\\\\\n",
        "\\ddot{z}_2+\\omega_2^2z_2&=\\frac{\\gamma_2}{m_1}\\,f(t).\n",
        "\\end{align*}\n",
        "where\n",
        "\\begin{align}\n",
        "T^{-1}\\begin{bmatrix}\n",
        "1\\\\0\n",
        "\\end{bmatrix}&=\\begin{bmatrix}\n",
        "\\gamma_1\\\\\\gamma_2\n",
        "\\end{bmatrix}\n",
        "\\end{align}\n",
        "\n",
        "Thus we see that for lightly damped systems the system response of the system is given by\n",
        "\\begin{align*}\n",
        "X(t)=\\begin{bmatrix}x_1(t) \\\\x_2(t)\n",
        "\\end{bmatrix}&\\approx\n",
        "z_1(t)\\begin{bmatrix}\\bar{x}_{11}\\\\ \\bar{x}_{21}\\end{bmatrix}+\n",
        "z_2(t)\\begin{bmatrix} \\bar{x}_{12}\\\\ \\bar{x}_{22} \\end{bmatrix}\n",
        "\\end{align*}\n",
        "where $z_1(t)$ and $z_2(t)$ are the solutions of the uncoupled forced spring mass damper systems shown above."
      ]
    },
    {
      "cell_type": "markdown",
      "metadata": {
        "id": "UOX_Br-ZlhYQ"
      },
      "source": [
        "##### Sinusoidal Response: $f(t)=f_0\\cos{\\omega t}$"
      ]
    },
    {
      "cell_type": "markdown",
      "metadata": {
        "id": "BkaX-Bpx75Wo"
      },
      "source": [
        "Since $X=Tz$ we have that for a system with negligible damping\n",
        "\\begin{align}\n",
        "\\begin{bmatrix}\n",
        "x(t)\\\\\n",
        "\\theta(t)\n",
        "\\end{bmatrix}\n",
        "\\approx Y=z_1(t)\\,\\bar{X}_{m_1}+z_2(t)\\,\\bar{X}_{m_2}.\n",
        "\\end{align}\n",
        "Using Laplace transforms we find that the steady state reponse (once the transients have died out) of $\\ddot{z}_i+\\omega_i^2z_i=\\gamma_i f(t)\\,/m_1$ is given by\n",
        "\\begin{align}\n",
        "z_i(t)&=\\mathcal{L}^{-1}\\left\\{\\frac{\\gamma_i/m_1}{s^2+\\omega_i^2}\\,F(s)\\right\\}=\n",
        "f_0\\gamma_i\\mathcal{L}^{-1}\\left\\{\\frac{1}{s^2+\\omega_i^2}\\,\\frac{s}{s^2+\\omega^2}\\right\\}=\n",
        "\\frac{\\gamma_i}{m_1}f_0\\,\\chi_i(\\omega)\\cos{(\\omega t +\\phi_i(\\omega))}\n",
        "\\end{align}\n",
        "where\n",
        "\\begin{align*}\n",
        "\\chi_i(\\omega)&=\\left|\\frac{1/m_1}{-\\omega^2+\\omega^2_i}\\right|,\\\\\n",
        "\\phi_i(\\omega)&={\\large\\angle}\\frac{1}{-\\omega^2+\\omega^2_i}\n",
        "\\end{align*}\n",
        "\n",
        "Thus we see that for sinusoidal forcing, $f(t)=f_0\\cos{\\omega t}$,\n",
        "\n",
        "\\begin{align*}\n",
        "\\begin{bmatrix}\n",
        "x(t)\\\\\n",
        "\\theta(t)\n",
        "\\end{bmatrix} &\\approx \\gamma_1f_0\\,\\chi_1(\\omega)\\cos{(\\omega t +\\phi_1(\\omega))}{\\bar{X}_{m_1}}+\\gamma_2f_0\\,\\chi_2(\\omega)\\cos{(\\omega t +\\phi_2(\\omega))}{\\bar{X}_{m_2}}.\n",
        "\\end{align*} \n",
        "\n",
        "The expression for $\\chi_i(\\omega)$ shown above clearly shows that the amplitude of the motion is magnified by an extremely large value for exciting frequwncies $\\omega$ near the frequency $\\omega_i$. This phenomena is called **resonance**. For this system there exisits two resonance frequencies $\\omega_1, \\omega_2$. \n",
        "\n",
        "Since when $\\omega\\approx \\omega_1$ the amplitude magnification $\\chi_1(\\omega) >>\\chi_2(\\omega)$ and when $\\omega\\approx \\omega_2$ the amplitude magnification $\\chi_1(\\omega) <<\\chi_2(\\omega)$ we see that when $\\omega\\approx \\omega_i$\n",
        "\n",
        "\\begin{align*}\n",
        "\\begin{bmatrix}\n",
        "x(t)\\\\\n",
        "\\theta(t)\n",
        "\\end{bmatrix}\n",
        "&\\approx f_0\\gamma_i\\chi_i(\\omega)\\cos{(\\omega t +\\phi_i(\\omega))}{\\bar{X}_{m_i}}\n",
        "\\end{align*} \n",
        "In such a case the *shape* of the motion is given by the eignevector $\\bar{X}_{m_i}$\n",
        "\n"
      ]
    },
    {
      "cell_type": "markdown",
      "metadata": {
        "id": "BbVzuUch75Wp"
      },
      "source": [
        "### A1.2-The Frequency Response of the System"
      ]
    },
    {
      "cell_type": "markdown",
      "metadata": {
        "id": "XuMmqyGP75Wp"
      },
      "source": [
        "Taking the Laplace transform of\n",
        "\\begin{align}\n",
        "Y(t)=z_1(t)\\,\\bar{X}_{m_1}+z_2(t)\\,\\bar{X}_{m_2}.\n",
        "\\end{align}\n",
        "we have\n",
        "\\begin{align}\n",
        "\\mathcal{L}\\left\\{\\begin{bmatrix}\n",
        "x(t)\\\\\n",
        "\\theta(t)\n",
        "\\end{bmatrix}\\right\\}\n",
        "&= \\mathcal{L}\\left\\{Y(t)\\right\\}=\\mathcal{L}\\left\\{z_1(t)\\right\\}\\,\\bar{X}_{m_1}+\\mathcal{L}\\left\\{z_2(t)\\right\\}\\,\\bar{X}_{m_2},\\\\\n",
        "&=\\left(\\frac{\\gamma_1/m_1}{s^2+\\omega_1^2}F(s)\\right)\\,\\bar{X}_{m_1}+\\left(\\frac{\\gamma_2/m_1}{s^2+\\omega_2^2}F(s)\\right)\\,\\bar{X}_{m_2}\\\\\n",
        "&=\\frac{1}{m_1}\\begin{bmatrix} \\frac{(\\gamma_1\\bar{x}_{11}+\\gamma_2\\bar{x}_{12})s^2+(\\gamma_1\\bar{x}_{11}\\omega_2^2+\\gamma_2\\bar{x}_{12}\\omega_1^2)}{(s^2+\\omega_1^2)(s^2+\\omega_2^2)}\\\\\n",
        "\\frac{(\\gamma_1\\bar{x}_{21}+\\gamma_2\\bar{x}_{22})s^2+(\\gamma_1\\bar{x}_{21}\\omega_2^2+\\gamma_2\\bar{x}_{22}\\omega_1^2)}{(s^2+\\omega_1^2)(s^2+\\omega_2^2)}\n",
        "  \\end{bmatrix}F(s).\n",
        "\\end{align}\n",
        "\n",
        "Let\n",
        "\\begin{align}\n",
        "G_1(s)&=\\frac{(\\gamma_1\\bar{x}_{11}+\\gamma_2\\bar{x}_{12})s^2+(\\gamma_1\\bar{x}_{11}\\omega_2^2+\\gamma_2\\bar{x}_{12}\\omega_1^2)}{m_1(s^2+\\omega_1^2)(s^2+\\omega_2^2)}\\\\\n",
        "G_2(s)&=\\frac{(\\gamma_1\\bar{x}_{21}+\\gamma_2\\bar{x}_{22})s^2+(\\gamma_1\\bar{x}_{21}\\omega_2^2+\\gamma_2\\bar{x}_{22}\\omega_1^2)}{m_1(s^2+\\omega_1^2)(s^2+\\omega_2^2)}.\n",
        "\\end{align}\n",
        "\n",
        "\n",
        "Then from above we see that $\\mathcal{L}\\{x(t)\\}=X(s)=G_x(s)F(s)$ and $\\mathcal{L}\\{\\theta(t)\\}=\\Theta(s)=G_\\theta(s)F(s)$. Thus when $f(t)=f_0\\cos{\\omega t}$ we see that the steady stat reponses (for negligibly damped systems) are approximately given by\n",
        "\\begin{align}\n",
        "x(t)&\\approx f_0\\chi_1(\\omega)\\cos{\\left(\\omega t+\\phi_1(\\omega)\\right)}\\\\\n",
        "\\theta(t)&\\approx f_0\\chi_2(\\omega)\\cos{\\left(\\omega t+\\phi_2(\\omega)\\right)}\n",
        "\\end{align}\n",
        "where\n",
        "\\begin{align}\n",
        "\\chi_1(\\omega)&=\\left|G_1(i\\omega)\\right|,\\:\\:\\:\\:\\:\\phi_1(\\omega)=\\angle G_1(i\\omega)\\\\\n",
        "\\chi_2(\\omega)&=\\left|G_2(i\\omega)\\right|,\\:\\:\\:\\:\\:\\phi_2(\\omega)=\\angle G_2(i\\omega)\n",
        "\\end{align}"
      ]
    },
    {
      "cell_type": "code",
      "metadata": {
        "id": "muHetvGSuuA9"
      },
      "source": [
        "T=Matrix([Xbar_m1.T,Xbar_m2.T]).T"
      ],
      "execution_count": null,
      "outputs": []
    },
    {
      "cell_type": "code",
      "metadata": {
        "id": "U_gaHSqevhdw"
      },
      "source": [
        "gam1=simplify(1/simplify(T[0,0]-T[0,1]));\n",
        "gam2=-gam1;"
      ],
      "execution_count": null,
      "outputs": []
    },
    {
      "cell_type": "code",
      "metadata": {
        "id": "cfGEEBqY4P_S"
      },
      "source": [
        "Chi_1_omega=(1/m1)*simplify(abs((-(gam1*Xbar_m1[0]+gam2*Xbar_m2[0])*omega**2+(gam1*Xbar_m1[0]*omega_2**2+gam2*Xbar_m2[0]*omega_1**2))/((omega_1**2-omega**2)*(omega_2**2-omega**2))));\n",
        "Chi_2_omega=(1/m1)*simplify(abs((-(gam1*Xbar_m1[1]+gam2*Xbar_m2[1])*omega**2+(gam1*Xbar_m1[1]*omega_2**2+gam2*Xbar_m2[1]*omega_1**2))/((omega_1**2-omega**2)*(omega_2**2-omega**2))));"
      ],
      "execution_count": null,
      "outputs": []
    },
    {
      "cell_type": "code",
      "metadata": {
        "id": "0PldwnGd7lWA"
      },
      "source": [
        "latex(Chi_1_omega)"
      ],
      "execution_count": null,
      "outputs": []
    },
    {
      "cell_type": "code",
      "metadata": {
        "id": "ONat7ZK__IKN"
      },
      "source": [
        "latex(Chi_2_omega)"
      ],
      "execution_count": null,
      "outputs": []
    },
    {
      "cell_type": "markdown",
      "metadata": {
        "id": "C-OYIske_NI1"
      },
      "source": [
        "The Frequency Response of the system\n",
        "\n",
        "\\begin{align}\n",
        "\\chi_1(\\omega)&=\\frac{1}{m_1}\\left|{\\frac{\\alpha \\omega_{n1}^{2} - \\omega^{2}}{\\alpha \\mu \\omega^{2} \\omega_{n1}^{2} + \\alpha \\omega^{2} \\omega_{n1}^{2} - \\alpha \\omega_{n1}^{4} - \\omega^{4} + \\omega^{2} \\omega_{n1}^{2}}}\\right|,\\\\\n",
        "\\chi_2(\\omega)&=\\frac{1}{m_1}\\left|{\\frac{\\alpha \\omega_{n1}^{2}}{\\alpha \\mu \\omega^{2} \\omega_{n1}^{2} + \\alpha \\omega^{2} \\omega_{n1}^{2} - \\alpha \\omega_{n1}^{4} - \\omega^{4} + \\omega^{2} \\omega_{n1}^{2}}}\\right|\n",
        "\\end{align}"
      ]
    },
    {
      "cell_type": "markdown",
      "metadata": {
        "id": "Tdn7r8kQUCy_"
      },
      "source": [
        "Notice that when $\\omega_{n_2}\\approx \\omega_{n_1}$ (ie. $\\alpha\\approx 1$) the amplitude magnification of the first mass $m_1$ is very close to zero. **We will see in the next section that this observation is of practical significance with respect to vibration mitigation.**"
      ]
    },
    {
      "cell_type": "markdown",
      "metadata": {
        "id": "wC35uyNb75Wp"
      },
      "source": [
        "### A1.3-Numerical Computation of the Modes and the Frequency Response\n"
      ]
    },
    {
      "cell_type": "code",
      "metadata": {
        "id": "oV_BwHhP75Wp"
      },
      "source": [
        "m_1=1.; m_2=1.; k_1=1.; k_2=1.; c_1=0.1; c_2=0.1;\n",
        "wn1sq=k_1/m_1;\n",
        "wn2sq=k_2/m_2;\n",
        "mu=m_2/m_1;\n",
        "al=wn2sq/wn1sq"
      ],
      "execution_count": null,
      "outputs": []
    },
    {
      "cell_type": "code",
      "metadata": {
        "id": "ACvpx9pJ75Wp"
      },
      "source": [
        "Omega=np.array([[wn1sq*(1+al*mu), -al*mu*wn1sq],[-al*wn1sq, al*wn1sq]])\n",
        "S, V=linalg.eig(Omega);\n",
        "w2=np.sqrt(S[0]); w1=np.sqrt(S[1]);\n",
        "Xm2=V.T[0]; Xm1=V.T[1];\n",
        "T=np.array([Xm1,Xm2]).T\n",
        "linalg.inv(T)\n",
        "gam=linalg.inv(T) @ np.array([1, 0])\n",
        "gam1=gam[0]; gam2=gam[1];"
      ],
      "execution_count": null,
      "outputs": []
    },
    {
      "cell_type": "code",
      "metadata": {
        "id": "W0WlGo6d75Wp"
      },
      "source": [
        "[w1, w2]"
      ],
      "execution_count": null,
      "outputs": []
    },
    {
      "cell_type": "code",
      "metadata": {
        "id": "Na09y4fE75Wp"
      },
      "source": [],
      "execution_count": null,
      "outputs": []
    },
    {
      "cell_type": "markdown",
      "metadata": {
        "id": "4NevYOL575Wp"
      },
      "source": [
        "##### The Mode Shape"
      ]
    },
    {
      "cell_type": "code",
      "metadata": {
        "id": "31wSsEGX75Wp"
      },
      "source": [
        "fig = go.Figure()\n",
        "\n",
        "fig.add_trace(go.Scatter(mode=\"markers\", x=['$x_1$','$x_2$'], y=Xm1, name=r'$\\omega\\approx \\omega_1$' ))\n",
        "fig.add_trace(go.Scatter(mode=\"markers\", x=['$x_1$','$x_2$'], y=Xm2, name=r'$\\omega\\approx \\omega_2$' ))\n",
        "\n",
        "fig.update_xaxes(title='Variable') # log range: 10^0=1, 10^5=100000\n",
        "fig.update_yaxes(title='Maximum Amplitude') # linear range\n",
        "fig.show()"
      ],
      "execution_count": null,
      "outputs": []
    },
    {
      "cell_type": "markdown",
      "metadata": {
        "id": "odpk4Hv375Wq"
      },
      "source": [
        "##### Frequency Response of the System"
      ]
    },
    {
      "cell_type": "code",
      "metadata": {
        "id": "8nidD0HW75Wq"
      },
      "source": [
        "w=np.logspace(-1,1,1000);\n",
        "Chi_1_omega=abs((-(gam1*Xm1[0]+gam2*Xm2[0])*w**2+(gam1*Xm1[0]*w2**2+gam2*Xm2[0]*w1**2))/((w1**2-w**2)*(w2**2-w**2)))/m_1;\n",
        "Chi_2_omega=abs((-(gam1*Xm1[1]+gam2*Xm2[1])*w**2+(gam1*Xm1[1]*w2**2+gam2*Xm2[1]*w1**2))/((w1**2-w**2)*(w2**2-w**2)))/m_1;"
      ],
      "execution_count": null,
      "outputs": []
    },
    {
      "cell_type": "code",
      "metadata": {
        "id": "ERNqKjL975Wq"
      },
      "source": [
        "fig = go.Figure()\n",
        "\n",
        "fig.add_trace(go.Scatter(mode=\"markers\", x=w, y=Chi_1_omega, name=r'$\\chi_1(\\omega)$' ))\n",
        "fig.add_trace(go.Scatter(mode=\"markers\", x=w, y=Chi_2_omega, name=r'$\\chi_2(\\omega)$' ))\n",
        "\n",
        "fig.update_layout(xaxis=dict(type=\"log\", title=r'$\\log{\\omega}$'), yaxis=dict(range=[0,10] ,title=r'$\\chi(\\omega)$'), title='Amplitude Frequency Response')\n",
        "fig.show()"
      ],
      "execution_count": null,
      "outputs": []
    },
    {
      "cell_type": "markdown",
      "metadata": {
        "id": "f_0TMnSVBY5a"
      },
      "source": [
        "## A2-Tuned Mass Damper Design"
      ]
    },
    {
      "cell_type": "markdown",
      "metadata": {
        "id": "dJkj8QoEOUt8"
      },
      "source": [
        "Let us consider the problem of resonance mitigation in a machine with an unbalanced rotary component.  The unbalance will give rise to periodic forcing on the mountings of the machine with frequency equal to the rotational frequency of the machine.\n",
        "\n",
        "The operating conditions of the machine may require that the frequency take values in a certain finite range of frequencies. If the natural frequency of the system comprising the machine plus mounts falls in this range,  due to resonance, the machine will exhibit large amplitude vibrations when the operating frequency is close to this natural frequncy. How does one devise a method to reduce this large amplitude of vibration for the entire range of operating frequencies of the machine?\n",
        "\n",
        "![5ec2e1b1ac.jpg](data:image/jpeg;base64,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)\n"
      ]
    },
    {
      "cell_type": "markdown",
      "metadata": {
        "id": "72A33A_yWGwB"
      },
      "source": [
        "\n",
        "On a first approximation, the machine acted on by this forcing can be modeled as a simple 1-DOF spring mass system on which a force $f(t)$ is acting. \n",
        "\n",
        "In the previous section we saw that if we connect another spring mass system with natural frequency close to that of the machine then the amplitude of vibration of the  machine becomes zero for a forcing frequncy equal to the nautaral frequancy of the machine.\n",
        "\n",
        "However the addition of this second system makes the composite system a 2-DOF system. The composite 2-DOF  has two modes of vibration and hence two resonance frequencies.  If these two resonance frequencies fall inside the operating frequencies of the machine resonance will occur now at two operating conditions. Thus the challenge is to design this added system so that the natural frequencies of the composite system lie well outside the operating region of the machine.\n",
        "\n",
        "We see how one can proceed to do so in the following. Let $\\omega_{n1}$ be the natural frequency of the machine and let $\\omega_{n2}$ be the natural frequency of the added system."
      ]
    },
    {
      "cell_type": "markdown",
      "metadata": {
        "id": "zEheKX-SXO_o"
      },
      "source": [
        "Recall \n",
        "\\begin{align}\n",
        "\\chi_1(\\omega)=\\left|\\frac{{(\\alpha\\omega_{n_1}^2-\\omega^2)/ m_1}}\n",
        "{{\\left(\\omega^4-(1+\\alpha+\\mu\\alpha)\\omega_{n_1}^2\\omega^2+\\alpha\\omega_{n_1}^4\\right)}}\\right|,\n",
        "\\end{align}\n",
        "\\begin{align}\n",
        "\\chi_2(\\omega)=\\left|\\frac{{\\alpha\\omega_{n_1}^2/ m_1}}\n",
        "{{\\left(\\omega^4-(1+\\alpha+\\mu\\alpha)\\omega_{n_1}^2\\omega^2+\\alpha\\omega_{n_1}^4\\right)}}\\right|,\n",
        "\\end{align}\n",
        "Furtermore we also have that the resonance frequencies of the coupled system are given by\n",
        "\\begin{align}\n",
        "\\omega_{1}^2&=\\frac{\\omega_{n1}^{2}}{2}\\left( \\left(\\alpha \\mu + \\alpha + 1\\right)-\\sqrt{\\left(\\alpha \\mu + \\alpha + 1\\right)^2-4\\alpha}\\right)=\\frac{\\omega_{n1}^{2}}{2}\\left(\\alpha \\mu + \\alpha + 1\\right)\\left( 1-\\sqrt{1-\\frac{4\\alpha}{\\left(\\alpha \\mu + \\alpha + 1\\right)^2}}\\right)\\\\\n",
        "\\omega_{2}^2&=\\frac{\\omega_{n1}^{2}}{2}\\left( \\left(\\alpha \\mu + \\alpha + 1\\right)+\\sqrt{\\left(\\alpha \\mu + \\alpha + 1\\right)^2-4\\alpha}\\right)=\\frac{\\omega_{n1}^{2}}{2}\\left(\\alpha \\mu + \\alpha + 1\\right)\\left( 1+\\sqrt{1-\\frac{4\\alpha}{\\left(\\alpha \\mu + \\alpha + 1\\right)^2}}\\right)\n",
        "\\end{align}\n",
        "\n",
        "\n",
        "From the abobe expression we find that the steady state amplitude of mass $m_1$ reaches zero when $\\omega^2=\\alpha \\omega_{n1}^2$ and that the amplitude of vibration of the main mass $m_1$ remains small within a certain frequency range that falls between the interval $\\omega_1<\\omega < \\omega_2$. Since the original resonance frequancy is $\\omega_{n_1}$ and the whole exersie is to ensure that we be able to operate the system safely around this frequency we have no choice but to set $\\alpha\\approx 1$.\n",
        "\n",
        "**Thus the tuned mass damper design objective reduces to that of finding $\\mu$ such that the range of operational frequencies of the machine falls well within the interval  $\\omega_1<\\omega < \\omega_2$.** However from a practical point of view it is also important that $\\mu$ is quite small.\n",
        "\n",
        "Below we numertically investigate the behavior of $\\omega_1$ and $\\omega_2$ as $\\alpha$ and $\\mu$ are varied."
      ]
    },
    {
      "cell_type": "code",
      "metadata": {
        "id": "W8LlawpML-GX"
      },
      "source": [
        "alPha0 = np.linspace(0, 2, 100)\n",
        "mu0 = np.linspace(0, 2, 100)\n",
        "alPha, mu = np.meshgrid(alPha0, mu0)\n",
        "w1=0.5*(alPha*mu+alPha+1)*(1-np.sqrt(1-4*alPha/(alPha*mu+alPha+1)**2))\n",
        "w2=0.5*(alPha*mu+alPha+1)*(1+np.sqrt(1-4*alPha/(alPha*mu+alPha+1)**2))"
      ],
      "execution_count": null,
      "outputs": []
    },
    {
      "cell_type": "code",
      "metadata": {
        "id": "gReA3WreMFby"
      },
      "source": [
        "fig = go.Figure()\n",
        "\n",
        "fig.add_trace(go.Surface(z=w1))\n",
        "fig.add_trace(go.Surface(z=w2))\n",
        "\n",
        "#fig.update_layout(title='Natural Frequancies', autosize=False, width=500, height=500, margin=dict(l=65, r=50, b=65, t=90))\n",
        "fig.update_layout(title='Natural Frequancies', autosize=False, width=500, height=500, scene=dict(xaxis=dict(title=r'\\alpha'), yaxis=dict(title=r'\\mu')))\n",
        "\n",
        "fig.show()"
      ],
      "execution_count": null,
      "outputs": []
    },
    {
      "cell_type": "code",
      "metadata": {
        "id": "rFRXbU7HTqx0"
      },
      "source": [
        "mu=.01;\n",
        "alPha=np.linspace(0,2,num=100);\n",
        "xx=np.sqrt(0.5*(alPha*mu+alPha+1)*(1-np.sqrt(1-4*alPha/(alPha*mu+alPha+1)**2)))\n",
        "yy=np.sqrt(0.5*(alPha*mu+alPha+1)*(1+np.sqrt(1-4*alPha/(alPha*mu+alPha+1)**2)))"
      ],
      "execution_count": null,
      "outputs": []
    },
    {
      "cell_type": "code",
      "metadata": {
        "id": "iq9BxVk3-in8"
      },
      "source": [
        "fig = go.Figure()\n",
        "\n",
        "fig.add_trace(go.Scatter(mode=\"lines\", x=alPha, y=xx, name=r'$\\omega_1^2/\\omega_{n_1}^2$'))\n",
        "fig.add_trace(go.Scatter(mode=\"lines\", x=alPha, y=yy, name=r'$\\omega_2^2/\\omega_{n_1}^2$'))\n",
        "\n",
        "fig.update_layout(title=r'$\\mu=0.01$', xaxis=dict(title=r'$\\alpha$'),yaxis=dict(title=r'$0.5\\left(\\alpha \\mu + \\alpha + 1\\right)\\left(1\\pm \\sqrt{\\left(1-\\frac{4\\alpha}{\\left(\\alpha \\mu + \\alpha + 1\\right)^2}\\right)}\\right)$'))\n",
        "fig.show()"
      ],
      "execution_count": null,
      "outputs": []
    },
    {
      "cell_type": "code",
      "metadata": {
        "id": "iQnTkxs1hpxH"
      },
      "source": [
        "al=1.;\n",
        "mU=np.linspace(0,1,num=100);\n",
        "xx=0.5*((al*mU+al+1)*(1-np.sqrt(1-4*al/(al*mU+al+1)**2)))\n",
        "yy=0.5*((al*mU+al+1)*(1+np.sqrt(1-4*al/(al*mU+al+1)**2)))"
      ],
      "execution_count": null,
      "outputs": []
    },
    {
      "cell_type": "code",
      "metadata": {
        "id": "_i1qEaUoiJwA"
      },
      "source": [
        "fig = go.Figure()\n",
        "\n",
        "fig.add_trace(go.Scatter(mode=\"lines\", x=mU, y=xx, name=r'$\\omega_1^2/\\omega_{n_1}^2$'))\n",
        "fig.add_trace(go.Scatter(mode=\"lines\", x=mU, y=yy, name=r'$\\omega_2^2/\\omega_{n_1}^2$'))\n",
        "\n",
        "fig.update_layout(title=r'$\\alpha=1$', xaxis=dict(title=r'$\\mu$'),yaxis=dict(title=r'$0.5\\left(\\alpha \\mu + \\alpha + 1\\right)\\left(1\\pm \\sqrt{\\left(1-\\frac{4\\alpha}{\\left(\\alpha \\mu + \\alpha + 1\\right)^2}\\right)}\\right)$'))\n",
        "fig.show()"
      ],
      "execution_count": null,
      "outputs": []
    },
    {
      "cell_type": "markdown",
      "metadata": {
        "id": "e-arnXc7jCtg"
      },
      "source": [
        "The abobe figure shows that in order to increase the operating region $(\\omega_2-\\omega_1)$ one has to increase $\\mu=m_2/m_1$. However from a poractical point of view it is also desirable that $\\mu$ is as small as possible."
      ]
    },
    {
      "cell_type": "markdown",
      "metadata": {
        "id": "S9wVeRuFD7hi"
      },
      "source": [
        "### A2.1-Example:"
      ]
    },
    {
      "cell_type": "markdown",
      "metadata": {
        "id": "DZnJgqsfEEkH"
      },
      "source": [
        "A simple blower driven by a motor exhibits violent vibrations when the motor r.p.m is around 300. Design a spring mass damper system to ensure that the vibrations of the blower remains small for motor r.p.m in the range of 240 to 360."
      ]
    },
    {
      "cell_type": "code",
      "metadata": {
        "id": "43T_arHhuUAQ"
      },
      "source": [],
      "execution_count": null,
      "outputs": []
    },
    {
      "cell_type": "markdown",
      "metadata": {
        "id": "X7-huM_mGiM0"
      },
      "source": [
        "#### Typical Answer"
      ]
    },
    {
      "cell_type": "markdown",
      "metadata": {
        "id": "XpzUpdB7GnVw"
      },
      "source": [
        "Since system can be approximated as a simple 1-DOF spring mass damper system and assuming that the damping in the structure is negligible we see that $\\omega_n\\approx 10\\pi\\,rad/s$. Since we need the system to operate in the frequancy range of $8\\pi\\,rad/s <\\omega < 12\\pi\\,rad/s$. Thus we desire $\\omega_1\\approx 8\\pi\\,rad/s$ and $\\omega_2\\approx 12\\pi\\,rad/s$. Thus from the above graph we find that $\\mu\\approx 10$."
      ]
    },
    {
      "cell_type": "code",
      "metadata": {
        "id": "F-HXBPxPuW2A"
      },
      "source": [
        "[8*np.pi, 12*np.pi]"
      ],
      "execution_count": null,
      "outputs": []
    },
    {
      "cell_type": "code",
      "metadata": {
        "id": "TdNARpmLFfyS"
      },
      "source": [
        "wn1sq=(10*np.pi)**2; \n",
        "mu=0.2;\n",
        "al=1.;\n",
        "Omega=np.array([[wn1sq*(1+al*mu), -al*mu*wn1sq],[-al*wn1sq, al*wn1sq]])\n",
        "S, V=linalg.eig(Omega);\n",
        "w2=np.sqrt(S[0]); w1=np.sqrt(S[1]);\n",
        "Xm2=V.T[0]; Xm1=V.T[1];\n",
        "T=np.array([Xm1,Xm2]).T\n",
        "linalg.inv(T)\n",
        "gam=linalg.inv(T) @ np.array([1, 0])\n",
        "gam1=gam[0]; gam2=gam[1];"
      ],
      "execution_count": null,
      "outputs": []
    },
    {
      "cell_type": "code",
      "metadata": {
        "id": "SEk1OFu0N5S6"
      },
      "source": [
        "[w1, w2]"
      ],
      "execution_count": null,
      "outputs": []
    },
    {
      "cell_type": "code",
      "metadata": {
        "id": "BBivoGaoOKyy"
      },
      "source": [
        "w=np.logspace(1,2,1000);\n",
        "Chi_0_omega=abs(1/((wn1sq-w**2)));\n",
        "Chi_1_omega=abs((-(gam1*Xm1[0]+gam2*Xm2[0])*w**2+(gam1*Xm1[0]*w2**2+gam2*Xm2[0]*w1**2))/((w1**2-w**2)*(w2**2-w**2)));\n",
        "Chi_2_omega=abs((-(gam1*Xm1[1]+gam2*Xm2[1])*w**2+(gam1*Xm1[1]*w2**2+gam2*Xm2[1]*w1**2))/((w1**2-w**2)*(w2**2-w**2)));"
      ],
      "execution_count": null,
      "outputs": []
    },
    {
      "cell_type": "code",
      "metadata": {
        "id": "_x7Wp938Ppob"
      },
      "source": [
        "fig = go.Figure()\n",
        "\n",
        "fig.add_trace(go.Scatter(mode=\"markers\", x=w, y=Chi_0_omega, name=r'$\\chi_0(\\omega)$' ))\n",
        "fig.add_trace(go.Scatter(mode=\"markers\", x=w, y=Chi_1_omega, name=r'$\\chi_1(\\omega)$' ))\n",
        "fig.add_trace(go.Scatter(mode=\"markers\", x=w, y=Chi_2_omega, name=r'$\\chi_2(\\omega)$' ))\n",
        "\n",
        "fig.update_layout(xaxis=dict(type=\"log\", title=r'$\\log{\\omega}$'), yaxis=dict(range=[0,.04] ,title=r'$\\chi(\\omega)$'), title='Amplitude Frequency Response')\n",
        "fig.show()"
      ],
      "execution_count": null,
      "outputs": []
    },
    {
      "cell_type": "markdown",
      "metadata": {
        "id": "Ud0RgH_g75Wq"
      },
      "source": [
        "### A2.1-Simualtion of the system for different forcing frequency regimes\n",
        "\n",
        "1. $\\omega \\approx 0$\n",
        "2. $\\omega$ is very large\n",
        "3. $\\omega\\approx \\omega_1$\n",
        "3. $\\omega\\approx \\omega_2$"
      ]
    },
    {
      "cell_type": "code",
      "metadata": {
        "id": "-OAMHP_L75Wq"
      },
      "source": [
        "c_1=0.1; c_2=0.1;\n",
        "A=np.array([[0,0,1,0],[0,0,0,1],[-(k_1+k_2), k_2, -(c_1+c_2), c_2],[k_2, -k_2, c_2, -c_2]]);\n",
        "B=np.array([0,0,1,0]);"
      ],
      "execution_count": null,
      "outputs": []
    },
    {
      "cell_type": "markdown",
      "metadata": {
        "id": "8KXUIMkJ75Wq"
      },
      "source": [
        "#### Low frequncy response - $\\omega \\approx 0$"
      ]
    },
    {
      "cell_type": "code",
      "metadata": {
        "id": "SncJ46J075Wq"
      },
      "source": [
        "omega=0; f0=1; ICs=[0,0,0,0]\n",
        "yy=mv.simulateDySystem(50,0.01,ICs,A,B,[f0,omega],'Time/t','X(t)')"
      ],
      "execution_count": null,
      "outputs": []
    },
    {
      "cell_type": "markdown",
      "metadata": {
        "id": "j0nfMKgw75Ws"
      },
      "source": [
        "#### High Frequency Response - $\\omega$ very large\n"
      ]
    },
    {
      "cell_type": "code",
      "metadata": {
        "id": "lWYm3K6W75Ws"
      },
      "source": [
        "omega=100; f0=1; ICs=[0,0,0,0]\n",
        "yy=mv.simulateDySystem(10,0.01,ICs,A,B,[f0,omega],'Time/t','X(t)')"
      ],
      "execution_count": null,
      "outputs": []
    },
    {
      "cell_type": "markdown",
      "metadata": {
        "id": "fFwgfl3875Ws"
      },
      "source": [
        "#### $\\omega \\approx \\omega_1$"
      ]
    },
    {
      "cell_type": "code",
      "metadata": {
        "id": "pedBNNSo75Ws"
      },
      "source": [
        "omega=w1; f0=1; ICs=[0,0,0,0]\n",
        "yy=mv.simulateDySystem(200,0.01,ICs,A,B,[f0,omega],'Time/t','X(t)')"
      ],
      "execution_count": null,
      "outputs": []
    },
    {
      "cell_type": "markdown",
      "metadata": {
        "id": "CS3IuH1r75Wt"
      },
      "source": [
        "#### $\\omega \\approx \\omega_2$"
      ]
    },
    {
      "cell_type": "code",
      "metadata": {
        "id": "XGna-iGm75Wt"
      },
      "source": [
        "omega=w2; f0=1; ICs=[0,0,0,0]\n",
        "yy=mv.simulateDySystem(50,0.01,ICs,A,B,[f0,omega],'Time/t','X(t)')"
      ],
      "execution_count": null,
      "outputs": []
    },
    {
      "cell_type": "markdown",
      "metadata": {
        "id": "q9qHLfQHmrws"
      },
      "source": [
        "# Section#3: Fisrt Approximation of a Coupled Translational plus Rotational Vibratory System\n",
        "\n"
      ]
    },
    {
      "cell_type": "markdown",
      "metadata": {
        "id": "R96E6J6S7eKi"
      },
      "source": [
        "A blower driven by a motor is mounted on the ground using a vibration isolation  arrangement similar to that shown in the figure below. Due to some modifications in the operation of the  system the original blower had to be replaced with a new one with an operating region between 1000 r.p.m and 2000 r.p.m. The new motor when operated at 990 r. p. m. and 1710 r. p. m. exhibited violent vibrations. You are required to design a vibration absorber to mitigate the vibrations. As a first step one would typically analyzes the approximate behavior of the system and attempt to theoretically predict its behavior. This exercise is expected guide you in learning the basics of this process.\n",
        "\n",
        "In particular we will begin to develop the tools necessary to analyze the vibratory motion of coupled systems such as multi-story buildings, rotary machines mounted on elastic foundations, and multi-rotor shafts.   \n",
        "\n",
        "![VibrationIsolatedMotor.jpg](data:image/jpeg;base64,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)\n"
      ]
    },
    {
      "cell_type": "markdown",
      "metadata": {
        "id": "bDTsRPO2nTbU"
      },
      "source": [
        "## A1-Lumped Parameter Model"
      ]
    },
    {
      "cell_type": "markdown",
      "metadata": {
        "id": "6QWDLZMl-lOw"
      },
      "source": [
        "In the event the following hold\n",
        "\n",
        "1.   the motor mass and eccentricities are negligible compared to that of the blower\n",
        "2.   the amplitude of motion is small\n",
        "\n",
        "it is possible to approximate the behavior of this system by a lumped parameter system of the form shown in the figure below. Note that this is also similar to the vibration setup in the Applied Mechanics lab.\n",
        "\n",
        "![Coupled_vibration.jpg](data:image/jpeg;base64,/9j/4AAQSkZJRgABAQEAYABgAAD/4RCyRXhpZgAATU0AKgAAAAgAAodpAAQAAAABAAAIMuocAAcAAAgMAAAAJgAAAAAc6gAAAAgAAAAAAAAAAAAAAAAAAAAAAAAAAAAAAAAAAAAAAAAAAAAAAAAAAAAAAAAAAAAAAAAAAAAAAAAAAAAAAAAAAAAAAAAAAAAAAAAAAAAAAAAAAAAAAAAAAAAAAAAAAAAAAAAAAAAAAAAAAAAAAAAAAAAAAAAAAAAAAAAAAAAAAAAAAAAAAAAAAAAAAAAAAAAAAAAAAAAAAAAAAAAAAAAAAAAAAAAAAAAAAAAAAAAAAAAAAAAAAAAAAAAAAAAAAAAAAAAAAAAAAAAAAAAAAAAAAAAAAAAAAAAAAAAAAAAAAAAAAAAAAAAAAAAAAAAAAAAAAAAAAAAAAAAAAAAAAAAAAAAAAAAAAAAAAAAAAAAAAAAAAAAAAAAAAAAAAAAAAAAAAAAAAAAAAAAAAAAAAAAAAAAAAAAAAAAAAAAAAAAAAAAAAAAAAAAAAAAAAAAAAAAAAAAAAAAAAAAAAAAAAAAAAAAAAAAAAAAAAAAAAAAAAAAAAAAAAAAAAAAAAAAAAAAAAAAAAAAAAAAAAAAAAAAAAAAAAAAAAAAAAAAAAAAAAAAAAAAAAAAAAAAAAAAAAAAAAAAAAAAAAAAAAAAAAAAAAAAAAAAAAAAAAAAAAAAAAAAAAAAAAAAAAAAAAAAAAAAAAAAAAAAAAAAAAAAAAAAAAAAAAAAAAAAAAAAAAAAAAAAAAAAAAAAAAAAAAAAAAAAAAAAAAAAAAAAAAAAAAAAAAAAAAAAAAAAAAAAAAAAAAAAAAAAAAAAAAAAAAAAAAAAAAAAAAAAAAAAAAAAAAAAAAAAAAAAAAAAAAAAAAAAAAAAAAAAAAAAAAAAAAAAAAAAAAAAAAAAAAAAAAAAAAAAAAAAAAAAAAAAAAAAAAAAAAAAAAAAAAAAAAAAAAAAAAAAAAAAAAAAAAAAAAAAAAAAAAAAAAAAAAAAAAAAAAAAAAAAAAAAAAAAAAAAAAAAAAAAAAAAAAAAAAAAAAAAAAAAAAAAAAAAAAAAAAAAAAAAAAAAAAAAAAAAAAAAAAAAAAAAAAAAAAAAAAAAAAAAAAAAAAAAAAAAAAAAAAAAAAAAAAAAAAAAAAAAAAAAAAAAAAAAAAAAAAAAAAAAAAAAAAAAAAAAAAAAAAAAAAAAAAAAAAAAAAAAAAAAAAAAAAAAAAAAAAAAAAAAAAAAAAAAAAAAAAAAAAAAAAAAAAAAAAAAAAAAAAAAAAAAAAAAAAAAAAAAAAAAAAAAAAAAAAAAAAAAAAAAAAAAAAAAAAAAAAAAAAAAAAAAAAAAAAAAAAAAAAAAAAAAAAAAAAAAAAAAAAAAAAAAAAAAAAAAAAAAAAAAAAAAAAAAAAAAAAAAAAAAAAAAAAAAAAAAAAAAAAAAAAAAAAAAAAAAAAAAAAAAAAAAAAAAAAAAAAAAAAAAAAAAAAAAAAAAAAAAAAAAAAAAAAAAAAAAAAAAAAAAAAAAAAAAAAAAAAAAAAAAAAAAAAAAAAAAAAAAAAAAAAAAAAAAAAAAAAAAAAAAAAAAAAAAAAAAAAAAAAAAAAAAAAAAAAAAAAAAAAAAAAAAAAAAAAAAAAAAAAAAAAAAAAAAAAAAAAAAAAAAAAAAAAAAAAAAAAAAAAAAAAAAAAAAAAAAAAAAAAAAAAAAAAAAAAAAAAAAAAAAAAAAAAAAAAAAAAAAAAAAAAAAAAAAAAAAAAAAAAAAAAAAAAAAAAAAAAAAAAAAAAAAAAAAAAAAAAAAAAAAAAAAAAAAAAAAAAAAAAAAAAAAAAAAAAAAAAAAAAAAAAAAAAAAAAAAAAAAAAAAAAAAAAAAAAAAAAAAAAAAAAAAAAAAAAAAAAAAAAAAAAAAAAAAAAAAAAAAAAAAAAAAAAAAAAAAAAAAAAAAAAAAAAAAAAAAAAAAAAAAAAAAAAAAAAAAAAAAAAAAAAAAAAAAAAAAAAAAAAAAAAAAAAAAAAAAAAAAAAAAAAAAAAAAAAAAAAAAAAAAAAAAAAAAAAAAAAAAAAAAAAAAAAAAAAAAAAAAAAAAAAAAAAAAAAAAAAAAAAAAAAAAAAAAAAAAAAAAAAAAAAAAAAAAAAAAAAAAAAAAAAAAAAAAAAAAAAAAAAAAAAAAAAAAAAAAAAAAAAAAAAAAAAAAAAAAAAAAAAAAAAAAAAAAAAAAAAAAAAAAAAAAAAAAAAAAAAAAAAAAAAAAAAAAAAAAAAAAAAAAAAAAAAAAAAAAAAAAAAAAAAAAAAAAAAAAAAAAAAAAAAAAAAAAAAAAAAAAAAAAAAAAAAAAAAAAAAAAAAAAAAAAAAAAAAAAAAAAAAAAAAAAAAAAAAAAAAAAAAAAAAAAAAAAAAAAAAAAAAAAAAAAAAAAAAAAAAAAAAAAAAAAAAAAAAAAAAAAAAAAAAAAAAAAAAAAAAAAAAAAAAAAAAAAAAAAAAAAAAAAAAAAAAAAAAAAAAAAAAAAAAAAAAAAAAAAAAAAAAAAAAAAAAAAAAAAAAAAAAAAAAAAAAAAAAAAAAAAAAAAAAAAAAAAAAAAAAAAAAAAAAAAAAAAAAAAAAAAAAAAAAAAAAAAAAAAAAAAAAAAAAAAAAAAAAAAAAAAAAAAAAAAAAAAAAAAAAAAAAAAAAAAAAAAAAAAAAAAAAAAAAAAAAAAAAAAAAAAAAAAAAAAAAAAAAAAAAAAAAAAAAAAAAAAAAAAAAAAAAAAAAAAAAAAAAAAAAAAAAAAAAAAAAAAAAAAAAAAAAAAAAAAAAAAAAAAAAAAAAAAAAAAAAAAAAAAAAAAAAAAAAAAFkAMAAgAAABQAABCAkAQAAgAAABQAABCUkpEAAgAAAAMwMAAAkpIAAgAAAAMwMAAA6hwABwAACAwAAAh0AAAAABzqAAAACAAAAAAAAAAAAAAAAAAAAAAAAAAAAAAAAAAAAAAAAAAAAAAAAAAAAAAAAAAAAAAAAAAAAAAAAAAAAAAAAAAAAAAAAAAAAAAAAAAAAAAAAAAAAAAAAAAAAAAAAAAAAAAAAAAAAAAAAAAAAAAAAAAAAAAAAAAAAAAAAAAAAAAAAAAAAAAAAAAAAAAAAAAAAAAAAAAAAAAAAAAAAAAAAAAAAAAAAAAAAAAAAAAAAAAAAAAAAAAAAAAAAAAAAAAAAAAAAAAAAAAAAAAAAAAAAAAAAAAAAAAAAAAAAAAAAAAAAAAAAAAAAAAAAAAAAAAAAAAAAAAAAAAAAAAAAAAAAAAAAAAAAAAAAAAAAAAAAAAAAAAAAAAAAAAAAAAAAAAAAAAAAAAAAAAAAAAAAAAAAAAAAAAAAAAAAAAAAAAAAAAAAAAAAAAAAAAAAAAAAAAAAAAAAAAAAAAAAAAAAAAAAAAAAAAAAAAAAAAAAAAAAAAAAAAAAAAAAAAAAAAAAAAAAAAAAAAAAAAAAAAAAAAAAAAAAAAAAAAAAAAAAAAAAAAAAAAAAAAAAAAAAAAAAAAAAAAAAAAAAAAAAAAAAAAAAAAAAAAAAAAAAAAAAAAAAAAAAAAAAAAAAAAAAAAAAAAAAAAAAAAAAAAAAAAAAAAAAAAAAAAAAAAAAAAAAAAAAAAAAAAAAAAAAAAAAAAAAAAAAAAAAAAAAAAAAAAAAAAAAAAAAAAAAAAAAAAAAAAAAAAAAAAAAAAAAAAAAAAAAAAAAAAAAAAAAAAAAAAAAAAAAAAAAAAAAAAAAAAAAAAAAAAAAAAAAAAAAAAAAAAAAAAAAAAAAAAAAAAAAAAAAAAAAAAAAAAAAAAAAAAAAAAAAAAAAAAAAAAAAAAAAAAAAAAAAAAAAAAAAAAAAAAAAAAAAAAAAAAAAAAAAAAAAAAAAAAAAAAAAAAAAAAAAAAAAAAAAAAAAAAAAAAAAAAAAAAAAAAAAAAAAAAAAAAAAAAAAAAAAAAAAAAAAAAAAAAAAAAAAAAAAAAAAAAAAAAAAAAAAAAAAAAAAAAAAAAAAAAAAAAAAAAAAAAAAAAAAAAAAAAAAAAAAAAAAAAAAAAAAAAAAAAAAAAAAAAAAAAAAAAAAAAAAAAAAAAAAAAAAAAAAAAAAAAAAAAAAAAAAAAAAAAAAAAAAAAAAAAAAAAAAAAAAAAAAAAAAAAAAAAAAAAAAAAAAAAAAAAAAAAAAAAAAAAAAAAAAAAAAAAAAAAAAAAAAAAAAAAAAAAAAAAAAAAAAAAAAAAAAAAAAAAAAAAAAAAAAAAAAAAAAAAAAAAAAAAAAAAAAAAAAAAAAAAAAAAAAAAAAAAAAAAAAAAAAAAAAAAAAAAAAAAAAAAAAAAAAAAAAAAAAAAAAAAAAAAAAAAAAAAAAAAAAAAAAAAAAAAAAAAAAAAAAAAAAAAAAAAAAAAAAAAAAAAAAAAAAAAAAAAAAAAAAAAAAAAAAAAAAAAAAAAAAAAAAAAAAAAAAAAAAAAAAAAAAAAAAAAAAAAAAAAAAAAAAAAAAAAAAAAAAAAAAAAAAAAAAAAAAAAAAAAAAAAAAAAAAAAAAAAAAAAAAAAAAAAAAAAAAAAAAAAAAAAAAAAAAAAAAAAAAAAAAAAAAAAAAAAAAAAAAAAAAAAAAAAAAAAAAAAAAAAAAAAAAAAAAAAAAAAAAAAAAAAAAAAAAAAAAAAAAAAAAAAAAAAAAAAAAAAAAAAAAAAAAAAAAAAAAAAAAAAAAAAAAAAAAAAAAAAAAAAAAAAAAAAAAAAAAAAAAAAAAAAAAAAAAAAAAAAAAAAAAAAAAAAAAAAAAAAAAAAAAAAAAAAAAAAAAAAAAAAAAAAAAAAAAAAAAAAAAAAAAAAAAAAAAAAAAAAAAAAAAAAAAAAAAAAAAAAAAAAAAAAAAAAAAAAAAAAAAAAAAAAAAAAAAAAAAAAAAAAAAAAAAAAAAAAAAAAAAAAAAAAAAAAAAAAAAAAAAAAAAAAAAAAAAAAAAAAAAAAAAAAAAAAAAAAAAAAAAAAAAAAAAAAAAAAAAAAAAAAAAAAAAAAAAAAAAAAAAAAAAAAAAAAAAAAAAAAAAAAAAAAAAAAAAAAAAAAAAAAAAAAAAAAAAAAAAAAAAAAAAAAAAAAAAAAAAAAAAAAAAAAAAAAAAAAAAAAAAAAAAAAAAAAAAAAAAAAAAAAAAAAAAAAAAAAAAAAAAAAAAAAAAAAAAAAAAAAAAAAAAAAAAAAAAAAAAAAAAAAAAAAAAAAAAAAAAAAAAAAAAAAAAAAAAAAAAAAAAAAAAAAAAAAAAAAAAAAAAAAAAAAAAAAAAAAAAAAAAAAAAAAAAAAAAAAAAAAAAAAAAAAAAAAAAAAAAAAAAAAAAAAAAAAAAAAAAAAAAAAAAAAAAAAAAAAAAAAAAAAAAAAAAAAAAAAAAAAAAAAAAAAAAAAAAAAAAAAAAAAAAAAAAAAAAAAAAAAAAAAAAAAAAAAAAAAAAAAAAAAAAAAAAAAAAAAAAAAAAAAAAAAAAAAAAAAAAAAAAAAAAAAAAAAAAAAAAAAAAAAAAAAAAAAAAAAAAAAAAAAAAAAAAAAAAAAAAAAAAAAAAAAAAAAAAAAAAAAAAAAAAAAAAAAAAAAAAAAAAAAAAAAAAAAAAAAAAAAAAAAAAAAAAAAAAAAAAAAAAAAAAAAAAAAAAAAAAAAAAAAAAAAAAAAAAAAAAAAAAAAAAAAAAAAAAAAAAAAAAAAAAAAAAAAAAAAAMjAxNDowMjowMSAxMzoxNjozOAAyMDE0OjAyOjAxIDEzOjE2OjM4AAAA/+EKfWh0dHA6Ly9ucy5hZG9iZS5jb20veGFwLzEuMC8APD94cGFja2V0IGJlZ2luPSfvu78nIGlkPSdXNU0wTXBDZWhpSHpyZVN6TlRjemtjOWQnPz4NCjx4OnhtcG1ldGEgeG1sbnM6eD0iYWRvYmU6bnM6bWV0YS8iPjxyZGY6UkRGIHhtbG5zOnJkZj0iaHR0cDovL3d3dy53My5vcmcvMTk5OS8wMi8yMi1yZGYtc3ludGF4LW5zIyI+PHJkZjpEZXNjcmlwdGlvbiByZGY6YWJvdXQ9InV1aWQ6ZmFmNWJkZDUtYmEzZC0xMWRhLWFkMzEtZDMzZDc1MTgyZjFiIiB4bWxuczp4bXA9Imh0dHA6Ly9ucy5hZG9iZS5jb20veGFwLzEuMC8iPjx4bXA6Q3JlYXRlRGF0ZT4yMDE0LTAyLTAxVDEzOjE2OjM4PC94bXA6Q3JlYXRlRGF0ZT48L3JkZjpEZXNjcmlwdGlvbj48cmRmOkRlc2NyaXB0aW9uIHJkZjphYm91dD0idXVpZDpmYWY1YmRkNS1iYTNkLTExZGEtYWQzMS1kMzNkNzUxODJmMWIiIHhtbG5zOk1pY3Jvc29mdFBob3RvPSJodHRwOi8vbnMubWljcm9zb2Z0LmNvbS9waG90by8xLjAvIj48TWljcm9zb2Z0UGhvdG86RGF0ZUFjcXVpcmVkPjIwMTQtMDItMDFUMTM6MTY6MzY8L01pY3Jvc29mdFBob3RvOkRhdGVBY3F1aXJlZD48L3JkZjpEZXNjcmlwdGlvbj48L3JkZjpSREY+PC94OnhtcG1ldGE+DQogICAgICAgICAgICAgICAgICAgICAgICAgICAgICAgICAgICAgICAgICAgICAgICAgICAgICAgICAgICAgICAgICAgICAgICAgICAgICAgICAgICAgICAgICAgICAgICAgICAgCiAgICAgICAgICAgICAgICAgICAgICAgICAgICAgICAgICAgICAgICAgICAgICAgICAgICAgICAgICAgICAgICAgICAgICAgICAgICAgICAgICAgICAgICAgICAgICAgICAgICAKICAgICAgICAgICAgICAgICAgICAgICAgICAgICAgICAgICAgICAgICAgICAgICAgICAgICAgICAgICAgICAgICAgICAgICAgICAgICAgICAgICAgICAgICAgICAgICAgICAgIAogICAgICAgICAgICAgICAgICAgICAgICAgICAgICAgICAgICAgICAgICAgICAgICAgICAgICAgICAgICAgICAgICAgICAgICAgICAgICAgICAgICAgICAgICAgICAgICAgICAgCiAgICAgICAgICAgICAgICAgICAgICAgICAgICAgICAgICAgICAgICAgICAgICAgICAgICAgICAgICAgICAgICAgICAgICAgICAgICAgICAgICAgICAgICAgICAgICAgICAgICAKICAgICAgICAgICAgICAgICAgICAgICAgICAgICAgICAgICAgICAgICAgICAgICAgICAgICAgICAgICAgICAgICAgICAgICAgICAgICAgICAgICAgICAgICAgICAgICAgICAgIAogICAgICAgICAgICAgICAgICAgICAgICAgICAgICAgICAgICAgICAgICAgICAgICAgICAgICAgICAgICAgICAgICAgICAgICAgICAgICAgICAgICAgICAgICAgICAgICAgICAgCiAgICAgICAgICAgICAgICAgICAgICAgICAgICAgICAgICAgICAgICAgICAgICAgICAgICAgICAgICAgICAgICAgICAgICAgICAgICAgICAgICAgICAgICAgICAgICAgICAgICAKICAgICAgICAgICAgICAgICAgICAgICAgICAgICAgICAgICAgICAgICAgICAgICAgICAgICAgICAgICAgICAgICAgICAgICAgICAgICAgICAgICAgICAgICAgICAgICAgICAgIAogICAgICAgICAgICAgICAgICAgICAgICAgICAgICAgICAgICAgICAgICAgICAgICAgICAgICAgICAgICAgICAgICAgICAgICAgICAgICAgICAgICAgICAgICAgICAgICAgICAgCiAgICAgICAgICAgICAgICAgICAgICAgICAgICAgICAgICAgICAgICAgICAgICAgICAgICAgICAgICAgICAgICAgICAgICAgICAgICAgICAgICAgICAgICAgICAgICAgICAgICAKICAgICAgICAgICAgICAgICAgICAgICAgICAgICAgICAgICAgICAgICAgICAgICAgICAgICAgICAgICAgICAgICAgICAgICAgICAgICAgICAgICAgICAgICAgICAgICAgICAgIAogICAgICAgICAgICAgICAgICAgICAgICAgICAgICAgICAgICAgICAgICAgICAgICAgICAgICAgICAgICAgICAgICAgICAgICAgICAgICAgICAgICAgICAgICAgICAgICAgICAgCiAgICAgICAgICAgICAgICAgICAgICAgICAgICAgICAgICAgICAgICAgICAgICAgICAgICAgICAgICAgICAgICAgICAgICAgICAgICAgICAgICAgICAgICAgICAgICAgICAgICAKICAgICAgICAgICAgICAgICAgICAgICAgICAgICAgICAgICAgICAgICAgICAgICAgICAgICAgICAgICAgICAgICAgICAgICAgICAgICAgICAgICAgICAgICAgICAgICAgICAgIAogICAgICAgICAgICAgICAgICAgICAgICAgICAgICAgICAgICAgICAgICAgICAgICAgICAgICAgICAgICAgICAgICAgICAgICAgICAgICAgICAgICAgICAgICAgICAgICAgICAgCiAgICAgICAgICAgICAgICAgICAgICAgICAgICAgICAgICAgICAgICAgICAgICAgICAgICAgICAgICAgICAgICAgICAgICAgICAgICAgICAgICAgICAgICAgICAgICAgICAgICAKICAgICAgICAgICAgICAgICAgICAgICAgICAgICAgICAgICAgICAgICAgICAgICAgICAgICAgICAgICAgICAgICAgICAgICAgICAgICAgICAgICAgICAgICAgICAgICAgICAgIAogICAgICAgICAgICAgICAgICAgICAgICAgICAgICAgICAgICAgICAgICAgICAgICAgICAgICAgICAgICAgICAgICAgICAgICAgICAgICAgICAgICAgICAgICAgICAgICAgICAgCiAgICAgICAgICAgICAgICAgICAgICAgICAgICAgICAgICAgICAgICAgICAgICAgICAgICAgICAgICAgICAgICAgICAgICAgICAgICAgICAgICAgICAgICAgICAgICAgICAgICAKICAgICAgICAgICAgICAgICAgICAgICAgICAgIDw/eHBhY2tldCBlbmQ9J3cnPz7/2wBDAAIBAQIBAQICAgICAgICAwUDAwMDAwYEBAMFBwYHBwcGBwcICQsJCAgKCAcHCg0KCgsMDAwMBwkODw0MDgsMDAz/2wBDAQICAgMDAwYDAwYMCAcIDAwMDAwMDAwMDAwMDAwMDAwMDAwMDAwMDAwMDAwMDAwMDAwMDAwMDAwMDAwMDAwMDAz/wAARCAHMAzMDASIAAhEBAxEB/8QAHwAAAQUBAQEBAQEAAAAAAAAAAAECAwQFBgcICQoL/8QAtRAAAgEDAwIEAwUFBAQAAAF9AQIDAAQRBRIhMUEGE1FhByJxFDKBkaEII0KxwRVS0fAkM2JyggkKFhcYGRolJicoKSo0NTY3ODk6Q0RFRkdISUpTVFVWV1hZWmNkZWZnaGlqc3R1dnd4eXqDhIWGh4iJipKTlJWWl5iZmqKjpKWmp6ipqrKztLW2t7i5usLDxMXGx8jJytLT1NXW19jZ2uHi4+Tl5ufo6erx8vP09fb3+Pn6/8QAHwEAAwEBAQEBAQEBAQAAAAAAAAECAwQFBgcICQoL/8QAtREAAgECBAQDBAcFBAQAAQJ3AAECAxEEBSExBhJBUQdhcRMiMoEIFEKRobHBCSMzUvAVYnLRChYkNOEl8RcYGRomJygpKjU2Nzg5OkNERUZHSElKU1RVVldYWVpjZGVmZ2hpanN0dXZ3eHl6goOEhYaHiImKkpOUlZaXmJmaoqOkpaanqKmqsrO0tba3uLm6wsPExcbHyMnK0tPU1dbX2Nna4uPk5ebn6Onq8vP09fb3+Pn6/9oADAMBAAIRAxEAPwD9/KKKKACiiigAooooAKKKKACiiigAooooAKKKKACiiigAooooAKKKKACiiigAooooAKKKKACiiigAooooAKKKKACiiigAooooAKKKKACiiigAooooAKKKKACiiigAooooAKKKKACiiigAooooAKKKKACiiigAooooAKKKKACiiigAooooAKKKKACiiigAooooAKKKKACiiigAooooAKKKKACiiigAooooAKKKKACiiigAooooAKKKKACiiigAooooAKKKKACiiigAooooAKKKKACiiigAooooAKKKKACiiigAooooAKKKKACiiigAooooAKKKKACiiigAooooAKKKKACiiigAooooAKKKKACiiigAooooAKKKKACiiigAooooAKKKKACiiigAooooAKKKKACiiigAooooAKKKKACiiigAooooAKKKKACiiigAooooAKKKKACiiigAooooAKKKKACiiigAooooAKKKKACiiigAooooAKKKKACiiigAooooAKKKKACiiigAooooAKKKKACiiigAooooAKKKKACiiigAooooAKKKKACiiigAooooAKKKKACiiigAooooAKKKKACiiigAooooAKKKKACiiigAooooAKKKKACiiigAooooAKKKKACiiigAooooAKKKKACiiigAooooAKKKKACiiigAooooAKKKKACiiigAooooAKKKKACiiigAooooAKKKKACiiigAooooAKKKKACiiigAooooAKKKKACiiigAooooAKKKKACiiigAooooAKKKKACiiigAooooAKKKKACiiigAooooAKKKKACiiigAooooAKKKKACiiigAooooAKKKKACiiigAooooAKKKKACiiigAooooAKKKKACiiigAooooAKKKKACiiigAooooAKKKKACiiigAooooAKKKKACiiigAooooAKKKKACiiigAooooAKKKKACiiigAooooAKKKKACiiigAooooAKKKKACiiigAooooAKKKKACiiigAooooAKKKKACiiigAooooAKKKKACiiigAooooAKKKKACiiigAooooAKKKKACiiigAooooAKKKKACiiigAooooAKKKKACiiigAooooAKKKKACiiigAooooAKKKKACiiigAooooAKKKKACiiigAooooAKKKKACiiigAooooAKKKKACiiigAoqvqurWuh2D3V7c29nbRY3zTyCONMkAZY4AySB+NWKACiiigAooooAKKKKACiiigD5L/AGxP2mvG/wAK/wDgpH+y54B0HW/sPhP4iy6+viKw+x28v9oC2tI5IP3jo0ke1mJ/dsuc85FfWlfIf7bfxhj8L/8ABRr9lDwc3hfw1qUnijUdcuk1m9tjJqGkfZ7IErauCNnmeZh85BCjjvX15QAUUUUAFFFFABRRRQAUUUUAFFFFABRRRQAUUUUAFFFFABRRRQAUUUUAFFFFABRRRQAUUUUAFFFFABRRRQAUUUUAFFFFABRRRQAUUUUAFFFFABRRRQAUUUUAFFFFABRRRQAUUUUAFFFFABRRRQAUUUUAFFFFABRRRQAUUUUAFFFFABRRRQAUUUUAFFFFABRRRQAUUUUAFFFFABRRRQAUUUUAFFFFABRRRQAUUUUAFFFFABRRRQAUUUUAflV/wdteOPinpv8AwTa1PTfAlhdWXg+zurHV/HPiAXItxDa/b7e2s7GHnfJLLeTRSts4jjtDuI8xA33l+wV4i+J2tfsu+G7T4z6MNH+KPh+I6N4ieGVZrTVbiDCi/t5V4eK4j2TdAUaR0ZVZCB8x/wDB0d/ygo+Of/cA/wDUg0yvv+gAooooAKKKKACiiigAooooA+D/APgoN/ymE/Yl/wCu3in/ANIYa+8K+Rf2y/F3gfRv+Cln7K+m6/4Ovta8W6rLr/8AwjutRaw9rDoJS0jM5ktwpW48xSFG4jbjPNfXVABRRRQAUUUUAFFFFABRRRQAUUUUAFFFFABRRRQAUUUUAFFFFABRRRQAUUUUAFFFFABRRRQAUUUUAFFFFABRRRQAUUUUAFFFFABRRRQAUUUUAFFFFABRRRQAUUUUAFFFFABRRRQAUUUUAFFFFABRRRQAUUUUAFFFFABRRRQAUUUUAFFFFABRRRQAUUUUAFFFFABRRRQAUUUUAFFFFABRRRQAUUUUAFFFFABX5d/DT4tfBrxl+2/+0/ovx2/aG13wfq+ifEWLTPC2h3Px51nwcsOntpOnuEtrG31O2RkNxJN8yxnLFhnjFfqJXgP7G/7K3iH9nn40/tC+I9avNGurH4s+O18T6QllLI8ttbDTLK02XAeNQsnmWznCF12lTuySAAbv7eH7Xlh+wz+zNrHxF1HT4dShsLzT9NijutQTTbGOe+vYbKCS7vHVltbRZbhDLOVfy4wzBHICnw79tr4uP/wz/wDDvUPjl8GNGvr+P4x+FNN0mw0bx1Pc6al1PfWws9Yt7xLa3mmSCSY7re4tog8kEi4aIxyv9MftIeGvEXjL4P6tpXhvQvAviq41KP7Je6D4waWPR9dsZQY7m0mkjimMYkiZhua3nU8q0TBiR8P+HP8AgkH4+0z4ETaBYv8ADnwVFffHLQfiha+CtE1G8n8NeDdNsbu2muLLT5Wto2Z5/Ikn2LbW8IluGUKqjeQD0nxf/wAFO/iTd/EX9oDRvAnwJsvFNh+zvd+XrOo6j44XSl1qL+zLfUBHYxrZTs13tlkXypvKhwkZ+05kKR/TPgL9obw18RP2bNF+K9ncSw+D9d8NQeLYJ7hQjx2Etqt0ruASAREwJGSBzzXinwt/Yl8VeCPFP7Wl9dah4fki+POr/b9AEU8xazj/ALDttPxdZiGxvNhZv3ZkGwg5zlR3f7Mv7Lk3w6/4J3/D74KeMZ7W8uNC+HWneCdcm0uZzBO8OmR2Vw0DuitsJVyjMinBBKg8UAY37Kv7f+ifHr4R/BHWfE2m/wDCCeKfj9pVzrvhXw6Z5dSaeyii+1K73KQpGjmyeCZlfaFaVo1aXZub5Z+P3/BUz41+Nvhh8DNc+G/hDwt4S1rV/jiPhf430XVvErMY7+2nvYJtMEx0qbNpP5Cy/bY1SaMeWFhbe+3Z8BfsD/tM+A7r9ny+N78F9Uuv2VtLufDvh+FtX1G2j+ItlcWq6c0164sXOjTRWkMMipCuoK8xkUsiYata7/4Ja/EHS/2VvCn2PVfBOr/GbSvjXH8dNXgubm5sfDuoalLfSy3WnRXKQSTxQpaTtDFcNbyM7wo7RIHKRgGJ/wAHLN3rV/8A8G/Xxhm8RWGmaVr0tv4da/s9Nv3v7S2mOv6ZvSK4khgeVAcgO0MZI5KL0r9E6/O7/g5cutXvv+Dfz4wTeILHTdM1yW28OvqFnp9899aWs517TPMjineGF5UDZAdoYywAJRc4H6I0AFFFFABRRRQAUUUUAFFFFAHwf/wUG/5TCfsS/wDXbxT/AOkMNfeFfG/7cMHgub/gpx+yOdYuvFNv4xS78QNoKWVpBPpk8f2JPtC3TPKksbY2FGjWQZDBl5BH2RQAUUUUAFFFFABRRRQAUUUUAFFFFABRRRQAUUUUAFFFFABRRRQAUUUUAFFFFABRRRQAUUUUAFFFFABRRRQAUUUUAFFFFABRRRQAUUUUAFFFFABRRRQAUUUUAFFFFABRRRQAUUUUAFFFFABRRRQAUUUUAFFFFABRRRQAUUUUAFFFFABRRRQAUUUUAFFFFABRRRQAUUUUAFFFFABRRRQAUUUUAFFFFABRRRQAUUUUAFFFFABRRRQAUUUUAfAH/B0d/wAoKPjn/wBwD/1INMr7/r4A/wCDo7/lBR8c/wDuAf8AqQaZX3/QAUUUUAFFZnjXxnpXw48G6t4h12+t9L0TQbKbUdQvbhtsVnbwo0ksrnsqorMT6A15H+zT+2q/7S2oaZJB8Jvi54R8N+ItPfVNB8R+IdOsY9P1i3BQowS3u5rm0MkciyRrewW7MuRjcClAHt9FFFABRRRQB8H/APBQb/lMJ+xL/wBdvFP/AKQw194V8i/tmfCfTPGH/BS39lbxJdeNvC+g3/heXXzaaFfySDUPEPnWkasLUKpU+WBubcRwRjNfXVABRRRQAUUUUAFFFFABRRRQAUUUUAFFFFABRRRQAUUUUAFFFFABRRRQAUUUUAFFFFABRRRQAUUUUAFFFFABRRRQAUUUUAFFFFABRRRQAUUUUAFFFFABRRRQAUUUUAFFFFABRRRQAUUUUAFFFFABRRRQAUUUUAFFFFABRRRQAUUUUAFFFFABRRRQAUUUUAFFFFABRRRQAUUUUAFFFFABRRRQAUUUUAFFFFABRRRQAUUUUAFFFFABRRRQB8Af8HR3/KCj45/9wD/1INMr6g/ak/b3+EH7F50eL4k+PNC8Naj4iuYrPSdLklMuo6nLLII0ENtGGlZd5AL7di5+ZlHNfL//AAdHf8oKPjn/ANwD/wBSDTK+WP8AgoF/waZRfFj9pWy+LXwp+J3iKTUptdttU1rRfGWs3d5PcRrMjSG11UMbpHCKQglLtuwfOTAwAftNRXz/AP8ADtP4df8AQx/H/wD8Pt43/wDltR/w7T+HX/Qx/H//AMPt43/+W1AHaftnfAOT9qr9kT4n/DOG+TTJ/H/hXUvD8N44ylrJdWskKSMACSqs4JAGcA4riv2Nfib8VLzw54T8HeNPgfrXgAeHNAjtNX1u68QaTdaVc3UCRQqmnJaXM1zLFIRI4a5itSiKuVLnYF/4dp/Dr/oY/j//AOH28b//AC2o/wCHafw6/wChj+P/AP4fbxv/APLagD6Aor5//wCHafw6/wChj+P/AP4fbxv/APLaj/h2n8Ov+hj+P/8A4fbxv/8ALagD6AryX9pH9uj4T/sf+LfBmj/E7xto/gif4gT3FrodxqzmCzuZoBEZEe4I8qE4lTBlZQeQDniuZ/4dp/Dr/oY/j/8A+H28b/8Ay2r4n/4LBf8ABuVcf8FBdX+E+k+BPHnijw7oeg3moT+JNS8Z+OfEPjCW3ikW3WIWVrqF5OolJSTdteEEKNzHCigD2P8Ab4vodT/4K7/sP3NtNFcW9w/ieWKWJw6So1hCQykcEEEEEV961+XnwZ/4IyaF/wAE/f2p/wBlHTvBHju91fR/Bdzr1zqMXjDxZuv76SezjTGmWBxEiBgWdIEUgFS7OQDX6h0AFFFFABRRRQAUUUUAFFFFABRRRQAUUUUAFFFFABRRRQAUUUUAFFFFABRRRQAUUUUAFFFFABRRRQAUUUUAFFFFABRRRQAUUUUAFFFFABRRRQAUUUUAFFFFABRRRQAUUUUAFFFFABRRRQAUUUUAFFFFABRRRQAUUUUAFFFFABRRRQAUUUUAFFFFABRRRQAUUUUAFFFFABRRRQAUUUUAFFFFABRRRQAUUUUAFFFFABRRRQAUUUUAFFFV9V1a10LTLi9vrmCzs7SNpp7ieQRxQooyzMxwFUAEkngUAfnx/wAHU3inT/D/APwQ6+LtneXcNvc65daFZWEbthrqZdasZ2RR3Iihlf6Ia7vwf/wTM8UftRaYnif9pv4lePfEGt6vH5v/AAhfhTxHeeGvDPhtG5Fsi2Msc9zImcNPNKSxHCqOK/P/AP4Ohf8Agqj8E/2iP2Gr34d+E7C6+IVxqF8j6V4ytLG6GjaNqNre2bSJBdtGLe5aS1a7jJikYLn/AGuP1f8A2Zf+CkPwk/av8XXnhjw34gvNM8badGJrzwr4j0u50LXbdD/GbS7SORk/2kDL70AZH7Uv7JXj7V9P0LxD8Ffih4j8B+LfBOniz0/Rb64bUvDPiGFMkW9/bSktvbhRco4lXqS+MV0H7Bn7X6ftkfBNtZvtEuPCnjHw/fzaD4r8O3LZm0PVLdtk0JP8SE/MjfxIymvbK+af2eP2efE3wz/4KLfHzxml34Y/4QHx9Z6JNBZWV2zahb6rBbGK4kuYdoSPfGIirbizdTQB9LUUUUAFFFFABRRRQB8H/wDBQdc/8FhP2JeP+W/in/0hhr7wr4t/bm+F3ibxb/wVU/ZA8Q6V4d13UtA8NTeJDq+pWthLNZ6UJbOJYvPlVSkW9gQu8jcQQK+0qACiiigAooooAKKKKACiiigAooooAKKKKACiiigAooooAKKKKACiiigAooooAKKKKACiiigAooooAKKKKACiiigAooooAKKKKACiiigAooooAKKKKACiiigAooooAKKKKACiiigAooooAKKKKACiiigAooooAKKKKACiiigAooooAKKKKACiiigAooooAKKKKACiiigAoor5c/b4/aj+K3wy+Mvwo+G/wWsPh9qHjP4gSahdXA8YfbFsILO0jjZj5lrl42ZpAAxRxx93uAD6jor5GH7WH7Vfw2l2eLv2WdN8WWqAl7/4e/EOzvDx1P2bUY7J+ewVmPXIHftj/wAFFvDvg79nA/Ev4h+B/it8MNNg1E6Zd6drfhae71GyYZ/fPHYfaR9nwpPnBigHUigD6Dor58+E3/BVz9m744X8dn4b+NXw8vNQlTetlNq8Vrd4/wCuMpVx+Ve8aNr9j4ishc6fe2l9bt0lt5llQ/ipIoAt0UUUAFFFFABRXw5+1l4P8U/te/8ABTfRPhZpPxN+JXw48L+Cfh+/ifU7jwZrf9n3Fxf3d40FqJQVZHVEgdtsisrb+nHPYaZ+x5+0t8NNbs5fDH7Vtx4k0mGRBPp3jzwHp+otLECN225sms5A5GRlgw5HFAH1nRXz1+0D8Sf2mPh14+lm8AfC34Y/ErweIIikU3jKfQdaMu396NslpLbkZzs/ejtkjrXFH/gqJ4o+H7onxJ/Zd/aH8HrgmS90nSLTxZYxY65fTLieUD3MQFAH11RXjHj7/goZ8FfhDrWgaZ41+I3hnwNqviawj1LT7DxJdjSbmWF/u5SfYVbttbDZHSvSfBvxT8M/ESzW40DxFoetwOAyyWF9FcKQenKMaAN6vh39qzwpP/wUU/b3h+Auqz3EXwe+Gek2vijxzYQzbB4su7h2+xabPggm1VUMsidJCVB4FfcVfFvwbvbf4Bf8Fn/i5oGqu1sPjZ4b0vxLoEkqDZeS2MZtLqFJDyWQCN9meA2QOTQB5B/wdQfATwrf/wDBDrxvcx6RaWP/AAra80S98PxWcSwRWDPqdrYsiooAEfk3Mg2jAyFP8IrqPEfj7wD/AMFUPCVz8OviBperfA/9qP4a2P8AbtlLcxm11PwndRfd1KxvVGyfT3cfMN2ySNirrnkWv+Do7/lBR8c/+4B/6kGmVwP7RPxasvDfjz/goF8WriTyLfwP4JtvA1jfOSpgm+wMzKmen+kXK8jqaAOr/Z6/4Lv+HviB+yxoNva6ddfEr9ocrPot14J8Jwm6a51O3kaBp3mXMVtZyMnmCaRgNjZAPSvor/gnT+yp4h/Z4+HviLxF8QL631X4rfFPV38TeL7i2YtbW9y6hY7OAnnybeJUiX12k45rwz/g21+AZ+DP/BMTwzqU+hJoc3ji+vPEVtDJbrHdLZ3Epa3EpHJJTDYJ43V990AFFFFABRRRQAUUUUAfFX7dPxL8R+Fv+CrH7H2g6Z4g1zTdC8RTeJBq2m2t/LDaaoIrKJo/PiVgkuxiSu8HaSSMV9q18K/8FANPuLn/AIK9fsVTRwTSQwTeKPNkVCVjzYw43HoM+9fdVABRRRQAUUUUAFFFFABRRRQAUUUUAFFFFABRRRQAUUUUAFFFFABRRRQAUUUUAFFFFABRRRQAUUUUAFFFFABRRRQAUUUUAFFFFABRRRQAUUUUAFFFFABRRRQAUUUUAFFFFABRRRQAUUUUAFFFFABRRRQAUUUUAFFFFABRRRQAUUUUAFFFFABRRRQAUUUUAFFFFABRRRQAV8kftffsz/Gy/wD2y/Cnxn+Esnw01efwx4YufD50LxU93beYZphK8sc8AYKxCqvKkcZ5r63ooA+QV/bb/aQ+HTRDxt+ydrOqW+399d+BvGFhq+1vaCf7O5HXoSenFd18Vf8Agpt8Lv2dvCPhfVvihJ4q+Gy+KrQXcUOs+HbyT+zxu2lLqW2jmggcHqHkHHOcc19CUyaBLiPbIiup6hhkGgD5utvi7+yR+3yq2h134CfFeUjzBa3E+marcJ23eW+51+uBW54d/wCCb/wk+Hvwg8XeDPAGh3Xwx0jxvPHd6hJ4P1CbS5o5k27ZIGRisJwoB8tQCM5BzW18Yv8Agn/8Df2gxnxt8Ifhx4mlwQs9/wCHrWWdM9dsuzep9wRXNeLP+Cafw+vfgZofw+8H6p8QvhLoPhm6lvNKPgTxXeaPNZySctyHZZEzyI5VeMc4XBIoA4f/AId2fFv4dy7/AIfftX/FOzjRTss/F2naf4ktye2WaOKXH/A67f4KaB+0z8PPDXipfHniH4V/Ei9trEt4bfTNNudBlvbkZwt3ueaONSMcxg4OeK8T/aW/Z0/aN/Y6/Z88eeP/AIdftP8AjbxoPAvhrUddg8MeN/CGma6+svaWsk62yXFpHaTrJIY9gb5+WHyk17dp3iP9pP4V/s/311rnh34b/Fr4hWuoKttZ+G7ybw3a31kQNzn7WZgk4Ofl8zYf7woA4Rf28fj78ObtIvHn7JXjO4tggMl/4G8Tadr8e7v+5ka3lAx04P4V3X7Pf/BSbwP8f/FF3oL+Hvid4D16wtJb+5svGPg++0hYYIhmRzcOhtiAOfllPtXEf8PPfF/gKUx/EX9l749+Fwgy93o+m23iezAGMnfYTSMOvdBXffB//gpZ8HPjd8P/ABN4itfEk+h6X4OCDX/+El0u50R9J3naomW6jTbk8fWgDwX/AIJw/tA/Dv8AaR/4KI/tR/EPQPGfhfW/N1LSPB+kyW2qxSG4tLGyVpDEobLRm5mmw4GGOcEjFfeobd0r5c1j9lr9jn9t2Z7+TwZ8BfiDeXCfNfWdpp1xelWJP+ui/ejJyfvDnNa/wN/4Jc/DH9mj4k6b4i8Aah8S/DMGmbgugxeO9WutCnVl27Xsri4ki2r1UAAKemKAPo2ivlTxP+yb+0r4Y8W6lqfgX9qMXlheStNBofjjwFY6pb2mWJCR3Fk9nMEGcfPvOB1FT+AvGf7YnhHxto9j4x8DfAvxh4fuLtIdQ1jw14kv9MurSAnDTCzurd1ZgOfLE/0agD6I8e/DLw38VdDl0zxR4e0PxJps67ZLTVLCK8gkGc4KSKykZA7dq+ffGf8AwRm/Zk8Y6xJqUXwk8PeGNVcEfbvCsk/h24HvusZIc47ZzjtUnxf/AOClQ+AvxM1zQ/E/wS+PI0fSJAsHiTR/Cja3peoxkZ8yNrR5JFH+y6K3HSmfDz/gsl+zX8RtXs9Ni+KeiaJq19IIYbDX4ptHuWkJA2bLlIzuycY65oA3Pip+wvqXiH4VeFPDHgT4y/FX4Y/8IfEYrW807UItSlvhkEfazeRytcYx3YHBPNfM/wC1/wD8Euv2nvj54X0i1j+PngjxLqnhS8XVPDmuap4SbR9b0K9XgSw3VnKVIYfK8bxlHHBFfoRbeL9JvNYk0+LU9Plv4VV5LZLlDNGrDcpKZyARyOORWiDmgD+e/wD4L1/ty/tR/Dj9jnxf+zR8c/DHww8R3PiLwlp/ia68W+Fr24ikhtbbxFYRJNNbyqF3STrGhSPOPODdFIrzDTP2g/iX+1z8BdU1n4k2/jnwh8PPi58VrbxNrOh6N4Dv9Q0nVNPF3uu2utUiEvmW8KQCMW4RWYtk7gor2T/g7Y/5OH8S/wDZBbb/ANTnSa/SL/g3lG//AIJJ/DEHkf6f1/6/ZqAPdfgF+278EfjH8IP+Eh8CfEHwfdeDtFni0d7hbxbSDTptoEds6y7DE+NoCMAfavW9L1i01yyS5srq3u7eQZSWGQSI/wBCODWD8RPgp4O+Lvgy/wDDnirwp4c8SeH9VIa903VNNhu7S7I6GSJ1KsRgYJHGK+d9W/4Im/s5rqD3vhfwbqvwz1J+t34D8S6l4YbPHJSznjiY8D7yGgD6vor5++F37GPi74A/DbxXpHhP47fE3XdT1iFF0W8+IEkHiaPw66kcoAlvPOCMgiWdj0OcjnhE/wCG4vhc8m4fs5/F2yQFoyr6n4Rv3/2SpF7CSf725RzjHGaAPryivn74EftS/FfxRLrkPxL/AGfvE/w+bQ9KfURdWOuWGv22pugYm3thbv5zykD5VaNScgda4qx/4LYfAzTLv7L4zuvG/wALrwDc0PjTwjqOj7f+ByReWfwagD62orzb4Mfti/Cj9ooxDwJ8R/BXiyWdDIkOl6xBcTMoGSfLVi3H0r0gNmgD5A/bS+P3jL4df8FNv2UfBmieILzTvC/jmXxANe06NUMWpi3tI3hDkqWG1mJG0ivsCvg//goMf+Nwn7Ev/XbxT/6Qw194UAFFFFABRRRQAUUUUAFFFFABRRRQAUUUUAFFFFABRRRQAUUUUAFFFFABRRRQAUUUUAFFFFABRRRQAUUUUAFFFFABRRRQAUUUUAFFFFABRRRQAUUUUAFFFFABRRRQAUUUUAFFFFABRRRQAUUUUAFFFFABRRRQAUUUUAFFFFABRRRQAUUUUAFFFFABRRRQAUUUUAFFFFABRRRQAUUUUAFFFFAHn/7WOv8AjLwp+yx8S9U+HVl/aXxB03wpql14Ys/JE32rVI7SVrSPYSA+6cRjaSAc4r0CvP8A9rHQPGXiv9lj4l6X8Or3+zfiDqXhTVLXwxeecIfsuqSWkq2km8ghNs5jO4ggYzXoFABXx5/wXL+O/jD9n/8AYVbUPBF5o1hreveKNG8O+dqukQ6raJFe3aQOXt5gUkA3A4P93t1r7Dr4S/4OH/8Akw7w/wD9lL8Kf+nSKgD5+8f/APBvJ8XvirKt5qXxk+A1vflQRe6Z8CLHTLoZH/PS3uo2P41tfs8f8ESf2vf2XJNVHhH9uWaGz1W3NsbG/wDAx1C1s1OcNBHPeuImGeGXmv1Ps/8Ajzi/3B/KpaAPz/g/Yj/b48OeHvIsf20fBep3ES/u/wC0PhRagv8A70gnY/8Ajprzzwr+zx/wVQn+KMthr/7QPwXsfCKxTSJrOl+E4L67dlGY0+ySRQAM/T/XEL6mv1DooA/GG7/ag/bW8A6lPbfEX4xfFX4dpbsQb+5/Zhj1vTXUE/MtxpV5djHGcMFPtWv8OviH8QP21PEeneG9N/4KH/s8eLdevZsWeg6x8G9Pi1N5V52rZ3c6zCQYzt2bhjpxX7D1lap4G0XW9btNSvdH0u71Gwbfa3c9pHJPbN6o5G5T9DQB+V3xx/4IV/HD9rDxdN4g8UftKfCLVvE/lrZy61ZfCK2tdR2RjasbTQXqsdg4AP3cUnwl/wCCFP7YnwSvIH8P/wDBQHxPDbW7EpZXPhWS7tAD28qW9ZcelfY/j/8A4I1fs5+PPGV/4lh8AN4S8TamzyXOreEtav8Aw7dTSM25pHNlNEruSfvOrGqPhD/gmb4k+EniLSLnwZ+0v8fLLS9OvI55tH1/U7PxFaXcCnJty91bm4CkcbvOL+9AHwj/AMFEf+DeT9qr9ub7ZrXiH9pnwB4y8R3PhqPwm0V74I/sKCawTUYNRCGS3kmIb7RbxtvEeTt29Ca474Jfspf8FUf2APhbo/gLw1rfgrU/AOheb5DeE9L0rWL2EO7SMfL1B7JnyzHgOTz0r9Nfi/Z/tceGfifreoeA7z4GeK/Bs8ofTNI1yLUNL1G0THMbXEXmxyEnndsXGelc3H+3F+0N8PJrdPHP7KHiW8gZ1jlvfBPiiw1pEycbhDIYZdvc8ZHpQB8qfEz4j/tf/AX4ZeFPE/xF/ao1bwZB4nt3nltn/ZubV5dC2DLLfNp09zHAR6lyCATnANQ/CH9pL4s/Hi8gtfC3/BT/APZ81G/uU3xWEnw6021vWA6/6PNdpLx3+Xivun47f8FOPhb+zF4+Tw/4/fxh4bmeyivvt0nhbULrTlWQZ2m5gikjDr0Zc5BFc8/x6/Y3/b6gitL7X/gH8TZLggx2ernTr263AcYhnBkDDJ/hBHtQB5jp/wCyP+3Lq1mlxa/treAbmCUbkli+EFk6OPUEXWDU/wDwxt+3d/0ed4H/APDO2n/yVXtvi3/gnB8LPE/wH0vwD4Wj8Q/DLwxpV4+paaPh/r9z4ea1mk5Z1Ns6q6k87HDJ/s1wjf8ABPn4z/DyUP4A/a0+JUcSDAs/Guiab4khbHT51jtpR7nefpQBxv8Awxt+3d/0ed4H/wDDO2n/AMlVFefsUftz6jbtDcftkeAp4n4ZJPg1ZsrfUG5xXtWiQftPfDb9nzW/7Qm+E/xP+I9rfBtJECXXhyxv7PuJs+eY5/TblPXFcT/w3/8AHH4dSxJ49/ZM+IIiKjzLzwbrmn+Iolbv+7DxS499tAHiehf8Ejv2nvC3jmHxRpf7Q/wM0zxNbrIkWrWfwA0qC9RZBhwJUnDfMOvPNfI/7cX/AASW/ae/4Jv/ALMHxL+OWgftm+ILf/hE7Q6xNoOhaDNpdreyNMisAPtkiR5L5PyEcYxzX6vfCv8A4KWfDz4jfD/xl4k1Ow8eeALH4fwJc68vi7wveaU9jGxIDjchWUccmJmx3r5k/wCC037cXwb/AGj/APgjT8fIPAfxR8BeLLubwyrpa6ZrlvPclTcwc+UH3j/vmgDwf4IftU/FTw9/wWT+EfwT8V+LE+LXhSG2i1CDxF4o0Gw/trSdQk0ZbuaG1uLeNNqFLiMMSu44Iz3P7LV+Gn7GTDx7+39+zH8TSxlPxI8d+NJraTnb9jstMtbG3Cf7OyEHPckkVzfxm+FfxE/bb/4Ki/E74d6D+0D8c/AGtaj8W77RrQ6L4vvk0vQ9EtNIt7qUpZLKi7zPcRquHVQCeKAP3vor8Yrr/ggX+1R8M7i4kt/2lPid8VbNXLRRTfFvXPDF26f3PljuYwewO7HrXZat/wAEv/EHw5/Z903xV4u1T9vWbxTcakbK98MeD/je2vz2cPzYuhIVhV4yAPlA3DcBigD9a6K/Fi08A/s4aJNJD45/aA/4KMfCy4h/1ieLvE2u2caD+8Zkgki2++/HrXu/wc/4Jj/Ab9oTwTJ4k8Eftm/tO+J9CglWCa90/wCN880UEjDKxuQPkcj+FsH2oA/TCivg+H/gg14SuYleP9pH9seRGGVZfi7eEEex2U//AIcJeFf+jjv2yv8Aw7l5/wDEUAfdtFfCX/DhLwr/ANHHftlf+HcvP/iKP+HCXhX/AKOO/bK/8O5ef/EUAfdtFfCX/DhLwr/0cd+2V/4dy8/+Io/4cJeFf+jjv2yv/DuXn/xFAH3bRXwl/wAOEvCv/Rx37ZX/AIdy8/8AiKP+HCXhX/o479sr/wAO5ef/ABFAH3bRXwl/w4S8K/8ARx37ZX/h3Lz/AOIo/wCHCXhX/o479sr/AMO5ef8AxFAH3bRXwl/w4S8K/wDRx37ZX/h3Lz/4ij/hwl4V/wCjjv2yv/DuXn/xFAH3bRXwl/w4S8K/9HHftlf+HcvP/iK+dv8Agq3/AMExU/Yb/YO8bfFHwd+0P+1pceJPC7WElnHqfxUvbi0YyX1vCwkjAUsNkjcbhzigD9dqKyfAU73PgXRZJHeSSSwgZ3dssxMakkk9TWtQAUUUUAFFFFABRRRQAUUUUAFFFFABRRRQAUUUUAFFFFABRRRQAUUUUAFFFFABRRRQAUUUUAFFFFABRRRQAUUUUAFFFFABRRRQAUUUUAFFFFABRRRQAUUUUAFFFFABRRRQAUUUUAFFFFABRRRQBDqLmPT5yCQRGxBHbivyL/4JYfsCeMf+CgP7HGkfFLxZ+1x+2Dout69quqRS2ehfEFYLCBIb2aFBGktvI6jag6ufbHSv13uIftNu8ZOA6lSR2zX55fCX/ghV40/Z+8Gjw14C/bC+OnhLwxBdXF1a6VY2umeRamaVpXC74GbG5j1NAG//AMONL3/o839uL/w5EH/yFR/w40vf+jzf24v/AA5EH/yFU3/DpT4zf9HzftC/+Amk/wDyPR/w6U+M3/R837Qv/gJpP/yPQBD/AMONL3/o839uL/w5EH/yFR/w40vf+jzf24v/AA5EH/yFU3/DpT4zf9HzftC/+Amk/wDyPR/w6U+M3/R837Qv/gJpP/yPQBx/x0/4IVatffBLxjDZ/tqftfW13Nod6kE3iL4iRPo8TmBwrXiraoxtgcGQK6koGwy9a6r/AIcaXv8A0eb+3F/4ciD/AOQq8A/4KS/8E6vjD8P/AIL6B4eu/wBsj43+I9H+K3iW28AavZ6lZ6a1u9lqMFxFPuWOJGb5ARt3DIY8jgj6F/4dKfGX/o+b9oX/AMBNJ/8AkegCH/hxpe/9Hm/txf8AhyIP/kKuf+Jf/Bu3o3xm8Ox6R4t/at/bL8SaXDdw38dpqXj21uYUuIXDwyhXsiA6OAyt1BAIrpv+HSnxm/6Pm/aF/wDATSf/AJHo/wCHSnxm/wCj5v2hf/ATSf8A5HoAhH/BDO9A/wCTzf24v/DkQf8AyFR/w40vf+jzf24v/DkQf/IVTf8ADpT4zf8AR837Qv8A4CaT/wDI9H/DpT4zf9HzftC/+Amk/wDyPQBD/wAONL3/AKPN/bi/8ORB/wDIVH/DjS9/6PN/bi/8ORB/8hVN/wAOlPjN/wBHzftC/wDgJpP/AMj0f8OlPjN/0fN+0L/4CaT/API9AEP/AA40vf8Ao839uL/w5EH/AMhUf8ONL3/o839uL/w5EH/yFU3/AA6U+M3/AEfN+0L/AOAmk/8AyPR/w6U+M3/R837Qv/gJpP8A8j0AQ/8ADjS9/wCjzf24v/DkQf8AyFR/w40vf+jzf24v/DkQf/IVTf8ADpT4zf8AR837Qv8A4CaT/wDI9H/DpT4zf9HzftC/+Amk/wDyPQBD/wAONL3/AKPN/bi/8ORB/wDIVH/DjS9/6PN/bi/8ORB/8hVN/wAOlPjN/wBHzftC/wDgJpP/AMj0f8OlPjN/0fN+0L/4CaT/API9AEX/AA41vcEf8Nm/txYPUH4jwHP/AJJV5t8Vv+DW34Z/HNCPGP7QP7U3iYMdx/tHxXp85J+rWHtXp3/DpT4zf9HzftC/+Amk/wDyPR/w6U+M3/R837Qv/gJpP/yPQBzvhf8A4N59M8E6ZpNlpH7Wn7aOmWehWy2WnQW3xBto47KBRgRxgWWFUDsK5b4yf8EEfjPq1rn4fft/ftP6BMGzt8Q6zLq6OPTMMtsVPvg/SvS/+HSnxm/6Pm/aF/8AATSf/kevmP4q6R4g+Ef/AAUv+Hv7Meo/t2/tCf8ACXePtCutWS78vRxDYTqQbS0kH2b79wkV2wyQQYoRtbzlIANj4jf8EYP2pPhz8KPDc2g/tOftE/FLxigl/wCEhhj+MknhS0l/55fY1l028IyPvebJ16GuEH7MHxQ+H4iHxG1v/gq34fDnEl14c+ImkeLrWEjqT9gjafb7+T9cV9f/APDpT4zf9HzftC/+Amk//I9H/DpT4zf9HzftC/8AgJpP/wAj0AeC6R+yj8Lrv4H2fxA8Rft4/tzfD/wxf6m2ipJ438b/APCOyC7GQYWivLCNhnBwcbT2JqjrP/Btx+zV+2TAtxeftQ/Hb4jpL+9Dnxzo+o7s9+LE177r/wDwRy+KvizSZtP1b9tX466tp9yuya1vtL0W5gmX0aN7Yqw+orwjxd/wad+GPGfiOPV7j9oT4oWOqRH5brSNJ0rSJfxNrBFkexoA8s8df8EI/hP+xN+2x+zp8NvCXxV/alsbvx3Lrf8AZGtad4+sbB/CjQW6SytBEumHPnBtrbXj6c7uld58R/8Ag1r8c6J8X7zx/wDCj9sz4xeFvF2oSzXF5qetI19qN5LMqJI73lvPbtlkjjVso24IvoK87+N//BIjxZ+zB/wUC/ZV8CaP+1N8cr9vEk/iA6fq+oz213eeHDFaRM/2Yyqw/eg7WDAgBRjFfS3xl/4JE/thNDu+H37e3j9HGSYvEOiWrhvQb4VGPrtNAHnnwC/4Ip/tZad8RIdN+Kv7VPx01TwwYpXk1/wh8YLq1ugw/wBWv9n3WmOAW7/6UQPU1ymq/s1+Lvhxq9xb+PfGn/BWfw5aQyuq6npXi/TvE1k8ak/vD/Z0U0qggZ+aMda7n4Yf8E4P26PC3hnxfd/Ev9qD4pa1caNbC40WLwLf6Y0+vvnmHyr22jWFsdC0pB56Vwk8/wAVPBl+kHj343f8FGfAAIJe7ufh7pms2SEdczaZHdAD3YAHtmgDe+C/wl+Bfx+8cWHhDS/+Cg37b1h4r1ef7Hb+HvEPjN9H1GebBPlC3u9OjcthScY6CvTdf/4N6Php8ZfDWt+D7/8Aaz/am8RaTeXQfV9Gb4gadPDLOhHM0IssFwQPvDPFcn+z18OtO/a38WXOheDP+CkPxs1bxJo0L30+k3+kafp+p2EacPK1vd2UcyAZ5baBz1qhrn/Brz4W+Nnji78cj9qb4sXuvarK013rOjLptnLeyE5LySWsab2z3bJoA9E+Ef8AwbH+BfgHFs8EftLfteeE4ydxTSvHFparn6JYgVsePf8AghH4+u/Cetp4Y/bk/a+sNdlhA0ifVPGQu7S1lyObiOOOJplIyMI8ZGQcnGDa+HX/AAQ/+JXwo0ZNP0P9t/8AaRt7SNdqxzy2N3gfWaJz+tcb8dP+CRn7aIvvN+Gv7eXjX7KIv+PbxJo9uZWk9pYFAA/4BQB4nN/wR2/bp+FwlbUv2hvjF8WreMko3hv433Pha7lX0EF7plzEGHvc4PqvSu9+A/8AwT2+IXxA1vWNO8d/E7/gpj8L5NF059Qe9vPifo+rafebBloYJLKOV5JeuF8sbu3PFcjY/sT/APBRH4cSIni74t/F7xrbiQRyXfgbxbocblc4Mi21/Zxdudpl/E12Px9+Gvir9l3xfb6T46/bJ/bT0iO4so706na+AI9W0uHeMmJ7mzsZkEidGXPHuOaAOO0TQv2eLzUmsdb/AOCiX7b/AID1KN/Ley8Z+NJfDk6NnABW806P8+le/wDw4/4JV+FvjDbLL4U/b8/a98SRuu5TpnxasrrI9fktDXlPgHwP4H/aXh/sfTf+Coni3xDJdgodH1K58PpcSdmVrS5t1kz2IKfWut8Ef8G2cfgf4mWfjvwv+058TdA8TQxMtvqui6Foli5RxyP3NsqspB7gigD1T/hxpen/AJvN/bi/8ORB/wDIdH/DjS9/6PN/bi/8ORB/8hVz/wAPP+CGfxH+FcEseh/tvftJ26TyNK4nuLO7yzEsT++jfHJ6Dp2rH8S/8EiP2t/+E90xtH/b3+I//CL+eP7RivNDtPt5i7+S6jy93+8uP5UAdx/w40vf+jzf24v/AA5EH/yFR/w40vf+jzf24v8Aw5EH/wAhV82/En9hn9vn4XePdZ+y/Gb4zfEPwhDeuum3GgeLNDstUntc/K8lvd2SxiXH8Ilxn+IdazNH0r4saf4p0/R/G3xy/wCCiHw9utSnjto7i+8BaXqtgJHcIoa502K5RRkjLPtAHOcUAfUv/DjS9/6PN/bi/wDDkQf/ACFR/wAONL3/AKPN/bi/8ORB/wDIVeX+JP2f08GfFu48Ba1/wU8+Iui+NbURmXQ9R1PQLS/XzFDp+6kiViSpBwBmvTdK/wCCVvxa12yS5sv28Pj7eW8oyksEOjyI49iLfBoAf/w40vf+jzf24v8Aw5EH/wAhVhfEz/g3k0n4z+CL3w14t/aw/bN8S+HtS2fa9N1Lx9a3Nrc7HWRN8b2RVsOqsMjgqD2ro/8Ah0p8Zv8Ao+b9oX/wE0n/AOR6P+HSnxm/6Pm/aF/8BNJ/+R6AK1t/wQrubO3jhi/bK/bgjiiUIiL8R4AEUDAAH2LoBT/+HGl7/wBHm/txf+HIg/8AkKpv+HSnxm/6Pm/aF/8AATSf/kej/h0p8Zv+j5v2hf8AwE0n/wCR6AIf+HGl7/0eb+3F/wCHIg/+QqP+HGl7/wBHm/txf+HIg/8AkKpv+HSnxm/6Pm/aF/8AATSf/kej/h0p8Zv+j5v2hf8AwE0n/wCR6AIf+HGl7/0eb+3F/wCHIg/+QqP+HGl7/wBHm/txf+HIg/8AkKpv+HSnxm/6Pm/aF/8AATSf/kej/h0p8Zv+j5v2hf8AwE0n/wCR6AIf+HGl7/0eb+3F/wCHIg/+QqP+HGl7/wBHm/txf+HIg/8AkKpv+HSnxm/6Pm/aF/8AATSf/kej/h0p8Zv+j5v2hf8AwE0n/wCR6AIf+HGl7/0eb+3F/wCHIg/+QqP+HGl7/wBHm/txf+HIg/8AkKpv+HSnxm/6Pm/aF/8AATSf/kej/h0p8Zv+j5v2hf8AwE0n/wCR6AIf+HGl7/0eb+3F/wCHIg/+QqP+HGl7/wBHm/txf+HIg/8AkKpv+HSnxm/6Pm/aF/8AATSf/kej/h0p8Zv+j5v2hf8AwE0n/wCR6AIf+HGl7/0eb+3F/wCHIg/+QqP+HGl7/wBHm/txf+HIg/8AkKsv4k/8EvPjT4I+HWv61F+3D+0HNLpGm3N6kb2ukhXaOJnAOLfOCVri/wBjH9gj45ftM/sreBfH2ofts/HzT73xXpMWoT21vbaWYoGfOVUtASR9TQB6R/w40vf+jzf24v8Aw5EH/wAhUf8ADjS9/wCjzf24v/DkQf8AyFU3/DpT4zf9HzftC/8AgJpP/wAj0f8ADpT4zf8AR837Qv8A4CaT/wDI9AEP/DjS9/6PN/bi/wDDkQf/ACFR/wAONL3/AKPN/bi/8ORB/wDIVTf8OlPjN/0fN+0L/wCAmk//ACPR/wAOlPjN/wBHzftC/wDgJpP/AMj0AfOn/BRL9i3xl/wTn8PfCHxx4X/ar/ay8VXWrfFjwz4cvNN8T+PBd6bdWd1d4mR4ooImbIQDBbbgsCDmv12r4Iuv+CI+v/Efxh4PuPij+1F8afil4a8IeIbPxPF4e1ePT4LW5vLRi9u7PDCsg2uc8HkZHevvegAooooAKKKKACiiigAooooAKKKKACiiigAooooAKKKKACiiigAooooAKKKKACiiigAooooAKKKKACiiigAooooAKKKKACiiigAooooAKKKKACiiigD5K/4K5/8AImfA/wD7LBoH/oN1X1rXyV/wVz/5Ez4H/wDZYNA/9Buq+taACiiigAooooAKKKKACiiigAooooAKKKKACiiigAr8Yv2tf+Dem3+OP/BZ/QPHF58dfHdh4v8AHmn678RrfU7bTrbzNAuNF1DQILG2twSf3UceohQWyQLWPrlq/Z2vn/4jf8pTfg3/ANkq8ef+nfwZQB75aJJFaxrM6yzKgDuqbA7Y5IGTjJ7ZNSUUUAFFFFAHyH+23ZeAZv8Ago1+yhPrd/4kg8exajrg8OW1lbRyWFxCbIfajcsxUpgCLYULHJI2kcj68r4P/wCCg3/KYT9iX/rt4p/9IYa+8KACiiigClqfhvTtbguI7ywsruO7ga2nSaBZFniYENGwI+ZSCQVPBzXzF4h/4Io/s06lqkmoaL8OIvAGqyZP2/wPq994XnBPOT9gmhVv+BKQK+qqKAPnP4FfsAar+zz8SbLVtI+Pnx113w7bF9/hjxTrVtrljKpUhV8+e3N4ApOR+/LHHJNc54h8GftoeAvEl1ceH/G3wE+IeiyTO8Njrmg6h4fvIIycqnn28tyjkDjmJemc9q+r6KAPl34ZftS/tG2/jnS9F+IX7NQsrK9u1tp9f8L+NbLVLC1Q/wDLZophBcbB3/d59jUvxI/4K5fB/wCCvxU1Xwj46bxx4Lu9LlaM32r+EdQj0y7VTjzIbpYmidD2Oa+naZPAlzEySIsiMMMrDII9xQB8wP8AGD9jv9vnTYrS91b4C/E5L91WO01QadezyOeFAinBkD/hkV1Hxm/4Jt/Cr406D4a09rLxL4Pj8G2X9naE3gvxPqPhr+y7bqIo0spooyo7BlOO2K6T4j/sK/Bf4vXsNz4l+FXw/wBZu7e5S7iubjQrYzxzIwdZBJs3bgygg57VxHxz/wCCXnw5+OHxWvPHX9q/Ejwb4wv4oobjU/CnjHUNIaVY12x7oo5fJO0dMpQByH/DuL4rfDmOP/hXH7XHxj05YWGy08Z2OmeLrUoP4GaSGG5I9/tG71Jrv/Gb/tI/DL4K+HI/D0Xww+K3je2lkGuzahLc+Fra9i/g+zoi3QR8cHe20+2ePPZP+Cf/AMd/hzZbPh5+138QVETbobbxz4d0zxNARn7jyCOC5ZcZ584N713vx18a/tL/AA71rSz4A8BfCz4maLFpsY1E6h4pufDmpT3o4kMSfZbiFYjwRuk3DOOcZoA4N/8Agof8ZfhxJCnxA/ZJ+KdtGRiW98Ialp3iaCM/7kUqz49/L474r0LT/wDgpL8MrL4BSfEnxZJ4m+HHhqDUTpUx8W6BdaXcwzjs0TIW28HD42nHWuBH/BTD4gfD2Mf8LJ/ZO+PXhxVH7678Nw6f4wtIsdT/AKBctcFfQiDOOoHSu9+Iv/BSb4F/DPwr4UvPiH400vwDb+ObI32m2vjG2l0eWSIHDebHcopiIPUSYNAECfFf9lv9unTRazaz8EvilDfIFFreyadqjyjsPKk3Nx9OK5G//wCCJn7Nx1GXUvCng3UvhrqM45u/APibUvDGT2by7K4jiYjsWQnHHStW9/Zm/ZE/bRsUvIvCvwR8drL+8jvNMisZpST/ABLLAd+fcGt3wX/wTg8A/B74MeLPBfw01Hxl8NbLxdLHcSXmha/cNdadKhUh7UztKsOdoDKq7WBORzQAn7QP7I3xI8feINN1T4eftDePPhnJpdjFZLpzaTp2uaXdmPjzJ47iLz3dh95lnUn1FeH/ALRvxY/bB/YM+DHib4g674l+Avxa8JeE7P7ZdRzaVqHhfVZlDKu1DHJdQsxLcZ2DNdw37Gv7THw8RP8AhDf2r7zWoohhbTx54G0/VEkH+1NZ/ZJc++T9K4L9rL9n79rf9oj9lfxX4I8XWHwQ8YFtR0i/sR4bvr/RZtagtb1Lm5tpo7tZoomdYkCN5pUljuCgZoA+4PAfiGbxb4H0fVbi2FnPqdjDdyW4ff5DSIrFM4GcE4zjtWtXyJa/8FOvEPw1t4rf4h/su/tEeDIYUCNdaVotr4rsYQo7tpdxPIFGOpiArvf2c/8Agp98EP2p/GV34a8J+M8eKdPtnu7vQ9Z0u80XU7WJOXd7e8iikCgck4xjnOOaAPfqK5zwV8YfCXxIt/N8PeJ/D+uxc/Pp+oRXI44/gY10QOaAFooooAKKKKACiiigAooooA5D9oH/AJIL42/7AF//AOk8leTf8El/+UbXwa/7Fq3/AK16z+0D/wAkF8bf9gC//wDSeSvJv+CS/wDyja+DX/YtW/8AWgD6IooooAKKKKACiiigAooooAKKKKACiiigAooooAKKKKACiiigAooooAKKKKACiiigAooooAKKKKACiiigAooooAKKKKACiiigAooooAKKKKACiiigAooooAKKKKACsrxv450X4aeFL7XfEWradoei6ZEZ7u+v7hLe3toxyWd2IVR9TWrXyt/wU2/4Jqf8N+6d4N1Ow8WSaD4m+HWo/wBr6NYatZrq3hfVJx0TUdOchZ17K6sHjzkZIAoA8s+KPxw1P/gq78QvhzpPwf8ACerXfwu8EeNLHxVqfxG1ZGsNK1EWgmH2fTonHm3e4yD96FWMY4Jr78r4++F//BSqT4HeJtL+Hn7SPg22+CfiSdxZ6TrdtL9o8F+ISMBfsl9tUQMRj9xcCN1zgbutfXtneRahaxzwSxzwTKHjkjYMrqeQQRwRQBJRRRQAUUUUAFFFFABRRRQAUUUUAFFFFABRRRQAV8//ABG/5Sm/Bv8A7JV48/8ATv4Mr6Ar5/8AiN/ylN+Df/ZKvHn/AKd/BlAH0BRRRQAUUUUAfIn7Znw08P8Ain/gpb+ytr2o+OtH0DWvDsuvnTNAubWaS68R+baRrIIXUbE8oAMd5GQeK+u6+D/+Cg3/ACmE/Yl/67eKf/SGGvvCgAooooAKKKKACiiigAooooAKKKKACiiigAqrrOh2XiOwe11Cztb61k+/DcRLLG31VgQatUUAfOvxN/4JIfsz/Fy8N1q/wT+H8GoF/M+36Tpi6PfB853C4tPKlDHuQ2TU3ir/AIJ+W9n8EtD8EfDn4nfFT4U2nh65muba70jWRqNzN5nWOZ9QS4aSNf4VJGMmvoSigD5B/wCGdv2wvhj5J8N/tA/D/wAfwRn5rbxn4INnJIvb/SLKYc+/l/hXeWHxW/aG+H3wCv8AVvE/wu8H+NfHlrqQhg0bwf4hNrb3lkRzOJb1F2yA/wDLM9cj5q+gqKAPkGT/AIK3xeAkiHxH+An7QngHcdstyfCZ1qyhPvLYPMce+zFemfB3/goT8D/2kvCPibVdD8a6RJpfhbZba82tW02kjTRNwqzreRxFVbOORgnivcqxPGnw38PfEfwxqGi+INC0jXNH1ePyb6xv7OO4t7xP7skbgq49iDQB87+I/wDgk3+yl8cJY9btfhP8P4Lp/mj1bwmv9i3BzySJ9PeJjnqfmweM5rT+B3/BNXRf2c/ihZa/4V+KHxuj0q0dmfwzqnjCXV9HnBGApW7WSYKOoCyisLXP+CJn7NN3qg1DQvh0Ph/qqAhL7wRrN94ZnT8bGaJSPZgR7V1PwX/YV1j9nlPEg8OfHP4zaxFq2mSWel2fjHVYPEdpoNwQdlzEZoRcyFSR8ktwykDHHYA5jxT8J/2v/Bni29vvCnxZ+EvjLR5p3lg0nxP4Tn06S3jJJWMXNpM27AwMsnapfhx+0J+1Jo3jTS9J8ffAHwneaZeXyWtzr/hPxtHLBaRMebhra5ijl2gdVBJ+tZJ8D/tv/C6SL+z/AB5+z18W7ONcSJrfhzUfCl7L7iW2nu4gfbygOeoxXbfAL9oX486/8QP7C+J/wAi8JWC200x8R6D4ys9a0x3QArGImWC6DPkgfucZHWgDM+Lf/BUfwp8A/ijqfh3xn8PvjToljp05gj8RR+C7rUdGvQP445rTzW2nsXRa0Phh/wAFav2a/i9fpZaP8aPAcepPKLcafqmorpV95hIAT7PdeXLuJIAG3Jrkrn/gs18K/B199n8f+Hvi58Lm8xo/O8V+BNSs7QkEjIuFieHBxkHd0rp/BH7SH7K/7cGoW1ppXiT4PfEPUJJR5FnM1ndXnmLyMRSDzAwxnpnigD6NSVZACrKQRkEHqKdXzv8AHv8A4JifCT9o34myeN7+Hxf4e8ZvbJZNrfhTxhqehXJjjGEDC1nSNyo4BdDgcVxcX/BOL4s/DSDb8OP2u/jJp8cZzDaeNbDS/GFso7IzzQRXTr7m43+rGgD68or5/wDjnP8AtPeEdR0CT4bW/wAFvG2mwaYketweIp9Q0K9u74E7pbeSFbmJImGP3brlTn52BwPAv2pvjt8ZvjH+zt4p+H/xY/Zf+Mvh/S/Etm9jea38JvGGm61c28ZwDJAN8NyQe6m3JIJBUigDvP2rv+CkWheJr7xL8Hfg1oGpfG34o31nPpd5Y+H5F/srw00sZjL6lqJzBb7N4Jiy0pxgJXtf7DfwQ1T9m39kP4eeBNcntLjWPC+iwWN5JakmFpVHzbCcEjJxnHavz7/Z3/bun/4Ix/Cf4c+EPi94LtrP4QeKrYjw74s0XwrJoWuWGzG5Ne0QKWimAI3Tws6seSq1+hPwW/bb+EH7Rei22oeB/iZ4J8T212oaI2GsQSO3ts3bgfYjIoA9RopscglQMpDKeQQcg06gAooooAKKKKACiiigAooooAKKKKACiiigAooooAKKKKACiiigAooooAKKKKACiiigAooooAKKKKACiiigAooooAKKKKACiiigAooooAKKKKACiiigAooooAKKK83/AGmv2uPh5+x74D/4SL4heJbLQLKR/KtYWzLd6jKekNvAgMk0hOAFRSeaAOs+I/w18PfGDwTqPhvxVoml+ItA1eFre907UbZLi2uYyMFWRgQa/Nb4+6/e/wDBJv4waV4U/Zq8b6j8RdV1u4WRf2fbxpdaeG3Z/nmsroFpNJhQHj7Qxg6YHavav7f/AGkf+CjjbdHTVv2Yfg5dZB1O5ijk8e+IITxmCJt0WmIw5DyB5sEEKpr6F/ZS/Yn+Gv7FnhK50r4f+HIdNl1OU3WrarcSNd6rrlwfvT3d3ITLPIx5JZiBngAcUAei+ENUvtb8K6deanpraPqN1bRy3Vg06zmzkZQWiLr8rbSSMjg4rRoooAKKKKACiiigAooooAKKKKACiiigAooooA+Ov+Cgv/BSrxH/AME3/jJpF14t8JDxR8K/HmkyaV4Tk0KznbWZPGSkvbaNOd7xmO/i3eTKsa+W9vIJNysGXX8ESeOZv24f2cpPiZ/wji/EGb4L+NZfEMfh+GWLS4L1tU8GNLFbiWSSQxoxKBmcl9u7C7toufta/wDBL3w3+3Z8YtS1j4q6qviXwdB4RuPDnhjwyth5K+Gr27J+16ys/msZL0osMcThE8hY227jIxrM+HHgLxT8Lf22P2cfDfjbxgvxB8VaF8GfG9jqPiQab/Zza3JHq3gxRcPB5suyRlCl8SEM+5gFBCgA+taKKKACiiigD5H/AGyfgfJ49/4KU/sseLV8VeCdITwZLr5bSNU1YW2ra159pGn+g25Umcx4y+CNqkGvrivg/wD4KDf8phP2Jf8Art4p/wDSGGvvCgAooooAKKKKACiiigAooooAKKKKACiiigAooooAKKKKACiiigAooooAKKKKACiiigBGUOpBAIIwQR1rirv9mr4dX/jyz8VTeA/BsnifTpBNa6u2jW/263cKVDLNs3ggEjg121FAHyz45/4JCfC3xF44v/E3h7Wfij8PPEGpzvdXN54W8a6hZCaRzks0LSPF15xspngL9hz40fCTxdpc2i/tTeO9d8OW14kt5pPi3QdO1WS6gB+aEXSxxyqSP4iSRX1TRQB81/GHxP8AtZeC/ibqV14N8K/BHx34IabNjp91q9/oesxxY6PMY54Hf6KgrndI/wCCiHxZ8I38Nr8RP2S/i9o/mTpA194U1DTPFNigZgokJjniuNgzlv3GQM8Gvras/wAVeLNL8C+HbzV9a1Gx0nStPiM11eXk6wQW6DqzuxAUe5NAHiHxz/4KUfs//Az4kN4B+JnxB8O+DtaubKK8az8SxSWNrNDKMqBPMgt3P95A5K/xAV8Lf8FLv2Cv2IfiN4MPxx8PePvhN8PPEKShrfVNHa21XS/E85+5bPYWz77iRzgD7KVl7819F+Mf27vGn7dz3Hhb9mXwNp3iPw67mG++JfjSxki8KWo5DGygYCXUpB2ChYvV8Vj/AAh/4N0f2c/DkGqax4/8Np8SPiF4in+2ap4mkB0ORJ+v+hQ6e0KWaA9PL+fH3nagCH/gnp+z9r37T/8AwTw8PaR4j8LfEr9ma5sNTlvLCPw54lu7S61FG6Xfl3RkuIIZMlhbXGWTvXeTfsU/tLfDeEf8IN+1dqOrRxNmOz8d+DrHVkdf7jz2/wBnmP13Z4716D8av2Ch8SI/DX/CLfFv4y/C1vCemDS7GPw3r6S208Y+61zFexXAncdN7HeR1Y158f2Zf2u/hda/8Ur+0h4N8epE37q18d+A0hlkQdnutPmj+b/aEGP9mgDvdM8WftJ/DH4Date694T+GvxS8fWl8iafp/hzU5/DtrfWmPmkeS6E+yUH+EfKc9RXDp/wVH8SeBI1/wCFkfsv/tD+D1X/AF13pejWvimyhx1JbTZ5pSvv5XTriu78dfGT49/CD4S+GbuT4SaL8UPFkokHiC28J+Io7G2tMfca3+3CNpdw7HGCK4CD/grpZ+EIlPxF+Bf7QXw7AbbNcXXhF9Ts4T0JM1k0wK+4FAHsv7Kf7b3w3/bS0vXLjwBrN9fTeGLtbDWbHUNIvNKvtLuGQOI5re6ijkUlSCDtwQeDXrNfGn/BHm+X4pad8b/ivHZ6tb2vxQ+I2oX2nS6layW89zYW+22tnCSgOE8uMbQQMDoK+y6ACiiigAooooAKKKKACiiigAooooAKKKKACiiigAooooAKKKKACiiigAooooAKKKKACiiigAooooAKKKKACiiigAooooAKKKKACiiigAooooAK8K/bQ/4J8+Bv22l8O6lrcmseHvG3gi4a98K+LdDuvs2reHrgjBeJsFHU/wAUcisrDqK91ooA+K0/a6+Mv/BP0rYftD6DL8Q/h3b4SH4reDtMZ3tEzgNrGlx7pLcgY3T24eHuQlfWPwq+Lvhf45+BbHxN4N8QaR4o8PanGJLXUdMukubedfZ1JH4dRXQXLxx27tKUEQUly/3QvfOe1flJ8bLXQrn9pm6/4d/x6vD8VotTQeLpfDwVfhf1/ejVA3+jNcYz/wAeI87P3jQB+r1FZvg/+1v+EU03+3vsP9tfZo/t/wBi3fZvP2jf5e75tm7OM84rSoAKKKKACiiigAooooAKKKKACiiigAooooAK+f8A4jf8pTfg3/2Srx5/6d/BlfQFfP8A8Rv+Upvwb/7JV48/9O/gygD6AooooAKKKKAPjv8Abe+Bnizxr/wUv/ZL8baTol3f+GPB15r8GtX0OGXTmubJFhLrncFYxsN2MA4BIyM/YlfC/wDwUD1a6j/4K3fsVWAubgWM934mnlthK3kySJYRhHKZ2ll3Ng4yNxx1r7ooAKKKKACiiigAooooAKKKKACiiigAooooAKKKKACiiigAooooAKKKKACiiigAooooAKKKKACiiigArj/j38BPCP7T/wAItc8CeO9EtfEXhXxHbm1v7C4LBZkPoykMrA4IZSCCAQa7CigD4f0r4NftAf8ABM20gi+G9xeftC/BLTYxGng3Vp44fGPhq3UYCadettivokUcQ3GJcYCyHofoH9lL9uj4b/tlaPdyeDdaf+2dJfydX8P6nbvYa1okw4MV1aSgSxsD3I2nsSK9fr4K/wCCsNx+z5P420m3v4/Fdx+0mYG/4RJfhd/yPUZwNrEx/ILYHbn7b+4xmgD71orwD/gm1D8fIf2abEftEyeHZPHHnMYf7NA89bTA8oXhT90bnrvMXyZ6V7/QAUUUUAIiCNcAAD0ApaKKACiiigAooooAKKKKACiiigAooooAKKKKACiiigAooooAKKKKACiiigAooooAKKKKACiiigAooooAKKKKACiiigDzPwN+1l4W+Imja/fWGlfEu3g8NIXu11P4c+IdLmmA/wCfaK5so5Ls8dLdZCaj0f8Aa78Ka58Kb/xlDpPxPTSNNlEM1vcfDXxHb6q7esenSWK3kq/7UcLL716hRQB5frH7XfhTQ/hTYeMptJ+J76RqUphht7f4a+I7jVUb1k06Oxa8iX/akhVfepPHP7WXhb4d6NoF9f6V8S7iDxKge0XTPhz4h1SaEH/n5itrKSS0PPS4WMivTKKAPO/GP7T/AIb8C+PdI8OXum/ESfUNbRHt5tP8Aa7qNhGH6efeW9nJbW59RNIhXvipP+GlvDv/AAuT/hBP7O+IH9t/8/P/AAgmuf2N0z/yFPsn2D/yP14616BRQB534O/af8N+OvHur+HLLTfiJBqGiI73E2oeANd06wkCdfIvLizjtrg+ghkct2zVfwN+1l4W+Imja/fWGlfEu3g8NIXu11P4c+IdLmmA/wCfaK5so5Ls8dLdZCa9MooA8v0f9rvwprnwpv8AxlDpPxPTSNNlEM1vcfDXxHb6q7esenSWK3kq/wC1HCy+9eTftWf8Fffhf+yr8OvDGqXmlfEjXvE3j55oPCng2z8F6pbeJNemjGWRLG5ginjx6yIvtmvqmvOv2lv2Tfh7+194Cbw58Q/DGn+ItPBL27yqUurCTtLbzoRJDIOMMjA8UAfEXjfSPHf7XNjoGvftQXfxM8H/AA08VBZtN+Efw58GeJNReWMkEDxFf2Nk1wD/AHrYiCHjkvzX194f+JPw0/ZXPhf4aeHPBvizw/pslvFHpVl4b+G2tT6NYxt91ZLi0sntbY/3hNIhH8WK8Oj8H/tF/wDBOyQHw1NqX7S3wetsD+xb+4SPxz4egHX7PcNiLUkUdI5dkxAADsa98/ZS/bf+Gv7aPhq7v/AXiKK+vNJl+zavo13G1nq+hTj70F3aSASwSA8YZcHsSOaANn/hpbw7/wALk/4QT+zviB/bf/Pz/wAIJrn9jdM/8hT7J9g/8j9eOtR+Dv2n/Dfjrx7q/hyy034iQahoiO9xNqHgDXdOsJAnXyLy4s47a4PoIZHLds16JRQB5n4G/ay8LfETRtfvrDSviXbweGkL3a6n8OfEOlzTAf8APtFc2Ucl2eOlushNR6P+134U1z4U3/jKHSfiemkabKIZre4+GviO31V29Y9OksVvJV/2o4WX3r1CigDy/WP2u/Cmh/Cmw8ZTaT8T30jUpTDDb2/w18R3Gqo3rJp0di15Ev8AtSQqvvUnjn9rLwt8O9G0C+v9K+JdxB4lQPaLpnw58Q6pNCD/AM/MVtZSSWh56XCxkV6ZRQB534x/af8ADfgXx7pHhy9034iT6hraI9vNp/gDXdRsIw/Tz7y3s5La3PqJpEK98VJ/w0t4d/4XJ/wgn9nfED+2/wDn5/4QTXP7G6Z/5Cn2T7B/5H68da9AooA878HftP8Ahvx1491fw5Zab8RINQ0RHe4m1DwBrunWEgTr5F5cWcdtcH0EMjlu2ar+Bv2svC3xE0bX76w0r4l28HhpC92up/DnxDpc0wH/AD7RXNlHJdnjpbrITXplFAHl+j/td+FNc+FN/wCModJ+J6aRpsohmt7j4a+I7fVXb1j06SxW8lX/AGo4WX3o1j9rvwpofwpsPGU2k/E99I1KUww29v8ADXxHcaqjesmnR2LXkS/7UkKr716hRQB5n45/ay8LfDvRtAvr/SviXcQeJUD2i6Z8OfEOqTQg/wDPzFbWUkloeelwsZFWPGP7T/hvwL490jw5e6b8RJ9Q1tEe3m0/wBruo2EYfp595b2cltbn1E0iFe+K9EooA8//AOGlvDv/AAuT/hBP7O+IH9t/8/P/AAgmuf2N0z/yFPsn2D/yP146143J8ToPih/wU28F6lpXh74iJpPgT4e+MNH1jUtQ8D6zptgl3d6j4ZmtooLi5tY4royR6feMDbtIP3OM5dA31JRQB5n4G/ay8LfETRtfvrDSviXbweGkL3a6n8OfEOlzTAf8+0VzZRyXZ46W6yE1Ho/7XfhTXPhTf+ModJ+J6aRpsohmt7j4a+I7fVXb1j06SxW8lX/ajhZfevUKKAPL9Y/a78KaH8KbDxlNpPxPfSNSlMMNvb/DXxHcaqjesmnR2LXkS/7UkKr71J45/ay8LfDvRtAvr/SviXcQeJUD2i6Z8OfEOqTQg/8APzFbWUkloeelwsZFemUUAfnt/wAFCfG8Y/4K9/sbTx6L40u7XSX16S8ubTwpqdzb2wurSJId0sduyA7gd4zmIcyBBzX2T/w0t4d/4XJ/wgn9nfED+2/+fn/hBNc/sbpn/kKfZPsH/kfrx1r54/ba+Nvi7wJ/wVC/ZK8J6N4h1PTfDXjGXxENc02CXbb6oILOJ4fNX+LYxJHua+x6APO/B37T/hvx1491fw5Zab8RINQ0RHe4m1DwBrunWEgTr5F5cWcdtcH0EMjlu2ar+Bv2svC3xE0bX76w0r4l28HhpC92up/DnxDpc0wH/PtFc2Ucl2eOlushNemUUAeX6P8Atd+FNc+FN/4yh0n4nppGmyiGa3uPhr4jt9VdvWPTpLFbyVf9qOFl96NY/a78KaH8KbDxlNpPxPfSNSlMMNvb/DXxHcaqjesmnR2LXkS/7UkKr716hRQB5n45/ay8LfDvRtAvr/SviXcQeJUD2i6Z8OfEOqTQg/8APzFbWUkloeelwsZFWPGP7T/hvwL490jw5e6b8RJ9Q1tEe3m0/wAAa7qNhGH6efeW9nJbW59RNIhXvivRKKAPP/8Ahpbw7/wuT/hBP7O+IH9t/wDPz/wgmuf2N0z/AMhT7J9g/wDI/XjrUfg79p/w3468e6v4cstN+IkGoaIjvcTah4A13TrCQJ18i8uLOO2uD6CGRy3bNeiUUAeZ+Bv2svC3xE0bX76w0r4l28HhpC92up/DnxDpc0wH/PtFc2Ucl2eOlushNR6P+134U1z4U3/jKHSfiemkabKIZre4+GviO31V29Y9OksVvJV/2o4WX3r1CigDy/WP2u/Cmh/Cmw8ZTaT8T30jUpTDDb2/w18R3Gqo3rJp0di15Ev+1JCq+9SeOf2svC3w70bQL6/0r4l3EHiVA9oumfDnxDqk0IP/AD8xW1lJJaHnpcLGRXplFAHnfjH9p/w34F8e6R4cvdN+Ik+oa2iPbzaf4A13UbCMP08+8t7OS2tz6iaRCvfFSf8ADS3h3/hcn/CCf2d8QP7b/wCfn/hBNc/sbpn/AJCn2T7B/wCR+vHWvQKKAPO/B37T/hvx1491fw5Zab8RINQ0RHe4m1DwBrunWEgTr5F5cWcdtcH0EMjlu2ar+Bv2svC3xE0bX76w0r4l28HhpC92up/DnxDpc0wH/PtFc2Ucl2eOlushNemUUAeX6P8Atd+FNc+FN/4yh0n4nppGmyiGa3uPhr4jt9VdvWPTpLFbyVf9qOFl96NY/a78KaH8KbDxlNpPxPfSNSlMMNvb/DXxHcaqjesmnR2LXkS/7UkKr716hRQB5n45/ay8LfDvRtAvr/SviXcQeJUD2i6Z8OfEOqTQg/8APzFbWUkloeelwsZFWPGP7T/hvwL490jw5e6b8RJ9Q1tEe3m0/wAAa7qNhGH6efeW9nJbW59RNIhXvivRKKAPP/8Ahpbw7/wuT/hBP7O+IH9t/wDPz/wgmuf2N0z/AMhT7J9g/wDI/XjrUfg79p/w3468e6v4cstN+IkGoaIjvcTah4A13TrCQJ18i8uLOO2uD6CGRy3bNeiUUAeZ+Bv2svC3xE0bX76w0r4l28HhpC92up/DnxDpc0wH/PtFc2Ucl2eOlushNR6P+134U1z4U3/jKHSfiemkabKIZre4+GviO31V29Y9OksVvJV/2o4WX3r1CigDy/WP2u/Cmh/Cmw8ZTaT8T30jUpTDDb2/w18R3Gqo3rJp0di15Ev+1JCq+9SeOf2svC3w70bQL6/0r4l3EHiVA9oumfDnxDqk0IP/AD8xW1lJJaHnpcLGRXplFAHnfjH9p/w34F8e6R4cvdN+Ik+oa2iPbzaf4A13UbCMP08+8t7OS2tz6iaRCvfFSf8ADS3h3/hcn/CCf2d8QP7b/wCfn/hBNc/sbpn/AJCn2T7B/wCR+vHWvQKKAPO/B37T/hvx1491fw5Zab8RINQ0RHe4m1DwBrunWEgTr5F5cWcdtcH0EMjlu2a5DxT/AMFF/hd4C+EHjHx54jn8c+E/CvgOITavfeI/AOvaGqqWCDyReWcRucsQB5AfqO1e51Q8UeFtM8b+HrvSdZ0+y1XS9QjMN1Z3cKzQXCHqrowIYexFAH576r+2v8ZP+Cg/gfUtf8D6f8Qf2ffgPZyiKfxS3gjU9W8e+KoWwVk0fTYrWUwwOp/4+SkrjIKopGa9q/Zn8KfAn9hH4FJ4o8G+C/iekfim5J1PVrj4eeJdX8Ya3cd5tQiNk+o8n+KWJYx/CAOK5rVf+Cc3jn9jzW5vEf7Kfi6Hw9pryG4vvhf4nmluvCeo5JZhZvky6bKxPBi3RdMx4rvP2cv+CmXhj4ofEOP4cfELRtT+DPxiWPe3hLxM6J/aQHBl067H7m+hyOGiO4fxItAHpXjn9rLwt8O9G0C+v9K+JdxB4lQPaLpnw58Q6pNCD/z8xW1lJJaHnpcLGRVjxj+0/wCG/Avj3SPDl7pvxEn1DW0R7ebT/AGu6jYRh+nn3lvZyW1ufUTSIV74r0SigDz/AP4aW8O/8Lk/4QT+zviB/bf/AD8/8IJrn9jdM/8AIU+yfYP/ACP1461H4O/af8N+OvHur+HLLTfiJBqGiI73E2oeANd06wkCdfIvLizjtrg+ghkct2zXolFAHmfgb9rLwt8RNG1++sNK+JdvB4aQvdrqfw58Q6XNMB/z7RXNlHJdnjpbrITUej/td+FNc+FN/wCModJ+J6aRpsohmt7j4a+I7fVXb1j06SxW8lX/AGo4WX3r1CigDy/WP2u/Cmh/Cmw8ZTaT8T30jUpTDDb2/wANfEdxqqN6yadHYteRL/tSQqvvUnjn9rLwt8O9G0C+v9K+JdxB4lQPaLpnw58Q6pNCD/z8xW1lJJaHnpcLGRXplFAHnfjH9p/w34F8e6R4cvdN+Ik+oa2iPbzaf4A13UbCMP08+8t7OS2tz6iaRCvfFSf8NLeHf+Fyf8IJ/Z3xA/tv/n5/4QTXP7G6Z/5Cn2T7B/5H68da9AooAKKKKACiiigAooooAKKKKACiiigAooooAKKKKACiiigAooooAKKKKACiiigAooooAKKKKACiiigAooooAKKKKACiiigAooooAKKK+U/+CnX/AAUqk/YD0/wbpmm+Em1vxF8RL/8AsrStU1i7GleFNGmOMSalqBDCFeflRVZ3I2jGQaAPo74m/FLw38FvA+oeJvF2vaT4a8PaVEZrzUdSuktra3Qd2dyAP69q/Nz9oHwbqP8AwVw+Lei+Lf2e/BGofDW70SVBD8f7zzdFvJ7cMC0FjaqBLqULBcf6SogPb1r3/wCEn/BNJfjP4s0n4l/tGeNIPjn4rgIvNI0qKLyPBPhsnBBsbDcyzOOP9IuDI7YBGzpX1/b28dpAkUSJHFGoVERcKoHQAdhQBR8I6VeaF4V06y1HUn1i/tLaOG5v3iWJryRVAaUovyqWIJwOBmtGiigAooooAKKKKACiiigAooooAKKKKACiiigAooooAKKKKACiiigD4P8A+Cgx/wCNwn7Ev/XbxT/6Qw194V8h/tufHPU/CH/BRn9lDwLb6d4euNM8X6jrl5dXV5psdzfWrWtipQW0rgmDd5p3MgDEADcBkH68oAKKKKACiiigAooooAKKKKACiiigAooooAKKKKACiiigAooooAKKKKACiiigAooooAKKKKACiiigAoorgP2pP2grP9lf9n/xT8Qb/QvEniW08LWL30um6BYm81C7C/wxxgjPuSQAASelAHfO4jUkkAAZJPavgv8Abu/ai+Gn7bUOo/BTwD8K7L9p7xZazhbrynEHh/wfcDOLi41cDFvNGQCFtmaf0ArM+B/hPxr/AMFovA9r418ffEjSfDnwQ1Mh7b4c/DzXBNcaineLW9ViIcn+9a24jUdGd+a+4fhB8GPCfwA8AWHhbwT4d0fwt4d0xPLtdP0y1W3giH+6oGSe5PJ7mgDyn/gm7+zb8SP2Vv2aNP8ACvxQ+JN38TPEMMrSpdzgv/ZkJxts0nf97cJH0Esvzt3r32iigAooooAKKKKACiiigAooooAKKKKACiiigAooooAKKKKACiiigAooooAKKKKACiiigAooooAKKKKACiiigAooooAKKKKACiiigAooooAKKKKACiiigAooooAKy/GvgnR/iR4UvtC8QaVp+t6LqkJgvLG+t1nt7mM9VdGBVh9RWpRQB8XXP7AHxG/Yn1B9Y/Zc8VQReGldpbn4V+LLmSfQJh1K6fc/NNp7eijfF/sgV3/7MX/BTPwh8b/H3/CvPGGk6z8IfjDbx75/BfitFt7q6UZBlsZwTDfQ5Bw8DMcfeVa9S/aY/ae8Gfsh/Ce78Z+O9VOl6LbSpbJ5cD3FxeXEhIit4IkBeWVyMKigkmvi/wCMv7OnxP8A+C1+n6da+PPB0PwO+CWn3seo6edTs4bj4g6syEMk0BIZNHBx1BafHZM0AfohRWd4Q8MweCvCum6RbS3txb6XbR2sUt5cvc3EiooUGSRyWdjjlick1o0AFFFFABRRRQAUUUUAFFFFABRRRQAUUUUAFFFFABRRRQAUUUUAfB//AAUG/wCUwn7Ev/XbxT/6Qw194V8jftlfEPwn4b/4KVfsr6JrHgG18ReJNel18aJ4hk1e4tpPDPl2kbTFLdP3dx5qkKfM+7jI5r65oAKKKKACiiigAooooAKKKKACiiigAooooAKKKKACiiigAooooAKKKKACiiigAooooAKKKKACiiigAooooA+Vfjr/AMEt9E1X4h3fxH+DHiK/+BnxVuSZbnVNBhU6Vr74HGp6ecQ3IOAN+FlHZ6wvDH/BSnxF+zN4ls/CX7VPhOH4dz3My2mn/EDSi914L1yQ8LvnI36fI39y5wmeBIa+wb+/h0qwmurmVILe2jaWWRzhY0UZLE9gACa+IvHX7Z/jv/gojY6n4M/Zw8E6RqXgi+8zT9V+JvjnTmfwzsztkWxsWxJqbfeAPyQZAyxHFAH23pWq2uuabBeWVzBeWd1GJYZ4JBJHMhGQysMggjoRVivCP+Cd37Beh/8ABOv9n2LwFofiHxF4lie7l1C5utUmAjWaXl1trZAIbS3B+7DEoVfckk+70AFFFFABRRRQAUUUUAFFFFABRRRQAUUUUAFFFFABRRRQAUUUUAFFFFABRRRQAUUUUAFFFFABRRRQAUUUUAFFFFABRRRQAUV558ej8Vx/ZX/CsF+Hp/139p/8JQ14v9zyvJ+zg/8ATXdu/wBjHevO937V/wDc/Z7/AO/usf8AxNAH0PRXzxu/av8A7n7Pf/f3WP8A4mjd+1f/AHP2e/8Av7rH/wATQB9D0V88bv2r/wC5+z3/AN/dY/8AiaN37V/9z9nv/v7rH/xNAH0PRXzxu/av/ufs9/8Af3WP/iaN37V/9z9nv/v7rH/xNAH0PRXzxu/av/ufs9/9/dY/+Jo3ftX/ANz9nv8A7+6x/wDE0AfQ9FfPG79q/wDufs9/9/dY/wDiaN37V/8Ac/Z7/wC/usf/ABNAHI/8Fc/+RM+B/wD2WDQD/wCO3VfWtfm9/wAFPD+0afCfwf8A+EhX4IiP/haeifYjYyaoT9q23Pl+ZuX/AFf3t23npivpst+1dn/V/s9/9/dY/wDiaAPoaivnjd+1f/c/Z7/7+6x/8TRu/av/ALn7Pf8A391j/wCJoA+h6K+eN37V/wDc/Z7/AO/usf8AxNG79q/+5+z3/wB/dY/+JoA+h6K+eN37V/8Ac/Z7/wC/usf/ABNG79q/+5+z3/391j/4mgD6Hor543ftX/3P2e/+/usf/E0bv2r/AO5+z3/391j/AOJoA+h6K+eN37V/9z9nv/v7rH/xNG79q/8Aufs9/wDf3WP/AImgD6Hor543ftX/ANz9nv8A7+6x/wDE0bv2r/7n7Pf/AH91j/4mgD6Hor543ftX/wBz9nv/AL+6x/8AE0bv2r/7n7Pf/f3WP/iaAPoeivnjd+1f/c/Z7/7+6x/8TRu/av8A7n7Pf/f3WP8A4mgD6Hor543ftX/3P2e/+/usf/E0bv2r/wC5+z3/AN/dY/8AiaAPoeivnjd+1f8A3P2e/wDv7rH/AMTRu/av/ufs9/8Af3WP/iaAPFv+Cg3/ACmE/Yl/67eKf/SGGvvCvzJ/bB174zaf/wAFHP2XbTxP4c+D2o+Or2bXv+EU1Gy1bVYLHTCtpGbn7TCYiZt6FQm1l2kEntX1fu/av/ufs9/9/dY/+JoA+h6K+eN37V/9z9nv/v7rH/xNG79q/wDufs9/9/dY/wDiaAPoeivnjd+1f/c/Z7/7+6x/8TRu/av/ALn7Pf8A391j/wCJoA+h6K+eN37V/wDc/Z7/AO/usf8AxNG79q/+5+z3/wB/dY/+JoA+h6K+eN37V/8Ac/Z7/wC/usf/ABNG79q/+5+z3/391j/4mgD6Hor543ftX/3P2e/+/usf/E0bv2r/AO5+z3/391j/AOJoA+h6K+eN37V/9z9nv/v7rH/xNG79q/8Aufs9/wDf3WP/AImgD6Hor543ftX/ANz9nv8A7+6x/wDE0bv2r/7n7Pf/AH91j/4mgD6Hor543ftX/wBz9nv/AL+6x/8AE0bv2r/7n7Pf/f3WP/iaAPoeivnjd+1f/c/Z7/7+6x/8TRu/av8A7n7Pf/f3WP8A4mgD6Hor543ftX/3P2e/+/usf/E0bv2r/wC5+z3/AN/dY/8AiaAPoeivnjd+1f8A3P2e/wDv7rH/AMTRu/av/ufs9/8Af3WP/iaAPoeivnjd+1f/AHP2e/8Av7rH/wATRu/av/ufs9/9/dY/+JoA+h6K+eN37V/9z9nv/v7rH/xNG79q/wDufs9/9/dY/wDiaAPoeivnjd+1f/c/Z7/7+6x/8TRu/av/ALn7Pf8A391j/wCJoA+h6K+eN37V/wDc/Z7/AO/usf8AxNG79q/+5+z3/wB/dY/+JoA9Y/aB/wCSC+N/+wBf/wDpPJXk3/BJYY/4Js/Bn/sWbf8ArXM/Gxv2pv8AhTHi/wC2J8Afsn9iXvneVLq+/Z5D7tuVxnHSvM/+CZh/aWH7Afwn/wCEfT4FHRv+Eet/shvpNVFyY8HHmbV27vXHFAH31RXzxu/av/ufs9/9/dY/+Jo3ftX/ANz9nv8A7+6x/wDE0AfQ9FfPG79q/wDufs9/9/dY/wDiaN37V/8Ac/Z7/wC/usf/ABNAH0PRXzxu/av/ALn7Pf8A391j/wCJo3ftX/3P2e/+/usf/E0AfQ9FfPG79q/+5+z3/wB/dY/+Jo3ftX/3P2e/+/usf/E0AfQ9FfPG79q/+5+z3/391j/4mjd+1f8A3P2e/wDv7rH/AMTQB9D0UUUAFFFFABRRRQAUUUUAFFFFABRRRQAUUUUAFFFFABRRRQAUUUUAFFFFABRRRQAUUUUAFFFFABRRRQAUUUUAFFFFABRRRQAUUUUAfM//AAU4+GPiH4oeFfhDD4d0bUNal0j4o6Lql8tpCZDaWkS3HmTvjoi7lye2RXyN/wAHCn7Wn7dn7PXhO8HwA+HlhF8N/s26/wDGfh8nXPENqNvz7rNox9kQfNmRI5wAofzYj8o/VGigD87/APgkH8dv2pPH/wDwTS+D2tL4F+Fnjj+09CW4OveJ/i1q1tq+qs0shM1zGNAuQshOcjz5On3q+kP+Fj/tTf8ARG/gB/4eTV//AJmK97s7GHTrcRW8MUEQJYJGgVQSSScD1JJPuTUtAHz/AP8ACx/2pv8AojfwA/8ADyav/wDMxR/wsf8Aam/6I38AP/Dyav8A/MxX0BRQB8//APCx/wBqb/ojfwA/8PJq/wD8zFH/AAsf9qb/AKI38AP/AA8mr/8AzMV9AUUAfP8A/wALH/am/wCiN/AD/wAPJq//AMzFH/Cx/wBqb/ojfwA/8PJq/wD8zFfQFFAHz/8A8LH/AGpv+iN/AD/w8mr/APzMUf8ACx/2pv8AojfwA/8ADyav/wDMxX0BRQB8/wD/AAsf9qb/AKI38AP/AA8mr/8AzMUf8LH/AGpv+iN/AD/w8mr/APzMVj/8Egv2gvF/7Uf7Avhfxr461b+3PE2o614jtLi9+yw23mRWmv6jZ26+XCiRjZBBEmQoJ2ZYliSfpigD5/8A+Fj/ALU3/RG/gB/4eTV//mYo/wCFj/tTf9Eb+AH/AIeTV/8A5mK+gKKAPn//AIWP+1N/0Rv4Af8Ah5NX/wDmYo/4WP8AtTf9Eb+AH/h5NX/+ZivoCigD5/8A+Fj/ALU3/RG/gB/4eTV//mYo/wCFj/tTf9Eb+AH/AIeTV/8A5mK+gKKAPn//AIWP+1N/0Rv4Af8Ah5NX/wDmYr87v+Dif9rT9sb4EfB/4Par4T0HQPh34pufHS2ult8O/G+oeKL/AFqZrK5Is5rGbRrSOaFtu7axlBZF/d/xL+yNRTWMNxcRTSQxPLbkmJ2QFoyRg7T1GRxxQB+HM37Vf7WV3+0l+yJ45/aI+Bcf/CeaJF4nudG0Dwtdwx634ojGnxZMtnK/lWkv3SV87c2XAgRlVHZ+w3/wcR/tIfth/wDBXFPAOsfBvxFonhfRdM1JpfhpokNjB4g85I12S3lzq09mpaLcSVVoQcj925Ga/a3xX8KPDfjrxT4f1vV9E07UNY8KTvdaPezQhp9NkdDG7RP1XcpIIHBHXpUOqfBXwhrfxS0vxxdeGdCn8ZaLbS2djrjWUf8AaFrBKMSQrPjeI27pnaSAcZAoA8m/4bI+Iv8A0ad8f/8Awb+CP/mho/4bI+Iv/Rp3x/8A/Bv4I/8Amhr6AooA+f8A/hsj4i/9GnfH/wD8G/gj/wCaGj/hsj4i/wDRp3x//wDBv4I/+aGvoCigD5//AOGyPiL/ANGnfH//AMG/gj/5oaP+GyPiL/0ad8f/APwb+CP/AJoa+gKKAPn/AP4bI+Iv/Rp3x/8A/Bv4I/8Amho/4bI+Iv8A0ad8f/8Awb+CP/mhr6AooA+f/wDhsj4i/wDRp3x//wDBv4I/+aGj/hsj4i/9GnfH/wD8G/gj/wCaGvoCigD5/wD+GyPiL/0ad8f/APwb+CP/AJoaP+GyPiL/ANGnfH//AMG/gj/5oa+gKKAPn/8A4bI+Iv8A0ad8f/8Awb+CP/mho/4bI+Iv/Rp3x/8A/Bv4I/8Amhr6Ar40/by/5SnfsJ/9jH4x/wDUVvaAPS/+GyPiL/0ad8f/APwb+CP/AJoaP+GyPiL/ANGnfH//AMG/gj/5oa9P+Ff7RHw/+Ouoa7aeCPHPg7xjdeF7r7DrMOh61bahJpFxlh5NwsLsYZMo42vg/I3HBrsaAPn/AP4bI+Iv/Rp3x/8A/Bv4I/8Amho/4bI+Iv8A0ad8f/8Awb+CP/mhr6AooA+f/wDhsj4i/wDRp3x//wDBv4I/+aGj/hsj4i/9GnfH/wD8G/gj/wCaGvoCigD5/wD+GyPiL/0ad8f/APwb+CP/AJoaP+GyPiL/ANGnfH//AMG/gj/5oa+gKKAPn/8A4bI+Iv8A0ad8f/8Awb+CP/mho/4bI+Iv/Rp3x/8A/Bv4I/8Amhr6AooA+f8A/hsj4i/9GnfH/wD8G/gj/wCaGj/hsj4i/wDRp3x//wDBv4I/+aGvoCigD5//AOGyPiL/ANGnfH//AMG/gj/5oaP+GyPiL/0ad8f/APwb+CP/AJoa+gKKAPn/AP4bI+Iv/Rp3x/8A/Bv4I/8Amhr4v/4Lrf8ABXP46/sa/seaJ438E/CD4k/CbVrXxfY28uqeLH8L6lpd/A0NyXspIrHVbuf95tU7ljXHln94hxn9UK5j4ofBfwj8btO02z8Y+GdD8U2ej6hHq1lbarZR3cNvdxq6xzqjgr5iB22tjKk5GCAaAPiP/gmF/wAFMPih/wAFT/2LPF+p+MvgF4s+HV7J4euksdaUD+w/E8jwMq/YkmZbr5ieAEljGCPOLYU/SP8AwTR8Caz8Mv2CPhVoHiHTLzRtb0rw/Bb3ljdxmOe1kGco6nkEele4gbRgcAdBS0AFFFFABRRRQAUUUUAFFFFABRRRQAUUUUAFFFFABRRRQAUUUUAFFFFABRRRQAUUUUAFFFFABRRRQAUUUUAFFFFABRRRQAUUUUAFFFFABRRRQAUUUUAFFFFABRRRQAUUUUAFFFFABRRRQAUUUUAFFFFABRRRQAUUUUAfmJ+zh8NPHXwT/wCCOXwrOoX3xD+GviHw78Wka50dDJo019Bf/Ejywt0rItwYZLS5YiMOscqXALrIpXH6d1wfxx/Zb+GX7Ttnp1v8Svhz4E+IUGkO8lhF4m0C01ZLJnCh2iFxG4QsFUErjO0Z6V2Wi6LZ+G9HtNO060trDT7CFLa1tbaJYobaJFCpGiKAFVVAAAGAAAKALVFFFABRRRQAUUUUAFFFFABRRRQAUUUUAFFFFABRRRQAUUUUAFFFFABRRRQAV8/ftO/st+IPi9+2X+zd8SdNu9Ih0L4Nap4g1DW4Lh5ftl1HfaJcWEQtkSNldhLKpYMyfKDjccKfoGigD4//AGAfHWjfG79ojxd42h8E+P8A4dTxeHLLwl4f8Na18N9Y8NW+laFp9zcNEzXF1Zw28k80l0WW2gldYYI4QFDeea+wKKKACiiigAooooAKKKKACiiigAooooAKKKKACiiigAooooAKKKKACiiigAooooAKKKKACiiigAooooAKKKKACiiigAooooAKKKKACiiigAooooAKKKKACiiigAooooAKKKKACiiigAooooAKKKKACiiigAooooAKKKKACiiigAooooAKKKKACiiigAooooAKKKKACiiigAooooAKKKKACiiigAooooAKKKKACiiigAooooAKKKKACiiigAooooAKKKKACiiigAooooAKKKKACiiigAooooAKKKKACiiigAooooAKKKKACiiigAooooAKKKKACiiigAooooAKKKKACiiigAooooAKKKKACiiigAooooAKKKKACiiigAooooAKKKKACiiigAooooAKKKKACiiigAooooAKKKKACiiigAooooAKKKKACiiigAooooAKKKKACiiigAooooAKKKKACiiigAooooAKKKKACiiigAooooAKKKKACiiigAooooAKKKKACiiigAooooAKKKKACiiigAooooAKKKKACiiigAooooAKKKKACiiigAooooAKKKKACiiigAooooAKKKKACiiigAooooAKKKKACiiigAooooAKKKKACiiigAooooAKKKKACiiigAooooAKKKKACiiigAooooAKKKKACiiigAooooAKKKKACiiigAooooAKKKKACiiigAooooAKKKKACiiigAooooAKKKKACiiigAooooAKKKKACiiigAooooAKKKKACiiigAooooAKKKKACiiigAooooAKKKKACiiigAooooAKKKKACiiigAooooAKKKKACiiigAooooAKKKKACiiigAooooAKKKKACiiigAooooAKKKKACiiigAooooAKKKKACiiigAooooAKKKKACiiigAooooAKKKKACiiigAooooAKKKKACiiigAooooAKKKKACiiigAooooAKKKKACiiigAooooAKKKKACiiigAooooAKKKKACiiigAooooAKKKKACiiigAooooAKKKKACiiigAooooAKKKKACiiigAooooAKKKKACiiigAooooAKKKKACiiigAooooAKKKKACiiigAooooAKKKKACiiigAooooAKKKKACiiigAooooAKKKKACiiigAooooAKKKKACiiigAooooAKKKKACiiigAooooAKKKKACiiigAooooAKKKKACiiigAooooAKKKKACiiigAooooAKKKKACiiigAooooAKKKKACiiigAooooAKKKKACiiigAooooAKKKKACiiigAooooAKKKKACiiigAooooAKKKKACiiigAooooAKKKKACiiigAooooAKKKKACiiigAooooAKKKKACiiigAooooAKKKKACiiigAooooAKKKKACiiigAooooAKKKKACiiigAooooAKKKKACiiigAooooAKKKKACiiigAooooAKKKKACiiigAooooAKKKKACiiigAooooAKKKKAP//Z) \n",
        "\n"
      ]
    },
    {
      "cell_type": "markdown",
      "metadata": {
        "id": "3ObZLNChOUOT"
      },
      "source": [
        "Applying Newton's equations for the rotating and translating plate we obtain the following coupled set of second order ODEs\n",
        "\n",
        "\\begin{align}\n",
        "M\\ddot{x}&=-2k\\, x + k(l_2-l_1)\\,\\theta-2b\\, \\dot{x} + b(l_2-l_1)\\,\\dot{\\theta}+f(t)\\\\\n",
        "I\\ddot{\\theta}&=k(l_2-l_1)\\,x -k(l_1^2+l_2^2)\\,\\theta +b(l_2-l_1)\\,\\dot{x} -b(l_1^2+l_2^2)\\,\\dot{\\theta}+cf(t)\n",
        "\\end{align}\n",
        "\n",
        "This can be represented as a Matrix second order linear ODE of the form\n",
        "\\begin{align}\n",
        "M\\ddot{Y}+C\\dot{Y}+KY=F(t),\n",
        "\\end{align}\n",
        "where\n",
        "\\begin{align}\n",
        "Y(t)=\\begin{bmatrix} x(t)\\\\ \\theta (t)\\end{bmatrix},\\:\\:\\:\\:\n",
        "F(t)=f(t)\\begin{bmatrix}1\\\\ c\\end{bmatrix},\\:\\:\\:\\:\n",
        "M=\\begin{bmatrix} m & 0\\\\0 & I\\end{bmatrix},\n",
        "\\end{align}\n",
        "\\begin{align}\n",
        "C=\\begin{bmatrix} 2b & -b(l_2-l_1)\\\\ -b(l_2-l_1) & b(l_1^2+l_2^2)\\end{bmatrix},\\:\\:\\:\\:\n",
        "K=\\begin{bmatrix} 2k & -k(l_2-l_1)\\\\ -k(l_2-l_1) & k(l_1^2+l_2^2)\\end{bmatrix}\n",
        "\\end{align}"
      ]
    },
    {
      "cell_type": "markdown",
      "metadata": {
        "id": "pqr6GagCoEix"
      },
      "source": [
        "## A2-Dynamic Systems Form of the Model"
      ]
    },
    {
      "cell_type": "markdown",
      "metadata": {
        "id": "za1nHXrvUoZK"
      },
      "source": [
        "\\begin{align}\n",
        "\\dot{X}= AX+B\\,f(t),\n",
        "\\end{align}\n",
        "where\n",
        "\\begin{align}\n",
        "X(t)=\\begin{bmatrix} x(t)\\\\ \\theta (t)\\\\ \\dot{x}(t)\\\\ \\dot{\\theta} (t)\\end{bmatrix},\\:\\:\\:\\:\n",
        "B=\\begin{bmatrix}0\\\\ 0\\\\ \\frac{1}{m}\\\\ \\frac{c}{I}\\end{bmatrix},\\:\\:\\:\\:\n",
        "A=\\begin{bmatrix} 0 & 0 & 1& 0\\\\ 0 & 0 & 0 &1 \\\\ -\\frac{2k}{m} & (l_2-l_1)\\frac{k}{m}&-\\frac{2b}{m} & (l_2-l_1)\\frac{b}{m}\\\\ (l_2-l_1)\\frac{k}{I} & -(l_1^2+l_2^2)\\frac{k}{I}&(l_2-l_1)\\frac{b}{I} & -(l_1^2+l_2^2)\\frac{b}{I}\n",
        "\\end{bmatrix}\n",
        "\\end{align}"
      ]
    },
    {
      "cell_type": "markdown",
      "metadata": {
        "id": "nY_BhTPbX-Xx"
      },
      "source": [
        "## A3-Simulating the dynamic system for various conditions.\n",
        "\n",
        "Based on the simulations we will answer the followings:\n",
        "\n",
        "\n",
        "1.   find the eignevalues of $A$ and discuss its influence on the behavior of the states of the system.\n",
        "2.   plot the unfolced response of the system for various different initial condition of practical significance for a low damped system.\n",
        "3.   plot the bheavior of the states for a sinusoidal forcing term of the form $f(t)=f_0\\cos{\\omega t}$ with zero initial conditions a low damped system.\n",
        "4.   repeat the aboce steps with zero damping $b=0$.\n",
        "\n"
      ]
    },
    {
      "cell_type": "code",
      "metadata": {
        "id": "_CeDWREThp9r"
      },
      "source": [
        "#The lumped parameters of the system\n",
        "m=1.; k=8.; l=1.; I=m*(0.05**2+l**2)/12.; delta=l/20.; l_1=l-delta; l_2=l+delta; c=l_1/2;"
      ],
      "execution_count": null,
      "outputs": []
    },
    {
      "cell_type": "markdown",
      "metadata": {
        "id": "ABrdqk6ftMJQ"
      },
      "source": [
        "#### Small Damping $b<1$"
      ]
    },
    {
      "cell_type": "code",
      "metadata": {
        "id": "LvzMlvMcbdcB"
      },
      "source": [
        "b=0.05;\n",
        "A=np.array([[0,0,1,0],[0,0,0,1],[-(2*k/m), (l_2-l_1)*(k/m), -(2*b/m), (l_2-l_1)*(b/m)],[(l_2-l_1)*k/I, -(l_2**2+l_1**2)*k/I, (l_2-l_1)*b/I, -(l_2**2+l_1**2)*b/I]]);\n",
        "B=np.array([0,0,1/m,c/I]);"
      ],
      "execution_count": null,
      "outputs": []
    },
    {
      "cell_type": "code",
      "metadata": {
        "id": "ic4QUYa3s65m"
      },
      "source": [
        "S, V=linalg.eig(A)"
      ],
      "execution_count": null,
      "outputs": []
    },
    {
      "cell_type": "code",
      "metadata": {
        "id": "VwTOcFwOs9zm"
      },
      "source": [
        "S"
      ],
      "execution_count": null,
      "outputs": []
    },
    {
      "cell_type": "markdown",
      "metadata": {
        "id": "fzLvOHRk1CQe"
      },
      "source": [
        "##### Eigenvalue for small damping\n",
        "All eignenvalues are located in the strict left half complex plane. Thus the initial condition response and the transient response will both approach zero exponentially."
      ]
    },
    {
      "cell_type": "markdown",
      "metadata": {
        "id": "iCiFgcUcq8Sq"
      },
      "source": [
        "##### Initial Condition Response\n",
        "We let $f(t)\\equiv 0$"
      ]
    },
    {
      "cell_type": "code",
      "metadata": {
        "id": "9L4tQ2NSq7cc"
      },
      "source": [
        "omega=0; f0=0; ICs=[0,np.pi/6,0,0]\n",
        "yy=mv.simulateDySystem(5,0.01,ICs,A,B,[f0,omega],'Time / t','X(t)')"
      ],
      "execution_count": null,
      "outputs": []
    },
    {
      "cell_type": "markdown",
      "metadata": {
        "id": "7YVH24XqqY1f"
      },
      "source": [
        "##### Sinusoidal forcing responce\n",
        "We let $f(t)=f_0\\cos{\\omega t}$.\n"
      ]
    },
    {
      "cell_type": "code",
      "metadata": {
        "id": "nS2E2dmFs5tF"
      },
      "source": [
        "omega=5; f0=1; ICs=[0,0,0,0]\n",
        "yy=mv.simulateDySystem(5,0.01,ICs,A,B,[f0,omega],'Time / t','X(t)')"
      ],
      "execution_count": null,
      "outputs": []
    },
    {
      "cell_type": "markdown",
      "metadata": {
        "id": "FW5s5h-asbzB"
      },
      "source": [
        "#### Negligibly small damping $b\\approx 0$"
      ]
    },
    {
      "cell_type": "code",
      "metadata": {
        "id": "Ck7F8WAhslZD"
      },
      "source": [
        "b=0;\n",
        "A=np.array([[0,0,1,0],[0,0,0,1],[-(2*k/m), (l_2-l_1)*(k/m), -(2*b/m), (l_2-l_1)*(b/m)],[(l_2-l_1)*k/I, -(l_2**2+l_1**2)*k/I, (l_2-l_1)*b/I, -(l_2**2+l_1**2)*b/I]]);\n",
        "B=np.array([0,0,1/m,c/I]);"
      ],
      "execution_count": null,
      "outputs": []
    },
    {
      "cell_type": "code",
      "metadata": {
        "id": "xGNvA65xuyM6"
      },
      "source": [
        "S, V=linalg.eig(A)"
      ],
      "execution_count": null,
      "outputs": []
    },
    {
      "cell_type": "code",
      "metadata": {
        "id": "l0AwX6ncuzeJ"
      },
      "source": [
        "S"
      ],
      "execution_count": null,
      "outputs": []
    },
    {
      "cell_type": "markdown",
      "metadata": {
        "id": "6f30eLyd11Wv"
      },
      "source": [
        "##### Eigenvalues for no damping\n",
        "Considering the precision of  machine computation it is clear that all the eigenvalues of the system are on the imaginary axis of the complex plane. Thus the Initial condition response and the 'transient' part of the response will persist."
      ]
    },
    {
      "cell_type": "markdown",
      "metadata": {
        "id": "Sze9QqSMuQQc"
      },
      "source": [
        "##### Initial Condition Response\n",
        "We let $f(t)\\equiv 0$"
      ]
    },
    {
      "cell_type": "code",
      "metadata": {
        "id": "Gipsy_kxuQQc"
      },
      "source": [
        "omega=0; f0=0; ICs=[0,np.pi/6,0,0]\n",
        "yy=mv.simulateDySystem(10,0.01,ICs,A,B,[f0,omega],'Time / t','X(t)')"
      ],
      "execution_count": null,
      "outputs": []
    },
    {
      "cell_type": "markdown",
      "metadata": {
        "id": "pvMmU7iauiEr"
      },
      "source": [
        "##### Sinusoidal forcing responce\n",
        "We let $f(t)=f_0\\cos{\\omega t}$.\n"
      ]
    },
    {
      "cell_type": "code",
      "metadata": {
        "id": "4zUyeklQuiEr"
      },
      "source": [
        "omega=1; f0=1; ICs=[0,0,0,0]\n",
        "yy=mv.simulateDySystem(10,0.01,ICs,A,B,[f0,omega],'Time / t','X(t)')"
      ],
      "execution_count": null,
      "outputs": []
    },
    {
      "cell_type": "markdown",
      "metadata": {
        "id": "Zw6_X8_zzQ2W"
      },
      "source": [
        "## A4-Modal Analysis"
      ]
    },
    {
      "cell_type": "markdown",
      "metadata": {
        "id": "weIqWB9y-ws9"
      },
      "source": [
        "In vibration analysis we are typically interested in near resonant conditions. That is, in cases where the system is very lightly damped and the forcing frequency is close to the resonance frequencies of the system. Since the behavior of the system depends smoothly on the damping ratios we see that the real behavior of the system will thus be described in a qualitative and approximately quantitative sense quite well by analyzing the case where the damping is zero. \n",
        "\n",
        "Thus in this section we will assume that the damping is negligible and hence that the system equations are approximately given by\n",
        "\\begin{align}\n",
        "\\ddot{Y}+\\Omega Y=M^{-1}F(t),\n",
        "\\end{align}\n",
        "where\n",
        "\\begin{align}\n",
        "\\Omega=M^{-1}K=\n",
        "\\begin{bmatrix}\\omega_{n1}^2& -(l_1^2+l_2^2)\\mu\\omega_{n1}^2\\\\ -2\\mu\\alpha\\omega_{n1}^2 & \\alpha\\omega_{n1}^2\\end{bmatrix}.\n",
        "\\end{align}\n",
        "with\n",
        "\\begin{align}\n",
        "\\omega_{n1}^2=\\frac{2k}{m},\\:\\:\\:\\omega_{n2}^2=\\frac{k(l_1^2+l_2^2)}{I},\n",
        "\\:\\:\\:\\mu=\\frac{(l_2-l_1)}{2(l_1^2+l_2^2)},\\:\\:\\:\\:\\alpha=\\frac{\\omega_{n2}^2}{\\omega_{n1}^2}={\\frac{m(l_1^2+l_2^2)}{2I}},\n",
        "\\end{align}\n",
        "\n",
        "Let $\\omega_1^2,\\omega_2^2$ be the eignevalues of $\\Omega$ and \n",
        "\\begin{align*}\n",
        "\\bar{Y}_{m_1}&\\triangleq \\begin{bmatrix}\\bar{x}_{m1}\\\\ \\bar{\\theta}_{m1}\\end{bmatrix},\\:\\:\\:\\:\\:\\:\n",
        "\\bar{Y}_{m_2}\\triangleq \\begin{bmatrix} \\bar{x}_{m2}\\\\ \\bar{\\theta}_{m2} \\end{bmatrix}\n",
        "\\end{align*}\n",
        "be the corresponding eigenvectors."
      ]
    },
    {
      "cell_type": "markdown",
      "metadata": {
        "id": "P5KwaVf1OkZy"
      },
      "source": [
        "### A4.1-Symbolic Computation of the Natural Frequancies and Modeshapes"
      ]
    },
    {
      "cell_type": "code",
      "metadata": {
        "id": "nq27ijF7OjL6"
      },
      "source": [
        "from sympy import symbols\n",
        "from sympy import *"
      ],
      "execution_count": null,
      "outputs": []
    },
    {
      "cell_type": "code",
      "metadata": {
        "id": "zqYM3Z7oQ-54"
      },
      "source": [
        "omega_n1, l1, l2, mu, alpha=symbols('omega_n1 l1 l2 mu alpha');\n",
        "Omega=Matrix([[omega_n1**2, -(l1**2+l2**2)*mu*omega_n1**2],[-2*mu*alpha*omega_n1**2, alpha*omega_n1**2]]);"
      ],
      "execution_count": null,
      "outputs": []
    },
    {
      "cell_type": "markdown",
      "metadata": {
        "id": "0Zim6ZXK_Deg"
      },
      "source": [
        "##### Symbolic computation of the Eignevalues of $\\Omega$"
      ]
    },
    {
      "cell_type": "code",
      "metadata": {
        "id": "fkmk3kGTVpgm"
      },
      "source": [
        "Omega.eigenvals()"
      ],
      "execution_count": null,
      "outputs": []
    },
    {
      "cell_type": "markdown",
      "metadata": {
        "id": "g7sHmwgJ_xD2"
      },
      "source": [
        "#### Symbolic computation of the Natural Frequencies $\\omega_1$ and $\\omega_2$"
      ]
    },
    {
      "cell_type": "code",
      "metadata": {
        "id": "0arqMjABVha1"
      },
      "source": [
        "omega_1_sq=[*Omega.eigenvals()][0]\n",
        "omega_2_sq=[*Omega.eigenvals()][1]"
      ],
      "execution_count": null,
      "outputs": []
    },
    {
      "cell_type": "code",
      "metadata": {
        "id": "e-5C1JwJTAkX"
      },
      "source": [
        "omega_1=sqrt(omega_1_sq);\n",
        "omega_2=sqrt(omega_2_sq);"
      ],
      "execution_count": null,
      "outputs": []
    },
    {
      "cell_type": "code",
      "metadata": {
        "id": "zrlVaHtnWzOA"
      },
      "source": [
        "latex(omega_1_sq)"
      ],
      "execution_count": null,
      "outputs": []
    },
    {
      "cell_type": "code",
      "metadata": {
        "id": "etq5iZOLcQKa"
      },
      "source": [
        "latex(omega_2_sq)"
      ],
      "execution_count": null,
      "outputs": []
    },
    {
      "cell_type": "markdown",
      "metadata": {
        "id": "BsMoGFd14c0t"
      },
      "source": [
        "The eigenvalues are\n",
        "\\begin{align}\n",
        "\\omega_{1}^2&=\\frac{\\omega_{n1}^{2} \\left(\\alpha + 1\\right)}{2} - \\frac{\\omega_{n1}^{2} \\sqrt{\\alpha^{2} + 8 \\alpha l_{1}^{2} \\mu^{2} + 8 \\alpha l_{2}^{2} \\mu^{2} - 2 \\alpha + 1}}{2}\\\\\n",
        "\\omega_{2}^2&=\\frac{\\omega_{n1}^{2} \\left(\\alpha + 1\\right)}{2} + \\frac{\\omega_{n1}^{2} \\sqrt{\\alpha^{2} + 8 \\alpha l_{1}^{2} \\mu^{2} + 8 \\alpha l_{2}^{2} \\mu^{2} - 2 \\alpha + 1}}{2}\n",
        "\\end{align}"
      ]
    },
    {
      "cell_type": "markdown",
      "metadata": {
        "id": "IR3G5ijD_9wV"
      },
      "source": [
        "#### Symbolic computation of the eignevectors $\\bar{Y}_{m_1}$ and $\\bar{Y}_{m_2}$"
      ]
    },
    {
      "cell_type": "code",
      "metadata": {
        "id": "JcSLITOGTUYG"
      },
      "source": [
        "Ybar_m1=Omega.eigenvects()[0][2][0]\n",
        "Ybar_m2=Omega.eigenvects()[1][2][0]"
      ],
      "execution_count": null,
      "outputs": []
    },
    {
      "cell_type": "code",
      "metadata": {
        "id": "1yrvF2R9UO1q"
      },
      "source": [
        "latex(Ybar_m1)"
      ],
      "execution_count": null,
      "outputs": []
    },
    {
      "cell_type": "code",
      "metadata": {
        "id": "GJ0pTl1Ccon6"
      },
      "source": [
        "latex(Ybar_m2)"
      ],
      "execution_count": null,
      "outputs": []
    },
    {
      "cell_type": "markdown",
      "metadata": {
        "id": "0L_eyKz-Gp6e"
      },
      "source": [
        "The corresponding eigenvectors are:\n",
        "\\begin{align}\n",
        "\\bar{Y}_{m1}&=\n",
        "\\begin{bmatrix}- \\frac{2 l_{1}^{2} \\mu + 2 l_{2}^{2} \\mu}{\\alpha - \\sqrt{\\alpha^{2} + 8 \\alpha l_{1}^{2} \\mu^{2} + 8 \\alpha l_{2}^{2} \\mu^{2} - 2 \\alpha + 1} - 1}\\\\1\\end{bmatrix}\\\\\n",
        "\\bar{Y}_{m2}&=\n",
        "\\begin{bmatrix}- \\frac{2 l_{1}^{2} \\mu + 2 l_{2}^{2} \\mu}{\\alpha + \\sqrt{\\alpha^{2} + 8 \\alpha l_{1}^{2} \\mu^{2} + 8 \\alpha l_{2}^{2} \\mu^{2} - 2 \\alpha + 1} - 1}\\\\1\\end{bmatrix}\n",
        "\\end{align}"
      ]
    },
    {
      "cell_type": "markdown",
      "metadata": {
        "id": "beAMgGm151ys"
      },
      "source": [
        "### A4.2-Normal form transformation"
      ]
    },
    {
      "cell_type": "markdown",
      "metadata": {
        "id": "NAuF8AtQZFyd"
      },
      "source": [
        "Let $T\\triangleq [\\bar{Y}_{m_1}\\:\\:\\:\\bar{Y}_{m_2}]$\n",
        "\n",
        "Then we see that $\\Omega T=TD$ where\n",
        "\\begin{align}\n",
        "D\\triangleq \\begin{bmatrix}\\omega_1^2 & 0\\\\0 &\\omega_2^2\n",
        "\\end{bmatrix}.\n",
        "\\end{align}\n",
        "\n",
        "Thus if we define $Y\\triangleq Tz$ where $z=[z_1\\:\\:\\:z_2]^T$,\n",
        "then the equations above reduce to the form $\\ddot{z}+T^{-1}\\Omega Tz=\\ddot{z}+Dz=T^{-1}M^{-1}F$.  Then these equations take the explicit form\n",
        "\\begin{align*}\n",
        "\\ddot{z}_1+\\omega_1^2z_1&=\\gamma_1\\,f(t),\\\\\n",
        "\\ddot{z}_2+\\omega_2^2z_2&=\\gamma_2\\,f(t).\n",
        "\\end{align*}\n",
        "where\n",
        "\\begin{align}\n",
        "T^{-1}\\begin{bmatrix}\n",
        "\\frac{1}{m}\\\\\\frac{c}{I}\n",
        "\\end{bmatrix}&=\\begin{bmatrix}\n",
        "\\gamma_1\\\\\\gamma_2\n",
        "\\end{bmatrix}\n",
        "\\end{align}"
      ]
    },
    {
      "cell_type": "markdown",
      "metadata": {
        "id": "gYemdncY57ZF"
      },
      "source": [
        "#### Summary "
      ]
    },
    {
      "cell_type": "markdown",
      "metadata": {
        "id": "dgO6XPvCIku5"
      },
      "source": [
        "Thus we see that \n",
        "\\begin{align*}\n",
        "Y&=\n",
        "z_1(t)\\begin{bmatrix}\\bar{x}_{m1}\\\\ \\bar{\\theta}_{m1}\\end{bmatrix}+\n",
        "z_2(t)\\begin{bmatrix} \\bar{x}_{m2}\\\\ \\bar{\\theta}_{m2} \\end{bmatrix}\n",
        "\\end{align*}\n",
        "where $z_1(t)$ and $z_2(t)$ can be approximated by the solutions of the uncoupled forced spring mass damper systems of the form\n",
        "\\begin{align*}\n",
        "\\ddot{z}_1+\\omega_1^2z_1&=\\gamma_1\\,f(t),\\\\\n",
        "\\ddot{z}_2+\\omega_2^2z_2&=\\gamma_2\\,f(t),\n",
        "\\end{align*}\n",
        "where \n",
        "\\begin{align}\n",
        "\\omega_1 &= \\omega_{n1}\\left(\\frac{(1+\\alpha)-\\sqrt{(1+\\alpha)^2-4\\alpha(1-2\\mu^2(l_1^2+l_2^2))}}{2}\\right)^{\\frac{1}{2}},\\\\\n",
        "\\omega_2 &= \\omega_{n1}\\left(\\frac{(1+\\alpha)+\\sqrt{(1+\\alpha)^2-4\\alpha(1-2\\mu^2(l_1^2+l_2^2))}}{2}\\right)^{\\frac{1}{2}},\n",
        "\\end{align}\n",
        "and $\\bar{Y}_{m1}\\triangleq [\\bar{x}_{m1}\\:\\:\\:\\:\\bar{\\theta}_{m2}]^T$ and $\\bar{Y}_{m2}\\triangleq [\\bar{x}_{m2}\\:\\:\\:\\:\\bar{\\theta}_{m2}]^T$ are the eigenvectors of $\\Omega$ corresponding to the eigenvalues $\\omega_1^2$ and $\\omega_2^2$ with\n",
        "\n",
        "\\begin{align}\n",
        "\\frac{\\bar{x}_{m1}}{\\bar{\\theta}_{m1}} &=&\\frac{2(l_1^2+l_2^2)\\mu}{1-\\alpha+\\sqrt{(1+\\alpha)^2-4\\alpha(1-2\\mu^2(l_1^2+l_2^2))}},\\\\\n",
        "\\frac{\\bar{x}_{m2}}{\\bar{\\theta}_{m2}} &=&\\frac{2(l_1^2+l_2^2)\\mu}{1-\\alpha-\\sqrt{(1+\\alpha)^2-4\\alpha(1-2\\mu^2(l_1^2+l_2^2))}}\n",
        "\\end{align}\n",
        "\n",
        "\n",
        "or alternatively as\n",
        "\n",
        "\n",
        "\\begin{align}\n",
        "\\frac{\\bar{x}_{m1}}{\\bar{\\theta}_{m1}} &=&\\frac{(\\alpha-1)+\\sqrt{(1+\\alpha)^2-4\\alpha(1-2\\mu^2(l_1^2+l_2^2))}}{4\\mu\\alpha},\\\\\n",
        "\\frac{\\bar{x}_{m2}}{\\bar{\\theta}_{m2}} &=&\\frac{(\\alpha-1)-\\sqrt{(1+\\alpha)^2-4\\alpha(1-2\\mu^2(l_1^2+l_2^2))}}{4\\mu\\alpha}.\n",
        "\\end{align}"
      ]
    },
    {
      "cell_type": "markdown",
      "metadata": {
        "id": "EpqocYHQ3IEd"
      },
      "source": [
        "#### Sinusoidal Response: $f(t)=f_0\\cos{\\omega t}$\n",
        "\n",
        "Since $Y=Tz$ we have that for a system with negligible damping\n",
        "\\begin{align}\n",
        "\\begin{bmatrix}\n",
        "x(t)\\\\\n",
        "\\theta(t)\n",
        "\\end{bmatrix}\n",
        "\\approx Y=z_1(t)\\,\\bar{Y}_{m_1}+z_2(t)\\,\\bar{Y}_{m_2}.\n",
        "\\end{align}\n",
        "Using Laplace transforms we find that the steady state reponse (once the transients have died out) of $\\ddot{z}_i+\\omega_i^2z_i=\\gamma_i f(t)$ is given by\n",
        "\\begin{align}\n",
        "z_i(t)&=\\mathcal{L}^{-1}\\left\\{\\frac{\\gamma_i}{s^2+\\omega_i^2}\\,F(s)\\right\\}=\n",
        "f_0\\gamma_i\\mathcal{L}^{-1}\\left\\{\\frac{1}{s^2+\\omega_i^2}\\,\\frac{s}{s^2+\\omega^2}\\right\\}=\n",
        "\\gamma_if_0\\,\\chi_i(\\omega)\\cos{(\\omega t +\\phi_i(\\omega))}\n",
        "\\end{align}\n",
        "where\n",
        "\\begin{align*}\n",
        "\\chi_i(\\omega)&=\\left|\\frac{1}{-\\omega^2+\\omega^2_i}\\right|,\\\\\n",
        "\\phi_i(\\omega)&={\\large\\angle}\\frac{1}{-\\omega^2+\\omega^2_i}\n",
        "\\end{align*}\n",
        "\n",
        "Thus we see that for sinusoidal forcing, $f(t)=f_0\\cos{\\omega t}$,\n",
        "\n",
        "\\begin{align*}\n",
        "\\begin{bmatrix}\n",
        "x(t)\\\\\n",
        "\\theta(t)\n",
        "\\end{bmatrix} &\\approx \\gamma_1f_0\\,\\chi_1(\\omega)\\cos{(\\omega t +\\phi_1(\\omega))}{\\bar{Y}_{m_1}}+\\gamma_2f_0\\,\\chi_2(\\omega)\\cos{(\\omega t +\\phi_2(\\omega))}{\\bar{Y}_{m_2}}.\n",
        "\\end{align*} \n",
        "\n",
        "The expression for $\\chi_i(\\omega)$ shown above clearly shows that the amplitude of the motion is magnified by an extremely large value for exciting frequwncies $\\omega$ near the frequency $\\omega_i$. This phenomena is called **resonance**. For this system there exisits two resonance frequencies $\\omega_1, \\omega_2$. \n",
        "\n",
        "Since when $\\omega\\approx \\omega_1$ the amplitude magnification $\\chi_1(\\omega) >>\\chi_2(\\omega)$ and when $\\omega\\approx \\omega_2$ the amplitude magnification $\\chi_1(\\omega) <<\\chi_2(\\omega)$ we see that when $\\omega\\approx \\omega_i$\n",
        "\n",
        "\\begin{align*}\n",
        "\\begin{bmatrix}\n",
        "x(t)\\\\\n",
        "\\theta(t)\n",
        "\\end{bmatrix}\n",
        "&\\approx f_0\\gamma_i\\chi_i(\\omega)\\cos{(\\omega t +\\phi_i(\\omega))}{\\bar{Y}_{m_i}}\n",
        "\\end{align*} \n",
        "In such a case the *shape* of the motion is given by the eignevector $\\bar{Y}_{m_i}$\n",
        "\n"
      ]
    },
    {
      "cell_type": "markdown",
      "metadata": {
        "id": "-pOSHYAgHtD8"
      },
      "source": [
        "## A5-The Frequency Response of the System"
      ]
    },
    {
      "cell_type": "markdown",
      "metadata": {
        "id": "MJOjFLtGIUEr"
      },
      "source": [
        "Taking the Laplace transform of\n",
        "\\begin{align}\n",
        "Y(t)=z_1(t)\\,\\bar{Y}_{m_1}+z_2(t)\\,\\bar{Y}_{m_2}.\n",
        "\\end{align}\n",
        "we have\n",
        "\\begin{align}\n",
        "\\mathcal{L}\\left\\{\\begin{bmatrix}\n",
        "x(t)\\\\\n",
        "\\theta(t)\n",
        "\\end{bmatrix}\\right\\}\n",
        "&= \\mathcal{L}\\left\\{Y(t)\\right\\}=\\mathcal{L}\\left\\{z_1(t)\\right\\}\\,\\bar{Y}_{m_1}+\\mathcal{L}\\left\\{z_2(t)\\right\\}\\,\\bar{Y}_{m_2},\\\\\n",
        "&=\\left(\\frac{\\gamma_1}{s^2+\\omega_1^2}F(s)\\right)\\,\\bar{Y}_{m_1}+\\left(\\frac{\\gamma_2}{s^2+\\omega_2^2}F(s)\\right)\\,\\bar{Y}_{m_2}\\\\\n",
        "&=\\begin{bmatrix} \\frac{(\\gamma_1\\bar{x}_{m_1}+\\gamma_2\\bar{x}_{m_2})s^2+(\\gamma_1\\bar{x}_{m_1}\\omega_2^2+\\gamma_2\\bar{x}_{m_2}\\omega_1^2)}{(s^2+\\omega_1^2)(s^2+\\omega_2^2)}\\\\\n",
        "\\frac{(\\gamma_1\\bar{\\theta}_{m_1}+\\gamma_2\\bar{\\theta}_{m_2})s^2+(\\gamma_1\\bar{\\theta}_{m_1}\\omega_2^2+\\gamma_2\\bar{\\theta}_{m_2}\\omega_1^2)}{(s^2+\\omega_1^2)(s^2+\\omega_2^2)}\n",
        "  \\end{bmatrix}F(s).\n",
        "\\end{align}\n",
        "\n",
        "Let\n",
        "\\begin{align}\n",
        "G_x(s)&=\\frac{(\\gamma_1\\bar{x}_{m_1}+\\gamma_2\\bar{x}_{m_2})s^2+(\\gamma_1\\bar{x}_{m_1}\\omega_2^2+\\gamma_2\\bar{x}_{m_2}\\omega_1^2)}{(s^2+\\omega_1^2)(s^2+\\omega_2^2)}\\\\\n",
        "G_\\theta(s)&=\\frac{(\\gamma_1\\bar{\\theta}_{m_1}+\\gamma_2\\bar{\\theta}_{m_2})s^2+(\\gamma_1\\bar{\\theta}_{m_1}\\omega_2^2+\\gamma_2\\bar{\\theta}_{m_2}\\omega_1^2)}{(s^2+\\omega_1^2)(s^2+\\omega_2^2)}.\n",
        "\\end{align}\n",
        "\n",
        "\n",
        "Then from above we see that $\\mathcal{L}\\{x(t)\\}=X(s)=G_x(s)F(s)$ and $\\mathcal{L}\\{\\theta(t)\\}=\\Theta(s)=G_\\theta(s)F(s)$. Thus when $f(t)=f_0\\cos{\\omega t}$ we see that the steady stat reponses (for negligibly damped systems) are approximately given by\n",
        "\\begin{align}\n",
        "x(t)&\\approx f_0\\chi_x(\\omega)\\cos{\\left(\\omega t+\\phi_x(\\omega)\\right)}\\\\\n",
        "\\theta(t)&\\approx f_0\\chi_\\theta(\\omega)\\cos{\\left(\\omega t+\\phi_\\theta(\\omega)\\right)}\n",
        "\\end{align}\n",
        "where\n",
        "\\begin{align}\n",
        "\\chi_x(\\omega)&=\\left|G_x(i\\omega)\\right|,\\:\\:\\:\\:\\:\\phi_x(\\omega)=\\angle G_x(i\\omega)\\\\\n",
        "\\chi_\\theta(\\omega)&=\\left|G_\\theta(i\\omega)\\right|,\\:\\:\\:\\:\\:\\phi_\\theta(\\omega)=\\angle G_\\theta(i\\omega)\n",
        "\\end{align}"
      ]
    },
    {
      "cell_type": "markdown",
      "metadata": {
        "id": "ClmsQTe5Hq2N"
      },
      "source": [
        "## A6-Numerical Computation of the Modes\n"
      ]
    },
    {
      "cell_type": "code",
      "metadata": {
        "id": "NsmjDxfWH-3g"
      },
      "source": [
        "m=1.; k=1.; l=1.; I=m*(l**2+(2*l)**2)/12.; delta=l/10.; l_1=l-delta; l_2=l+delta; c=l_1/2;\n",
        "wn1sq=2*k/m;\n",
        "wn2sq=k*(l_1**2+l_2**2)/I;\n",
        "mu=0.5*(l_2-l_1)/(l_1**2+l_2**2);\n",
        "al=wn2sq/wn1sq"
      ],
      "execution_count": null,
      "outputs": []
    },
    {
      "cell_type": "code",
      "metadata": {
        "id": "uvSouXR-NjYM"
      },
      "source": [
        "Omega=np.array([[wn1sq, -(l_1**2+l_2**2)*mu*wn1sq],[-2*mu*al*wn1sq, al*wn1sq]])\n",
        "S, V=linalg.eig(Omega);\n",
        "w2=np.sqrt(S[1]); w1=np.sqrt(S[0]);\n",
        "zm2=V.T[1]; zm1=V.T[0];"
      ],
      "execution_count": null,
      "outputs": []
    },
    {
      "cell_type": "code",
      "metadata": {
        "id": "gq1kZEZSTzZC"
      },
      "source": [
        "[w1, w2]"
      ],
      "execution_count": null,
      "outputs": []
    },
    {
      "cell_type": "code",
      "metadata": {
        "id": "2LbAqYBOU8JS"
      },
      "source": [
        "T=np.array([zm1,zm2]).T"
      ],
      "execution_count": null,
      "outputs": []
    },
    {
      "cell_type": "code",
      "metadata": {
        "id": "SA3WV0CeWWdx"
      },
      "source": [
        "linalg.inv(T)"
      ],
      "execution_count": null,
      "outputs": []
    },
    {
      "cell_type": "code",
      "metadata": {
        "id": "Inf2XTdDV8SO"
      },
      "source": [
        "gam=linalg.inv(T) @ np.array([1/m, c/I])\n",
        "gam1=gam[0]; gam2=gam[1];"
      ],
      "execution_count": null,
      "outputs": []
    },
    {
      "cell_type": "markdown",
      "metadata": {
        "id": "ODsRLplMKUWx"
      },
      "source": [
        "###### The Mode Shape"
      ]
    },
    {
      "cell_type": "code",
      "metadata": {
        "id": "8IZgwoGPcMmU"
      },
      "source": [
        "fig = go.Figure()\n",
        "\n",
        "fig.add_trace(go.Scatter(mode=\"markers\", x=['x','$\\\\theta$'], y=zm1, name=r'$\\omega\\approx \\omega_1$' ))\n",
        "fig.add_trace(go.Scatter(mode=\"markers\", x=['x','$\\\\theta$'], y=zm2, name=r'$\\omega\\approx \\omega_2$' ))\n",
        "\n",
        "fig.update_xaxes(title='Variable') # log range: 10^0=1, 10^5=100000\n",
        "fig.update_yaxes(title='Maximum Amplitude') # linear range\n",
        "fig.show()"
      ],
      "execution_count": null,
      "outputs": []
    },
    {
      "cell_type": "markdown",
      "metadata": {
        "id": "x9gUWmtbUSJo"
      },
      "source": [
        "#### Frequency Response of the System"
      ]
    },
    {
      "cell_type": "code",
      "metadata": {
        "id": "wyWQeskfUnzy"
      },
      "source": [
        "w=np.logspace(-1,1,1000);\n",
        "Chi_x_omega=abs((-(gam1*zm1[0]+gam2*zm2[0])*w**2+(gam1*zm1[0]*w2**2+gam2*zm2[0]*w1**2))/((w1**2-w**2)*(w2**2-w**2)));\n",
        "Chi_theta_omega=abs((-(gam1*zm1[1]+gam2*zm2[1])*w**2+(gam1*zm1[1]*w2**2+gam2*zm2[1]*w1**2))/((w1**2-w**2)*(w2**2-w**2)));"
      ],
      "execution_count": null,
      "outputs": []
    },
    {
      "cell_type": "code",
      "metadata": {
        "id": "1mh84Jy0UmSz"
      },
      "source": [
        "fig = go.Figure()\n",
        "\n",
        "fig.add_trace(go.Scatter(mode=\"markers\", x=w, y=Chi_x_omega, name=r'$\\chi_x(\\omega)$' ))\n",
        "fig.add_trace(go.Scatter(mode=\"markers\", x=w, y=Chi_theta_omega, name=r'$\\chi_\\theta(\\omega)$' ))\n",
        "\n",
        "fig.update_xaxes(type=\"log\", range=[-1,1], title=r'$\\log{\\omega}$') # log range: 10^0=1, 10^5=100000\n",
        "fig.update_yaxes(range=[0,5], title=r'$\\chi(\\omega)$') # linear range\n",
        "fig.show()"
      ],
      "execution_count": null,
      "outputs": []
    },
    {
      "cell_type": "markdown",
      "metadata": {
        "id": "N8nxvFA_DCi0"
      },
      "source": [
        "## A7-Simualtion of the system for different forcing frequency regimes\n",
        "\n",
        "1. $\\omega \\approx 0$\n",
        "2. $\\omega$ is very large\n",
        "3. $\\omega\\approx \\omega_1$\n",
        "3. $\\omega\\approx \\omega_2$"
      ]
    },
    {
      "cell_type": "code",
      "metadata": {
        "id": "_3eibMkMqdRM"
      },
      "source": [
        "b=0.5;\n",
        "A=np.array([[0,0,1,0],[0,0,0,1],[-(2*k/m), (l_2-l_1)*(k/m), -(2*b/m), (l_2-l_1)*(b/m)],[(l_2-l_1)*k/I, -(l_2**2+l_1**2)*k/I, (l_2-l_1)*b/I, -(l_2**2+l_1**2)*b/I]]);\n",
        "B=np.array([0,0,1/m,c/I]);"
      ],
      "execution_count": null,
      "outputs": []
    },
    {
      "cell_type": "markdown",
      "metadata": {
        "id": "f9m7imUNOvwy"
      },
      "source": [
        "#### Low frequncy response - $\\omega \\approx 0$"
      ]
    },
    {
      "cell_type": "code",
      "metadata": {
        "id": "MsyLO5_CP9WM"
      },
      "source": [
        "omega=0; f0=1; ICs=[0,0,0,0]\n",
        "yy=mv.simulateDySystem(10,0.01,ICs,A,B,[f0,omega],'Time/t','X(t)')"
      ],
      "execution_count": null,
      "outputs": []
    },
    {
      "cell_type": "markdown",
      "metadata": {
        "id": "9Mgu3bjJO-z3"
      },
      "source": [
        "#### High Frequency Response - $\\omega$ very large\n"
      ]
    },
    {
      "cell_type": "code",
      "metadata": {
        "id": "8886ePFnnGix"
      },
      "source": [
        "omega=100; f0=1; ICs=[0,0,0,0]\n",
        "yy=mv.simulateDySystem(10,0.01,ICs,A,B,[f0,omega],'Time/t','X(t)')"
      ],
      "execution_count": null,
      "outputs": []
    },
    {
      "cell_type": "markdown",
      "metadata": {
        "id": "uB5dWyqTRywc"
      },
      "source": [
        "#### $\\omega \\approx \\omega_1$"
      ]
    },
    {
      "cell_type": "code",
      "metadata": {
        "id": "BxhzAq5OplX7"
      },
      "source": [
        "omega=w1; f0=1; ICs=[0,0,0,0]\n",
        "yy=mv.simulateDySystem(50,0.01,ICs,A,B,[f0,omega],'Time/t','X(t)')"
      ],
      "execution_count": null,
      "outputs": []
    },
    {
      "cell_type": "markdown",
      "metadata": {
        "id": "1yX1zX3_SWw_"
      },
      "source": [
        "#### $\\omega \\approx \\omega_2$"
      ]
    },
    {
      "cell_type": "code",
      "metadata": {
        "id": "5kMy-RDiSWxA"
      },
      "source": [
        "omega=w2; f0=1; ICs=[0,0,0,0]\n",
        "yy=mv.simulateDySystem(50,0.01,ICs,A,B,[f0,omega],'Time/t','X(t)')"
      ],
      "execution_count": null,
      "outputs": []
    },
    {
      "cell_type": "markdown",
      "source": [
        "#Section #4 - Vibration of Spatially Distributed Systems"
      ],
      "metadata": {
        "id": "Y4_MYgJKEwKo"
      }
    },
    {
      "cell_type": "markdown",
      "source": [
        "## Examples"
      ],
      "metadata": {
        "id": "G4zQxYK5Vg1-"
      }
    },
    {
      "cell_type": "markdown",
      "source": [
        "### Example #1 - Vibration of an Axially Loaded Beam"
      ],
      "metadata": {
        "id": "3nKRWF3DE8fY"
      }
    },
    {
      "cell_type": "markdown",
      "source": [
        "Consider for example the axially loaded pinned-pined beam shown in the figure below: Figure taken from https://www.p-a-hilton.co.uk/products/vibration-hvt/beam-bending-transverse-vibrations-module)\n",
        "\n"
      ],
      "metadata": {
        "id": "bVpc9AcUFDMT"
      }
    },
    {
      "cell_type": "markdown",
      "source": [
        "![image.png](data:image/png;base64,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)"
      ],
      "metadata": {
        "id": "Kw_N-HU9Sjz9"
      }
    },
    {
      "cell_type": "markdown",
      "source": [
        "It can be shown that, if the damping in the system is negligible and the displacements are small then the motion of the system is sufficiently accurately described by the solutions of the partial differential equation given by\n",
        "\n",
        "\\begin{align}{{\\partial^2 y} \\over {\\partial t^2}} +\\frac{EI} {\\rho A}{{\\partial^4 y} \\over {\\partial x^4}}+\\frac{P}{\\rho A} {{\\partial^2 y} \\over {\\partial x^2}}&=q(t,x)\\end{align}\n",
        "\n",
        "where $y$ is the transverse displacement of the beam, $P$ is the axial compressive force, $\\rho$ is the density of the material of the beam, and $E$ is the modulus of rigidity, $I$ is the cross sectional moment of inertia, and $A$ is the cross sectional area of the uniform beam. In this section we will consider the case where the axial load is a constant.\n",
        "\n",
        "The solutions of the above PDE that satisfy the boundary conditions\n",
        "\n",
        "\\begin{align}y(0,t)&=0,\\:\\:\\:\\:\\:\\:\\: y(L,t)=0,\\\\{\\partial^2 y \\over \\partial x^2}(0,t)&=0,\\:\\:\\:\\:\\:\\:\\: {\\partial^2 y \\over \\partial x^2}(L,t)=0,\\end{align}\n",
        "\n",
        "where $L$ is the length of the beam approximately describes the physical behavior of the system.\n",
        "\n",
        "Let $\\mathcal{F}$ be the infintie dimensional vector space of twice differentiable functions defined on the interval $[0,L]$. Then $H: \\mathcal{F}\\mapsto \\mathcal{F}$ defined by \n",
        "\n",
        "\\begin{align} H&=\\frac{EI} {\\rho A}{{\\partial^4 } \\over {\\partial x^4}}+\\frac{P_o}{\\rho A} {{\\partial^2 } \\over {\\partial x^2}}\\end{align}\n",
        "\n",
        "is a linear operator on $\\mathcal{F}$ and the equations of motion take the form\n",
        "\n",
        "\\begin{align}{{\\partial^2 y} \\over {\\partial t^2}} +Hy&=q(t,x)\\end{align}\n",
        "\n",
        "Notice the similarity with the finitie dimensional case of \n",
        "\n",
        "\\begin{align}{{d^2 x} \\over {d t^2}} +\\Omega x&=f(t)\\end{align}\n",
        "\n",
        "Thus we extend the same procedure that we adopted in the previous section to the analysis of vibrations of this system as well. We will do so in a way that is as general as possible."
      ],
      "metadata": {
        "id": "XQkGHkpdTF0z"
      }
    },
    {
      "cell_type": "markdown",
      "source": [
        "###Example #2 - Whirling of Shafts"
      ],
      "metadata": {
        "id": "2RrtcnKmVZyn"
      }
    },
    {
      "cell_type": "markdown",
      "source": [
        "Consider the schematic of a rotating shaft that is shown below.\n",
        "\n",
        "Figure copied from: https://www.researchgate.net/publication/325592435_A_physical_approach_to_dissipation-induced_instabilities"
      ],
      "metadata": {
        "id": "PEHqQaw4ZYcp"
      }
    },
    {
      "cell_type": "markdown",
      "source": [
        "![image.png](data:image/png;base64,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)"
      ],
      "metadata": {
        "id": "2owGfO6ZX_DS"
      }
    },
    {
      "cell_type": "markdown",
      "source": [
        "One can show that the transverse deflection\n",
        "of the rotating shaft can be approximately modeled by\n",
        "\\begin{align*}\n",
        "{{\\partial^2 y} \\over {\\partial t^2}} +\\frac{EI} {\\rho A}{{\\partial^4 y} \\over {\\partial x^4}}-\\frac{EI}{\\kappa G A} {{\\partial^4 y} \\over {\\partial t^2\\partial x^2}}&=q(t,x).\n",
        "\\end{align*}\n",
        "The shaft is simply supported at the ends and hence satisfy the boundary conditions\n",
        "\\begin{align*}\n",
        "y(0,t)&=0,\\:\\:\\:\\:\\:\\:\\: y(L,t)=0,\\\\\n",
        "{\\partial^2 y \\over \\partial x^2}(0,t)&=0,\\:\\:\\:\\:\\:\\:\\: {\\partial^2 y \\over \\partial x^2}(L,t)=0.\n",
        "\\end{align*}\n",
        "\n",
        "Again wesee that this equation can be written as\n",
        "\n",
        "\\begin{align}{{\\partial^2 y} \\over {\\partial t^2}} +Hy&=q(t,x)\\end{align}\n",
        "\n",
        "where \n",
        "\n",
        "\n",
        "\\begin{align} \n",
        "H&=\\frac{EI} {\\rho A}{{\\partial^4} \\over {\\partial x^4}}-\\frac{EI}{\\kappa G A} {{\\partial^4} \\over {\\partial t^2\\partial x^2}}\n",
        "\\end{align}\n",
        "\n",
        "is a linear operator on the infintie dimensional vector space of four times differentiable functions defined on the interval $[0,L]$ that will denote by $\\mathcal{F}$."
      ],
      "metadata": {
        "id": "_ToKMSNCbAzV"
      }
    },
    {
      "cell_type": "markdown",
      "source": [
        "### Example #3 - Vibration of a thin membrane"
      ],
      "metadata": {
        "id": "wC3VCn_Xb1t1"
      }
    },
    {
      "cell_type": "markdown",
      "source": [
        "Consider the vibration of a thin circular membrane such as in the case of a drum. The deflection of the membrane of such a rotationally symmetric system is most conveniently described using polar coordinates $(r,\\theta)$. That is consider the deflection of the membrane to be a function of $(t,r,\\theta)$. Expressing the wave equation in polar coordinates, one finds that the deflection of the membrane satisfies\n",
        "\\begin{align*}\n",
        "\\dfrac{\\partial^2 y}{\\partial t^2}-c^2\\left(\\dfrac{\\partial^2 y}{\\partial r^2}+\\frac{1}{r}\\dfrac{\\partial y}{\\partial r}+\\frac{1}{r^2}\\dfrac{\\partial^2 y}{\\partial \\theta^2}\\right)=q(t,r,\\theta),\n",
        "\\end{align*}\n",
        "and the boundary conditions $y(t,r_0,\\theta)=0$.\n",
        "\n",
        "This also can be expressed as\n",
        "\\begin{align}{{\\partial^2 y} \\over {\\partial t^2}} +Hy&=q(t,r,\\theta)\\end{align}\n",
        "\n",
        "where \n",
        "\n",
        "\n",
        "\\begin{align} H&=-c^2\\left(\\dfrac{\\partial^2}{\\partial r^2}+\\frac{1}{r}\\dfrac{\\partial }{\\partial r}+\\frac{1}{r^2}\\dfrac{\\partial^2 }{\\partial \\theta^2}\\right)\\end{align}\n",
        "\n",
        "is a linear operator on $\\mathcal{F}$. Here $\\mathcal{F}$ is the infintie dimensional vector space of twice times differentiable functions defined on the disk of radius $r_0$ with vanishing boundary conditions on the function as well as its second derivatives.Then $H: \\mathcal{F}\\mapsto \\mathcal{F}$ defined by "
      ],
      "metadata": {
        "id": "8tJF0SCmcMo_"
      }
    },
    {
      "cell_type": "markdown",
      "source": [
        "## The series Solution to the General Problem"
      ],
      "metadata": {
        "id": "UZYr2pOTeZeE"
      }
    },
    {
      "cell_type": "markdown",
      "source": [
        "Let $\\mathcal{F}$ denote an infinite dimensional vector space of $n$ times differentiable functions that satisfy some boundary conditions. Let \n",
        "\n",
        "$H: \\mathcal{F}\\mapsto \\mathcal{F}$ be a linear operator on $\\mathcal{F}$ ($n$ depends on $H$) and consider the second order linear PDE\n",
        "\n",
        "\\begin{align}{{\\partial^2 y} \\over {\\partial t^2}} +Hy&=q(t,x)\\end{align}\n",
        "\n",
        "Let $H$ have distinct positive eignevalues $\\{\\omega_i^2\\}_{i=1}^\\infty$ with corrsponding eigenvectors $\\{\\psi_i(x)\\}_{i=1}^\\infty$.\n",
        "\n",
        "Let $\\langle\\langle \\cdot,\\cdot\\rangle\\rangle :\\mathcal{F}\\times \\mathcal{F}\\to \\mathbb{R}$ be an inner product on $\\mathcal{F}$ such that the eigenvectors are orthonormal with respect to each other. That is $\\langle\\langle \\psi_i(x),\\psi_j(x)\\rangle\\rangle =\\delta_{ij}$ for all $i,j$.\n",
        "\n",
        "Then similar to the case in the finite diemsions one easily sees that the steady state solution of the second order ODE can be written down as\n",
        "\n",
        "\\begin{align*}y(t,x)&=\\sum_{i=1}^\\infty z_i(t)\\,\\psi_i(x)\\end{align*}\n",
        "\n",
        "where the $z_i(t)$ satisfy\n",
        "\n",
        "\\begin{align*}\\ddot{z}_i+\\omega_i^2z_i&= \\langle\\langle \\psi_i(x),q(t,x)\\rangle\\rangle = \\gamma_i(t)\\end{align*}\n",
        "\n",
        "If $q(t,x)=\\cos{(\\omega t)}f(x)$ then the steady state solution takes the form\n",
        "\n",
        "\\begin{align}\n",
        "y(t,x)=\\sum_{i=1}^\\infty\\chi_i(\\omega)\\cos{(\\omega t+\\phi_i(\\omega))}\\psi_i(x)\n",
        "\\end{align}\n",
        "\n",
        "where\n",
        "\n",
        "\\begin{align*}\\chi_i(\\omega)&=\\left|\\frac{\\langle\\langle \\psi_i(x),f(x)\\rangle\\rangle}{-\\omega^2+\\omega^2_i}\\right|,\\\\ \\phi_i(\\omega)&={\\large\\angle}\\frac{1}{-\\omega^2+\\omega^2_i}\\end{align*}"
      ],
      "metadata": {
        "id": "LnOgwu4zen9s"
      }
    },
    {
      "cell_type": "markdown",
      "source": [
        "### Example #1 - The axially loaded Beam"
      ],
      "metadata": {
        "id": "yZBf1PV0hVqF"
      }
    },
    {
      "cell_type": "markdown",
      "source": [
        "In the case of the axially loaded beam $\\mathcal{F}$ is the infintie dimensional vector space of twice differentiable functions defined on the interval $[0,L]$ with vanishing boundary conditions on the functions as well as their second derivatives and \n",
        "\\begin{align}H=\\frac{EI} {\\rho A}{{\\partial^4} \\over {\\partial x^4}}+\\frac{P}{\\rho A} {{\\partial^2} \\over {\\partial x^2}}.\n",
        "\\end{align}\n",
        "We find that the eigenvalues of $H$ are givven by\n",
        "\\begin{align}\\left\\{\\frac{k^2\\pi^2}{\\rho AL^2}\\left(\\frac{EIk^2\\pi^2}{L^2}-P\\right)\\right\\}_{k=1}^\\infty,\n",
        "\\end{align} \n",
        "and the corresponding eigenvectors are given by \n",
        "$\\left\\{\\sin{\\left(\\frac{k\\pi x}{L}\\right)}\\right\\}_{k=1}^\\infty$ when $P< P_{{cr}} \\triangleq \\frac{EI\\pi^2}{L^2}$. They are orthonormal with respect to the inner product defined by\n",
        "\n",
        "\\begin{align*}\\langle\\langle f,g\\rangle \\rangle= \\frac{2}{L}\\int_0^Lf(x)g(x)\\,dx.\n",
        "\\end{align*}\n",
        "\n",
        "Thus the steady state solution takes the form\n",
        "\n",
        "$y(t,x)=\\sum_{k=1}^\\infty\\chi_k(\\omega)\\cos{(\\omega t+\\phi_k(\\omega))}\\sin{\\left(\\frac{k\\pi x}{L}\\right)}$\n",
        "\n",
        "where, if $q(t,x)=\\cos{(\\omega t)}f(x)$, then\n",
        "\\begin{align*}\\omega_k^2&=\\frac{k^2\\pi^2}{\\rho AL^2}\\left(\\frac{EIk^2\\pi^2}{L^2}-P\\right)\\\\ \\chi_k(\\omega)&=\\left|\\frac{\\langle\\langle \\psi_k(x),f(x)\\rangle\\rangle}{-\\omega^2+\\omega^2_k}\\right|,\\\\ \\phi_k(\\omega)&={\\large\\angle}\\frac{1}{-\\omega^2+\\omega^2_k}\\end{align*}"
      ],
      "metadata": {
        "id": "sAyyv7szhfqn"
      }
    },
    {
      "cell_type": "markdown",
      "source": [
        "Notice that \n",
        "\\begin{align}\n",
        "P\\geq P_{{cr}} \\triangleq \\frac{EIk^2_0\\pi^2}{L^2}\n",
        "\\end{align}\n",
        "the eigenvalues are no longer positive. The following note has a very comprehensive discussion abouth this case.\n",
        "\n",
        "https://nonlineardynamics.pratt.duke.edu/sites/nonlineardynamics.pratt.duke.edu/files/u32/Workshop3%20copy.pdf"
      ],
      "metadata": {
        "id": "_pS-mVXH2wkC"
      }
    },
    {
      "cell_type": "markdown",
      "source": [
        "In the case where $P< P_{{cr}} \\triangleq \\frac{EI\\pi^2}{L^2}$ the first three mode shapes are plotted below:"
      ],
      "metadata": {
        "id": "MvV5wC4K9bdD"
      }
    },
    {
      "cell_type": "code",
      "source": [
        "L=1\n",
        "x=np.array([xx for xx in np.linspace(0,L,101)])\n",
        "fig=go.Figure()\n",
        "for k in range(7):\n",
        "    y=np.sin(k*np.pi*x/L)\n",
        "    fig.add_trace(go.Scatter(x=x,y=y))\n",
        "fig.show()"
      ],
      "metadata": {
        "id": "yyxgr8Hp9rit"
      },
      "execution_count": null,
      "outputs": []
    },
    {
      "cell_type": "markdown",
      "source": [
        "Consider a beam with the following parameters that is excited by a point load (motor for example) located at the center of the beam. Let the forcing frequency be denoted by $\\omega$."
      ],
      "metadata": {
        "id": "qiIU16eiwgr7"
      }
    },
    {
      "cell_type": "markdown",
      "source": [
        "In this case $q(t,x)=f_0\\cos{(\\omega t)}\\delta\\left(x-\\frac{L}{2}\\right)$. The beam parametrs are:"
      ],
      "metadata": {
        "id": "61ZBMCFT8FaA"
      }
    },
    {
      "cell_type": "code",
      "source": [
        "#Steel, Structural ASTM-A36\n",
        "a=1e-2; b=5e-3;\n",
        "E=200e9 #GPa\n",
        "I=a*b**3/12\n",
        "rho=7850 #kg/m^3\n",
        "P=100 #N\n",
        "L=1 #m\n",
        "A=a*b\n",
        "f_0=1e-1\n",
        "omega=2*np.pi*50"
      ],
      "metadata": {
        "id": "0IDXoEfVAAr9"
      },
      "execution_count": null,
      "outputs": []
    },
    {
      "cell_type": "markdown",
      "source": [
        "Then we have\n",
        "\\begin{align*}\n",
        "\\chi_k(\\omega)&=\\left|\\frac{\\langle\\langle \\psi_k(x),f(x)\\rangle\\rangle}{-\\omega^2+\\omega^2_k}\\right|=\\frac{2f_0}{L}\\left|\\frac{\\sin{\\left( \\frac{k\\pi}{2}\\right)}}{-\\omega^2+\\omega^2_k}\\right|\n",
        "\\end{align*}\n",
        "Notice that $\\chi_k(\\omega)\\equiv 0$ when $k=2,4,6,\\cdots$\n",
        "\n",
        "We also see that for $k$ such that $\\omega_k>\\omega$ the phase shift $\\phi_k(\\omega)\\equiv 0$ and for $k$ such that $\\omega_k<\\omega$ the phase shift $\\phi_k(\\omega)\\equiv \\pi$"
      ],
      "metadata": {
        "id": "DNqK7Yl2-Agh"
      }
    },
    {
      "cell_type": "code",
      "source": [
        "k=symbols('k',real=True)\n",
        "omega_k=sqrt(((k**2*np.pi**2)/(rho*A*L**2))*((E*I*k**2*np.pi**2)/(L**2)-P))\n",
        "chi_k=(2*f_0/L)*sin(k*np.pi/2)/(-omega**2+omega_k**2)"
      ],
      "metadata": {
        "id": "ms39oZdAxRHY"
      },
      "execution_count": null,
      "outputs": []
    },
    {
      "cell_type": "code",
      "source": [
        "k_k=np.linspace(1,10,10)\n",
        "omega_kk=[float(omega_k.subs({k:n})) for n in k_k]\n",
        "chi_kk=[float(abs(chi_k.subs({k:n}))) for n in k_k]\n",
        "phi_kk=np.array([])\n",
        "for wk in omega_kk:\n",
        "    \n",
        "    if wk<omega:\n",
        "        phi_kk=np.append(phi_kk, np.pi)\n",
        "    else:\n",
        "        phi_kk=np.append(phi_kk, 0)"
      ],
      "metadata": {
        "id": "Z0ycqbMJy7oe"
      },
      "execution_count": null,
      "outputs": []
    },
    {
      "cell_type": "code",
      "source": [
        "omega, omega_kk, chi_kk, phi_kk"
      ],
      "metadata": {
        "id": "F74F6h3JHZ_I"
      },
      "execution_count": null,
      "outputs": []
    },
    {
      "cell_type": "code",
      "source": [
        "fig_w_k=go.Figure()\n",
        "fig_w_k.add_trace(go.Scatter(x=k_k,y=omega_kk))\n",
        "fig_w_k.update_layout(title='$\\omega_k\\:\\: \\mathrm{vs}\\:\\: k$', yaxis_title=\"$\\omega_k$\",\n",
        "    xaxis_title=\"$k$\")\n",
        "fig_w_k.show()"
      ],
      "metadata": {
        "id": "rH51qglD5ao2"
      },
      "execution_count": null,
      "outputs": []
    },
    {
      "cell_type": "code",
      "source": [
        "fig_chi_k_sq=go.Figure()\n",
        "fig_chi_k_sq.add_trace(go.Scatter(x=k_k,y=chi_kk))\n",
        "fig_chi_k_sq.update_layout(title='$\\chi(\\omega_k)\\:\\: \\mathrm{vs}\\:\\: k$', yaxis_title=\"$\\chi(\\omega_k)$\",\n",
        "    xaxis_title=\"$k$\")\n",
        "fig_chi_k_sq.show()"
      ],
      "metadata": {
        "id": "10Dq-wJp7g9u"
      },
      "execution_count": null,
      "outputs": []
    },
    {
      "cell_type": "markdown",
      "source": [
        "From the above figure we see that if the forcing frequency is around 50 Htz then the solution is sufficiently accurately given by the 1,3,5 modes. That is\n",
        "\n",
        "\\begin{align}\n",
        "y(t,x)\\approx\\chi_1(\\omega)\\cos{(\\omega t+\\phi_1(\\omega))}\\psi_1(x)+\\chi_3(\\omega)\\cos{(\\omega t+\\phi_3(\\omega))}\\psi_3(x)+\\chi_5(\\omega)\\cos{(\\omega t+\\phi_5(\\omega))}\\psi_5(x)\n",
        "\\end{align}"
      ],
      "metadata": {
        "id": "PrYALO9kvqzE"
      }
    },
    {
      "cell_type": "code",
      "source": [
        "t, x=symbols('t, x',real=True)\n",
        "yhat=chi_kk[0]*cos(omega*t+phi_kk[0])*sin(np.pi*x/L)\n",
        "for nn in [2,4]:\n",
        "    yhat=yhat+chi_kk[nn]*cos(omega*t+phi_kk[nn])*sin((nn+1)*np.pi*x/L)"
      ],
      "metadata": {
        "id": "xC9y_b1-0y4x"
      },
      "execution_count": null,
      "outputs": []
    },
    {
      "cell_type": "code",
      "source": [
        "yhat"
      ],
      "metadata": {
        "id": "ztt5xhsBXqeb"
      },
      "execution_count": null,
      "outputs": []
    },
    {
      "cell_type": "code",
      "source": [
        "xx=np.linspace(0,L,11)\n",
        "tt=np.linspace(0,.1,101)\n",
        "y_tx=np.zeros((len(tt),len(xx)))\n",
        "for it,ti in enumerate(tt):\n",
        "    for ix,xt in enumerate(xx):\n",
        "        y_tx[it,ix]=yhat.subs({x:xt,t:ti})"
      ],
      "metadata": {
        "id": "adqX33Mr1Is2"
      },
      "execution_count": null,
      "outputs": []
    },
    {
      "cell_type": "code",
      "source": [
        "y_tx.min()"
      ],
      "metadata": {
        "id": "DP7-BQ2KJ1aX"
      },
      "execution_count": null,
      "outputs": []
    },
    {
      "cell_type": "code",
      "source": [
        "fig_y_tx=go.Figure()\n",
        "for ti in [1,2,3,4,5,6,7,8,9,10]:\n",
        "    fig_y_tx.add_trace(go.Scatter(x=xx,y=y_tx[ti,:]))\n",
        "fig_y_tx.show()"
      ],
      "metadata": {
        "id": "QvkVBHhQ4mzs"
      },
      "execution_count": null,
      "outputs": []
    },
    {
      "cell_type": "code",
      "source": [
        "mv.animate_2D_scatter_plot(xx, y_tx, 'x','y','test')"
      ],
      "metadata": {
        "id": "KzJ8-8gKHeYF"
      },
      "execution_count": null,
      "outputs": []
    },
    {
      "cell_type": "markdown",
      "source": [],
      "metadata": {
        "id": "xawqelXP0x7m"
      }
    },
    {
      "cell_type": "markdown",
      "source": [
        "### Example #2 - The Whirling Shaft"
      ],
      "metadata": {
        "id": "_KbHaBeniGKu"
      }
    },
    {
      "cell_type": "markdown",
      "source": [
        "In the case of the whirling shaft $\\mathcal{F}$ is the infintie dimensional vector space of four times differentiable functions defined on the interval $[0,L]$ with vanishing boundary conditions on the functions as well as their second and fourth derivatives and that the shaft vibrations are described by\n",
        "\\begin{align}\n",
        "\\left(1-\\frac{EI}{\\kappa G A} {{\\partial^2 } \\over {\\partial x^2}}\\right){{\\partial^2 y}\\over {\\partial^2 t}}+\\frac{EI} {\\rho A}{{\\partial^4y} \\over {\\partial x^4}}&=q(t,x).\n",
        "\\end{align} \n",
        "\n",
        "We find that the functions are orthonormal with respect to the inner product defined by\n",
        "\\begin{align*}\\langle\\langle f,g\\rangle \\rangle= \\frac{2}{L}\\int_0^Lf(x)g(x)\\,dx\\end{align*}\n",
        "$\\left\\{\\sin{\\left(\\frac{k\\pi x}{L}\\right)}\\right\\}_{k=1}^\\infty$ and hence provide an orthonormal basis for the solution space $\\mathcal{F}$.\n",
        "\n",
        "Then\n",
        "\\begin{align}\n",
        "y(t,x)=\\sum_{i}^{\\infty}z_i(t)\\sin{\\left(\\frac{k\\pi x}{L}\\right)}.\n",
        "\\end{align}\n",
        "\n",
        "\n",
        "Substituting the above expression in the system equations we have that \n",
        "\n",
        "\\begin{align}\n",
        "\\ddot{z}_k+\\omega_k^2\\,z_k&=\\gamma_k(t)\n",
        "\\end{align}\n",
        "where\n",
        "\\begin{align}\n",
        "\\omega_k^2=\\frac{\\frac{EI} {\\rho A}\\left(\\frac{k\\pi}{L}\\right)^4}{\\left(1+\\frac{EI}{\\kappa G A}\\left(\\frac{k\\pi}{L}\\right)^2\\right)},\n",
        "\\end{align} \n",
        "and \n",
        "\\begin{align*}\\gamma_k(t)=\\frac{\\left\\langle\\left\\langle \\sin{\\left(\\frac{k\\pi x}{L}\\right)},q(t,x)\\right\\rangle \\right\\rangle}{\\left(1+\\frac{EI}{\\kappa G A}\\left(\\frac{k\\pi}{L}\\right)^2\\right)}\\end{align*}\n",
        "\n",
        "\n",
        "\n",
        "\n",
        "Thus if $q(t,x)=f(x)\\cos{(\\omega t)}$ then the steady state solution takes the form\n",
        "$y(t,x)=\\sum_{k=1}^\\infty\\chi_k(\\omega)\\cos{(\\omega t+\\phi_k(\\omega))}\\sin{\\left(\\frac{k\\pi x}{L}\\right)}$\n",
        "\n",
        "where\n",
        "\\begin{align*}\\omega_k^2&=\\frac{\\frac{EI} {\\rho A}\\left(\\frac{k\\pi}{L}\\right)^4}{\\left(1+\\frac{EI}{\\kappa G A}\\left(\\frac{k\\pi}{L}\\right)^2\\right)}\\\\ \\chi_k(\\omega)&=\\frac{\\left\\langle\\left\\langle \\sin{\\left(\\frac{k\\pi x}{L}\\right)},f(x)\\right\\rangle \\right\\rangle}{\\left(1+\\frac{EI}{\\kappa G A}\\left(\\frac{k\\pi}{L}\\right)^2\\right)}\\left|\\frac{1}{-\\omega^2+\\omega^2_k}\\right|,\\\\ \\phi_k(\\omega)&={\\large\\angle}\\frac{1}{-\\omega^2+\\omega^2_k}\\end{align*}"
      ],
      "metadata": {
        "id": "rrW74KrNiGKv"
      }
    },
    {
      "cell_type": "markdown",
      "source": [
        "### Example #3 - The Vibrating Drum"
      ],
      "metadata": {
        "id": "yXE-egAxj_dJ"
      }
    },
    {
      "cell_type": "markdown",
      "source": [
        "Still under construction"
      ],
      "metadata": {
        "id": "kayRgz7z1jGl"
      }
    },
    {
      "cell_type": "markdown",
      "source": [
        "#Introduction to Fourirer Series and Transforms"
      ],
      "metadata": {
        "id": "R2benAtxkPZb"
      }
    },
    {
      "cell_type": "markdown",
      "source": [
        "Consider the vector space of square integrable complex valued functions defined on the finite interval $[0,L]$. Denote this space by $\\mathcal{F}$. That is if $f\\in \\mathcal{F}$ then $f:[0,L]\\to \\mathbb{C}$ and $\\int_0^Lf^*(x)f(x)\\:dx < \\infty$.\n",
        "\n",
        "For $f,g\\in \\mathcal{F}$ one can easily show that\n",
        "\n",
        "\\begin{align} \\langle \\langle f,g\\rangle \\rangle &= \\frac{1}{L}\\int_0^Lf^*(x)g(x)\\:dx \\end{align}\n",
        "\n",
        "defines an inner product on the vector space $\\mathcal{F}$.\n",
        "\n",
        "It is easy to show that the set of functions $\\begin{align}\\psi_k(x)=e^{i\\frac{2k\\pi x}{L}}\\end{align}$ for any $k=0,\\pm1,\\pm2,\\cdots,$ are orthonormal to each other with respect to this inner product. The question is do they span $\\mathcal{F}$. To find the answer we seek to see if any $f\\in \\mathcal{F}$ can be written as a linear combination of the $\\psi_k(x)$.\n",
        "\n",
        "That is given a $f\\in \\mathcal{F}$ can we uniquely determine the coefficients $\\alpha_k\\in \\mathbb{C}$ such that\n",
        "\n",
        "\\begin{align}f(x)&=\\sum_{k=-\\infty}^\\infty \\alpha_k\\,\\psi_k(x)=\\sum_{k=-\\infty}^\\infty \\alpha_k\\,e^{i\\frac{2k\\pi x}{L}}.\\end{align}\n",
        "\n",
        "Using the inner product one can show that\n",
        "\n",
        "\\begin{align}\\alpha_k&=\\langle\\langle \\psi_k,f\\rangle\\rangle =\\frac{1}{L}\\int_0^Lf(x)e^{-i\\frac{2k\\pi x}{L}}\\:dx\\end{align}\n",
        "\n",
        "Thus any $f\\in \\mathcal{F}$ can be uniquely expressed as above provided the infinite series converges. It can be shown that this series in fact converges. This is called the Fourier Series of $f\\in \\mathcal{F}$.\n",
        "\n"
      ],
      "metadata": {
        "id": "pM6SeKPxkWnq"
      }
    },
    {
      "cell_type": "markdown",
      "source": [
        "### Example on Fourier Series"
      ],
      "metadata": {
        "id": "U8iMt2aMMSWa"
      }
    },
    {
      "cell_type": "markdown",
      "source": [
        "Consider a square pulse defined on the interval $[0,1]$ that is given by\n",
        "\\begin{align}\n",
        "f(t)&=\\left\\{\\begin{array}{lc}1 & \\mathrm{if \\:\\:\\:\\:\\:} t\\leq\\frac{1}{2}\\\\\n",
        "0 & \\mathrm{o.w}\\end{array}\\right.\n",
        "\\end{align}\n",
        "Then \n",
        "\\begin{align}f(t)&=\\sum_{k=-\\infty}^\\infty \\alpha_k\\,e^{i{2k\\pi t}},\\end{align}\n",
        "and for $k\\neq 0$\n",
        "\\begin{align}\n",
        "\\alpha_k&=\\int_0^1f(t)e^{-i2k\\pi t}\\:dt=\\int_0^{\\frac{1}{2}}e^{-i2k\\pi t}\\:dt=\\left.\\frac{e^{-i2k\\pi t}}{-i2k\\pi}\\right|_{0}^{\\frac{1}{2}}\\\\\n",
        "&=\\frac{1}{-i2k\\pi}(e^{-ik\\pi}-1)=\\frac{i}{2k\\pi}(\\cos({k\\pi})-i\\sin({k\\pi})-1)=\\frac{1}{2k\\pi}\\left(\\sin({k\\pi})+i(\\cos({k\\pi})-1)\\right)\n",
        "=\\frac{i}{2k\\pi}\\left(\\cos({k\\pi})-1\\right)=\\frac{-i}{k\\pi}\\sin^2\\left(\\frac{k\\pi}{2}\\right)\n",
        "\\end{align}\n",
        "We see that $\\alpha_0=\\frac{1}{2}$.\n",
        "Thus we have\n",
        "\\begin{align}f(t)&=\\frac{1}{2}+\\sum_{k=1}^\\infty (\\alpha_ke^{i{2k\\pi t}}+\\alpha_{-k}\\,e^{-i{2k\\pi t}}),\\end{align}\n",
        "Since $\\alpha_{-k}=\\bar{\\alpha}_{k}$ and if we denote $\\alpha_{k}=\\chi_ke^{i\\phi_k}$ we have \n",
        "\\begin{align}f(t)&=\\frac{1}{2}+\\sum_{k=1}^\\infty \\chi_k(e^{i({2k\\pi t+\\phi_k})}+e^{-i({2k\\pi t+\\phi_k})})=\\frac{1}{2}+\\sum_{k=1}^\\infty 2\\chi_k\\cos(2k\\pi t+\\phi_k)\\\\\n",
        "&=\\frac{1}{2}+\\sum_{k=1}^\\infty \\frac{\\sin^2\\left(\\frac{k\\pi}{2}\\right)}{\\left(\\frac{k\\pi}{2}\\right)}\\cos\\left(2k\\pi t-\\frac{\\pi}{2}\\right)=\\frac{1}{2}+\\sum_{k=1}^\\infty \\frac{\\sin^2\\left(\\frac{k\\pi}{2}\\right)}{\\left(\\frac{k\\pi}{2}\\right)}\\sin\\left(2k\\pi t\\right)\n",
        "\\end{align}\n",
        "\n",
        "Since $\\sin(k\\pi/2)$ vanishes for even $k$ we have\n",
        "\\begin{align}f(t)&=\\frac{1}{2}+\\sum_{k=1}^\\infty \\frac{\\sin^2\\left(\\frac{(2k-1)\\pi}{2}\\right)}{\\left(\\frac{(2k-1)\\pi}{2}\\right)}\\sin\\left(2(2k-1)\\pi t\\right)\n",
        "\\end{align}"
      ],
      "metadata": {
        "id": "_rESDAedMlc0"
      }
    },
    {
      "cell_type": "code",
      "source": [
        "k, t=symbols('k, t',real=True)"
      ],
      "metadata": {
        "id": "u0LdhEgUMD5s"
      },
      "execution_count": null,
      "outputs": []
    },
    {
      "cell_type": "markdown",
      "source": [
        "Let $\\alpha_k=\\frac{\\sin^2\\left(\\frac{(2k-1)\\pi}{2}\\right)}{\\left(\\frac{(2k-1)\\pi}{2}\\right)}$"
      ],
      "metadata": {
        "id": "NIUQ1bhPHH1O"
      }
    },
    {
      "cell_type": "code",
      "source": [
        "kk=[k for k in range(10)]\n",
        "alpha_0_k=(sin(k*np.pi/2)**2)/(k*np.pi/2)\n",
        "alpha_0_kk=[float(alpha_0_k.subs({k:k0})) for k0 in kk]\n",
        "fig=go.Figure()\n",
        "fig.add_trace(go.Scatter(x=kk,y=alpha_0_kk))\n",
        "fig.update_layout(title='$\\\\alpha_k\\:\\: \\mathrm{vs}\\:\\: k$', yaxis_title=\"$\\\\alpha_k$\",\n",
        "    xaxis_title=\"$k$\")"
      ],
      "metadata": {
        "id": "uK4iGYWvY5Fq"
      },
      "execution_count": null,
      "outputs": []
    },
    {
      "cell_type": "code",
      "source": [
        "alpha_k=(sin((2*k-1)*np.pi/2)**2)/((2*k-1)*np.pi/2)\n",
        "psi_k=sin(2*(2*k-1)*np.pi*t)"
      ],
      "metadata": {
        "id": "WvV6qmGhWsUg"
      },
      "execution_count": null,
      "outputs": []
    },
    {
      "cell_type": "code",
      "source": [
        "[xx for xx in range(1,10,1)]"
      ],
      "metadata": {
        "id": "Rb44nlHfBGoP"
      },
      "execution_count": null,
      "outputs": []
    },
    {
      "cell_type": "code",
      "source": [
        "from numpy.core.function_base import linspace\n",
        "linspace(0,9,10)"
      ],
      "metadata": {
        "id": "ZqBG69URBrLT"
      },
      "execution_count": null,
      "outputs": []
    },
    {
      "cell_type": "code",
      "source": [
        "fhat_t=1/2\n",
        "kmax=21\n",
        "for kk in range(1,kmax,1):\n",
        "    fhat_t=fhat_t+alpha_k.subs({k:kk})*psi_k.subs({k:kk})"
      ],
      "metadata": {
        "id": "JYnPi3mdXG17"
      },
      "execution_count": null,
      "outputs": []
    },
    {
      "cell_type": "code",
      "source": [
        "tt=np.linspace(0,1,101)\n",
        "kk=[xx for xx in range(1,kmax,1)]\n",
        "fhat_tt=np.zeros((len(kk),len(tt)))\n",
        "fhat_t=1/2\n",
        "for ik,ki in enumerate(kk):\n",
        "    fhat_t=fhat_t+alpha_k.subs({k:ki})*psi_k.subs({k:ki})\n",
        "    for it,ti in enumerate(tt):\n",
        "        fhat_tt[ik,it]=fhat_t.subs({t:ti})"
      ],
      "metadata": {
        "id": "mEBuOXeuXwqW"
      },
      "execution_count": null,
      "outputs": []
    },
    {
      "cell_type": "code",
      "source": [
        "mv.animate_2D_scatter_plot(tt, fhat_tt, 't','$\\widehat{f}(t)$','Finite term approximation')"
      ],
      "metadata": {
        "id": "s7JNolKHlono"
      },
      "execution_count": null,
      "outputs": []
    },
    {
      "cell_type": "markdown",
      "source": [
        "## Fourier Transform"
      ],
      "metadata": {
        "id": "H0fZf3ZsfpP1"
      }
    },
    {
      "cell_type": "markdown",
      "source": [
        "In many practical situations of interest, especially when dealing with electromagnetic signals, the functions of interest are square integrable functions defined on the interval $[0,\\infty)$. Let us see how the above notions generalize to this case. That is let us investigate how the above expressions behave when $\\lim L \\to \\infty$. Define $\\omega_k=\\frac{2k\\pi}{L}$. Then one can define $\\delta\\omega_k=\\frac{2\\pi}{L}$.\n",
        "\n",
        "Then one can re-write the above expression as\n",
        "\n",
        "\\begin{align*}f(x)&=\\frac{1}{2\\pi}\\sum_{k=-\\infty}^\\infty L\\alpha_k\\,e^{i\\omega_k x}\\delta \\omega_k\\end{align*}\n",
        "\n",
        "\\begin{align*}F(\\omega_k)=L\\alpha_k&=\\int_0^Lf(x)e^{-i\\omega_k x}\\:dx\\end{align*}\n",
        "\n",
        "Thus in the limit $\\lim L \\to \\infty$ the above expressions become\n",
        "\n",
        "\\begin{align}f(x)&=\\frac{1}{2\\pi}\\int_{-\\infty}^{\\infty} F(\\omega)\\,e^{i\\omega x}\\, d\\omega\\end{align}\n",
        "\n",
        "\\begin{align} F(\\omega)&=\\int_0^\\infty f(x)e^{-i\\omega x}\\:dx\\end{align}\n",
        "\n",
        "In the case where we deal with square integrable functions the Fourier coefficients are called the Fourier Transform of $f(x)$ and the Fourier integral is called the Inverse Fourier Transform of $F(\\omega)$."
      ],
      "metadata": {
        "id": "c_XLYZYAfsR6"
      }
    },
    {
      "cell_type": "markdown",
      "source": [
        "In general for square integrable functions defined on the interval $\\mathbb{R}$ with the varaible transformation $2\\pi k = \\omega$ one finds the commonly expressed form\n",
        "\n",
        "\\begin{align}f(x)&=\\int_{-\\infty}^{\\infty} F(k)\\,e^{i2\\pi k  x}\\, dk\\end{align}\n",
        "\n",
        "\\begin{align} F(k)&=\\int_{-\\infty}^\\infty f(x)e^{-i2\\pi k x}\\:dx\\end{align}"
      ],
      "metadata": {
        "id": "yF1yDU9hiI7r"
      }
    },
    {
      "cell_type": "markdown",
      "source": [
        "####Examples"
      ],
      "metadata": {
        "id": "GS99R4FxTEWq"
      }
    },
    {
      "cell_type": "code",
      "source": [
        "from sympy import *\n",
        "x, k =symbols('x k',real=True)"
      ],
      "metadata": {
        "id": "zgoXYIEqTH3s"
      },
      "execution_count": 88,
      "outputs": []
    },
    {
      "cell_type": "code",
      "source": [
        "#f=sin(x)/x\n",
        "f=exp(-x**2)\n",
        "fk=fourier_transform(f, x, k, simplify=True)"
      ],
      "metadata": {
        "id": "qj9k0BShZeLJ"
      },
      "execution_count": 107,
      "outputs": []
    },
    {
      "cell_type": "code",
      "source": [
        "fk"
      ],
      "metadata": {
        "id": "JPB-Tqa5fn-k",
        "outputId": "24287802-5de7-41d0-bcd4-737b8511ca2b",
        "colab": {
          "base_uri": "https://localhost:8080/",
          "height": 41
        }
      },
      "execution_count": 114,
      "outputs": [
        {
          "output_type": "execute_result",
          "data": {
            "text/plain": [
              "sqrt(pi)*exp(-pi**2*k**2)"
            ],
            "text/latex": "$\\displaystyle \\sqrt{\\pi} e^{- \\pi^{2} k^{2}}$"
          },
          "metadata": {},
          "execution_count": 114
        }
      ]
    },
    {
      "cell_type": "code",
      "source": [
        "fkk=[float(fk.subs({k:kk})) for kk in linspace(-np.pi,np.pi,100)]"
      ],
      "metadata": {
        "id": "LNJNxSt2ap_q"
      },
      "execution_count": 112,
      "outputs": []
    },
    {
      "cell_type": "code",
      "source": [
        "fkk"
      ],
      "metadata": {
        "id": "R8DKreVve7VR"
      },
      "execution_count": null,
      "outputs": []
    },
    {
      "cell_type": "code",
      "source": [
        "fig=go.Figure()\n",
        "fig.add_trace(go.Scattergl(x=linspace(-np.pi,np.pi,100),y=fkk))\n",
        "fig.update_layout(title='$F(k)\\:\\: \\mathrm{vs}\\:\\: k$', yaxis_title=\"$F(k)$\",\n",
        "    xaxis_title=\"$k$\")\n",
        "fig.show()"
      ],
      "metadata": {
        "id": "7IjsxgbUedx3"
      },
      "execution_count": null,
      "outputs": []
    },
    {
      "cell_type": "markdown",
      "source": [
        "## Discrete Fourier Transform - DFT"
      ],
      "metadata": {
        "id": "ylleB9daZ0v0"
      }
    },
    {
      "cell_type": "markdown",
      "source": [
        "Consider finite sequence of complex numbers $\\{x_n\\}_{n=0}^{N-1}$. Then analogous to the Fourier transform of a continuous function we have the Fourier transform of the discrete function to be defined by\n",
        "\\begin{align}\n",
        "X_k = \\sum_{n=0}^{N-1} x_n e^{-i\\frac{2\\pi k n}{N}} \\qquad k = 0,\\ldots,N-1\n",
        "\\end{align}\n",
        "and the inverse Fourier transform is defined by\n",
        "\\begin{align}\n",
        "x_n = \\frac{1}{N} \\sum_{k=0}^{N-1} X_k\\cdot e^{i \\frac{2 \\pi k n}{N} }\n",
        "\\end{align}"
      ],
      "metadata": {
        "id": "Ss15h_MpZ-15"
      }
    },
    {
      "cell_type": "markdown",
      "source": [
        "Evaluating this definition directly requires $O\\left(N^2\\right)$ operations: there are $N$ outputs $X_k$, and each output requires a sum of $N$ terms. An FFT is any method to compute the same results in $O(N \\log N)$ operations. All known FFT algorithms require, although there is no known proof that lower complexity is impossible.\n",
        "\n",
        "The above is copied from\n",
        "https://en.wikipedia.org/wiki/Fast_Fourier_transform\n",
        "\n",
        "Below we will use some Python libraries to compute the FFTs."
      ],
      "metadata": {
        "id": "ZWm6HfNKgdhg"
      }
    },
    {
      "cell_type": "markdown",
      "source": [
        "### Example \n",
        "\n",
        "Based on https://docs.scipy.org/doc/scipy/tutorial/fft.html"
      ],
      "metadata": {
        "id": "Lvw_1chpkVup"
      }
    },
    {
      "cell_type": "markdown",
      "source": [
        "Q#3 FFT of a sampled signal\n",
        "Consider the following signal that is corrupted by noice:\n",
        "𝑦(𝑡)=𝑎1sin(2𝜋𝑓1𝑡)+𝑎2sin(2𝜋𝑓2𝑡)+𝜈𝑡, \n",
        "where  𝑛𝑡∼(0,1)  and  𝑓2>𝑓1 . This signal is sampled at a frequency of  𝑓𝑠≥2𝑓2 .\n",
        "\n",
        "Generate a signal as above in the interval  𝑡∈[0,2]  and consider the sampled sequence  {𝑦(𝑡𝑖)}𝑁−1𝑖=0  and find the FFT of the sampled sequence for the following parameters."
      ],
      "metadata": {
        "id": "BY9Mxd08wNA-"
      }
    },
    {
      "cell_type": "code",
      "source": [
        "N = 600\n",
        "# sample spacing\n",
        "T = 1.0 / 800.0\n",
        "x = np.linspace(0.0, N*T, N, endpoint=False)\n",
        "y = np.sin(50.0 * 2.0*np.pi*x) + 0.5*np.sin(80.0 * 2.0*np.pi*x)\n",
        "yf = fft(y)\n",
        "xf = fftfreq(N, T)[:N//2]"
      ],
      "metadata": {
        "id": "K20VI4nX7VEh"
      },
      "execution_count": null,
      "outputs": []
    },
    {
      "cell_type": "code",
      "source": [
        "fig=go.Figure()\n",
        "fig.add_trace(go.Scattergl(x=x,y=y))\n",
        "fig.update_layout(title='$f(t)\\:\\: \\mathrm{vs}\\:\\: t$', yaxis_title=\"$f(t)$\",\n",
        "    xaxis_title=\"$t$\")\n",
        "fig.show()"
      ],
      "metadata": {
        "id": "DWiy1G9lAkDg"
      },
      "execution_count": null,
      "outputs": []
    },
    {
      "cell_type": "code",
      "source": [
        "from scipy.fft import fft, fftfreq\n",
        "# Number of sample points\n",
        "N = 600\n",
        "# sample spacing\n",
        "T = 1.0 / 800.0\n",
        "x = np.linspace(0.0, N*T, N, endpoint=False)\n",
        "y = np.sin(50.0 * 2.0*np.pi*x) + 0.5*np.sin(80.0 * 2.0*np.pi*x)\n",
        "yf = fft(y) #y)\n",
        "xf = fftfreq(N, T)[:N//2]"
      ],
      "metadata": {
        "id": "dyds1EMU7Qd7"
      },
      "execution_count": null,
      "outputs": []
    },
    {
      "cell_type": "code",
      "source": [
        "fig_FFT=go.Figure()\n",
        "fig_FFT.add_trace(go.Scatter(x=xf,y=2.0/N * np.abs(yf[0:N//2])))\n",
        "fig_FFT.update_layout(title='$F(\\omega)\\:\\: \\mathrm{vs}\\:\\: \\omega$', yaxis_title=\"$F(\\omega)$\",\n",
        "    xaxis_title=\"$\\omega$\")\n",
        "fig_FFT.show()"
      ],
      "metadata": {
        "id": "LoMyJiFapESh"
      },
      "execution_count": null,
      "outputs": []
    },
    {
      "cell_type": "code",
      "source": [],
      "metadata": {
        "id": "YENm6bDvOUvD"
      },
      "execution_count": 82,
      "outputs": []
    },
    {
      "cell_type": "code",
      "source": [],
      "metadata": {
        "id": "KKcHITCgPPJ6"
      },
      "execution_count": 83,
      "outputs": []
    },
    {
      "cell_type": "code",
      "source": [],
      "metadata": {
        "id": "b-iAcjuSPZvh"
      },
      "execution_count": 84,
      "outputs": []
    },
    {
      "cell_type": "code",
      "source": [
        "f"
      ],
      "metadata": {
        "id": "Ni6aRLFcPhxV"
      },
      "execution_count": null,
      "outputs": []
    },
    {
      "cell_type": "code",
      "source": [],
      "metadata": {
        "id": "ZWIladJ_OTat"
      },
      "execution_count": 87,
      "outputs": []
    }
  ]
}