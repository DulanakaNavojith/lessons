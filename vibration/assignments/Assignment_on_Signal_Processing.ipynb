{
  "nbformat": 4,
  "nbformat_minor": 0,
  "metadata": {
    "colab": {
      "provenance": [],
      "authorship_tag": "ABX9TyNNFjnott5BI108UeCfRKiL",
      "include_colab_link": true
    },
    "kernelspec": {
      "name": "python3",
      "display_name": "Python 3"
    },
    "language_info": {
      "name": "python"
    }
  },
  "cells": [
    {
      "cell_type": "markdown",
      "metadata": {
        "id": "view-in-github",
        "colab_type": "text"
      },
      "source": [
        "<a href=\"https://colab.research.google.com/github/mugalan/lessons/blob/main/vibration/assignments/Assignment_on_Signal_Processing.ipynb\" target=\"_parent\"><img src=\"https://colab.research.google.com/assets/colab-badge.svg\" alt=\"Open In Colab\"/></a>"
      ]
    },
    {
      "cell_type": "code",
      "execution_count": null,
      "metadata": {
        "id": "3msdvsIEOPdz"
      },
      "outputs": [],
      "source": []
    },
    {
      "cell_type": "markdown",
      "source": [
        "#Q#1 - Fourier Series of a Square Pulse"
      ],
      "metadata": {
        "id": "vn_xxYFrOvNr"
      }
    },
    {
      "cell_type": "markdown",
      "source": [
        "Consider a step function defined on the interval $[0,1]$ that is given by\n",
        "\\begin{align}\n",
        "f(t)&=\\left\\{\\begin{array}{lc}1 & \\mathrm{if \\:\\:\\:\\:\\:} t\\leq\\frac{1}{2}\\\\\n",
        "0 & \\mathrm{o.w}\\end{array}\\right.\n",
        "\\end{align}"
      ],
      "metadata": {
        "id": "_rESDAedMlc0"
      }
    },
    {
      "cell_type": "markdown",
      "source": [
        "## Q#1.1 Show using analytical methods that\n",
        "\n",
        "\\begin{align}f(t)&=\\frac{1}{2}+\\sum_{k=1}^\\infty \\frac{\\sin^2\\left(\\frac{(2k-1)\\pi}{2}\\right)}{\\left(\\frac{(2k-1)\\pi}{2}\\right)}\\sin\\left(2(2k-1)\\pi t\\right)\n",
        "\\end{align}"
      ],
      "metadata": {
        "id": "HaZdcrTKPEMk"
      }
    },
    {
      "cell_type": "markdown",
      "source": [
        "## Q#1.2 Plot $\\alpha_k$ Vs $k$ where \n",
        "$\\alpha_k=\\frac{\\sin^2\\left(\\frac{(2k-1)\\pi}{2}\\right)}{\\left(\\frac{(2k-1)\\pi}{2}\\right)}$\n"
      ],
      "metadata": {
        "id": "9Yu7ynShPTxe"
      }
    },
    {
      "cell_type": "markdown",
      "source": [
        "## Q#1.3 Provide an animation of the successive approximation of $f(t)$ that is given by\n",
        "\n",
        "\n"
      ],
      "metadata": {
        "id": "cvo0qMw5Poh1"
      }
    },
    {
      "cell_type": "markdown",
      "source": [
        "\\begin{align}{f}(t)&\\approx\\frac{1}{2}+\\sum_{k=1}^N \\frac{\\sin^2\\left(\\frac{(2k-1)\\pi}{2}\\right)}{\\left(\\frac{(2k-1)\\pi}{2}\\right)}\\sin\\left(2(2k-1)\\pi t\\right)\n",
        "\\end{align}\n",
        "for incerasing $N$."
      ],
      "metadata": {
        "id": "dMTWdi5GP_gI"
      }
    },
    {
      "cell_type": "markdown",
      "source": [
        "#Q#2 Prove the Duality Theorm of Fourier Transforms:\n",
        "\n",
        "\\begin{align}\n",
        "\\mathcal{F}\\left\\{\\mathcal{F}\\left\\{f(x)\\right\\}\\right\\}= f(-x)\n",
        "\\end{align}"
      ],
      "metadata": {
        "id": "hds6lrHwzWQs"
      }
    },
    {
      "cell_type": "markdown",
      "source": [
        "#Q#3 Show that\n",
        "\\begin{align}\n",
        "f(x)&=2\\int_{0}^{\\infty}\\left( \\Re \\left(F(k)\\right)\\,\\cos\\left(2\\pi k  x\\right)- \\Im \\left(F(k)\\right)\\,\\sin\\left(2\\pi k  x\\right)\\right)\\, dk\n",
        "\\end{align}\n",
        "\n"
      ],
      "metadata": {
        "id": "gSwnG8Iw0RUH"
      }
    },
    {
      "cell_type": "markdown",
      "source": [
        "#Q#4 Plot the function and its Fourier transform of the following functions. Plot both the real part and the imaginary part in the same figure."
      ],
      "metadata": {
        "id": "elONVlIHQWe9"
      }
    },
    {
      "cell_type": "markdown",
      "source": [
        "##Q#4.1 \n",
        "\n",
        "$f(t)=\\frac{1}{a}H\\left(t+\\frac{a}{2}\\right)-\\frac{1}{a}H\\left(t-\\frac{a}{2}\\right)$ where $H(\\cdot)$ is the Heaviside step function"
      ],
      "metadata": {
        "id": "5jq7XN3zUQHx"
      }
    },
    {
      "cell_type": "markdown",
      "source": [
        "##Q#4.2 \n",
        "\n",
        "$f(t)=\\frac{1}{a}H(t)-\\frac{1}{a}H(t-a)$ where $H(\\cdot)$ is the Heaviside step function"
      ],
      "metadata": {
        "id": "1fusb_YmV8I4"
      }
    },
    {
      "cell_type": "markdown",
      "source": [
        "##Q#4.3\n",
        "\n",
        "\\begin{align}\n",
        "f(t)=\\frac{\\sin(\\pi a t)}{\\pi at}\n",
        "\\end{align}"
      ],
      "metadata": {
        "id": "Q9UYXQ6eYGm3"
      }
    },
    {
      "cell_type": "code",
      "source": [],
      "metadata": {
        "id": "ooY5sL4tvxc6"
      },
      "execution_count": null,
      "outputs": []
    },
    {
      "cell_type": "code",
      "source": [],
      "metadata": {
        "id": "a-GBAusovxZR"
      },
      "execution_count": null,
      "outputs": []
    },
    {
      "cell_type": "markdown",
      "source": [
        "##Q#4.4\n",
        "\\begin{align}\n",
        "f(t)=\\delta(t-\\tau)\n",
        "\\end{align}"
      ],
      "metadata": {
        "id": "8irEbQwfJO36"
      }
    },
    {
      "cell_type": "markdown",
      "source": [
        "##Q#4.5\n",
        "\\begin{align}\n",
        "f(t)=\\cos(2\\pi k t)\n",
        "\\end{align}"
      ],
      "metadata": {
        "id": "3FYEUIovJhwV"
      }
    },
    {
      "cell_type": "markdown",
      "source": [
        "#Q#5 State and Prove the Nyquist-Shannon Sampling Theorem"
      ],
      "metadata": {
        "id": "4wVg_3E1aYy_"
      }
    },
    {
      "cell_type": "markdown",
      "source": [
        "#Q#6 The FFT\n"
      ],
      "metadata": {
        "id": "ruk-BaZIa2zT"
      }
    },
    {
      "cell_type": "markdown",
      "source": [
        "Consider the following signal that is corrupted by noice:\n",
        "\\begin{align}\n",
        "y(t)=a_1\\sin(2\\pi f_1 t)+a_2\\sin(2\\pi f_2 t)+\\nu_t, \n",
        "\\end{align}\n",
        "where  $\\nu_t \\sim \\mathcal{N}(0,0.1)$  and  $f_2>f_1$. This signal is sampled at a frequency of  $f_s\\geq 2f_2$."
      ],
      "metadata": {
        "id": "BY9Mxd08wNA-"
      }
    },
    {
      "cell_type": "markdown",
      "source": [
        "Let $f_1=50\\ Hz$,  $f_2=80\\ Hz$, $a_1=1, a_2=0.5$ and find the FFT of the signal in the range $t\\in [0,1]$"
      ],
      "metadata": {
        "id": "CIBa6uMnbGpW"
      }
    },
    {
      "cell_type": "code",
      "source": [],
      "metadata": {
        "id": "HjwL-6vpaYNM"
      },
      "execution_count": null,
      "outputs": []
    }
  ]
}