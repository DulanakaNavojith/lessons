{
  "nbformat": 4,
  "nbformat_minor": 0,
  "metadata": {
    "colab": {
      "provenance": [],
      "authorship_tag": "ABX9TyMvtFKl3jQ121xtDD3ZVYg/",
      "include_colab_link": true
    },
    "kernelspec": {
      "name": "python3",
      "display_name": "Python 3"
    },
    "language_info": {
      "name": "python"
    }
  },
  "cells": [
    {
      "cell_type": "markdown",
      "metadata": {
        "id": "view-in-github",
        "colab_type": "text"
      },
      "source": [
        "<a href=\"https://colab.research.google.com/github/mugalan/lessons/blob/main/vibration/assignments/Assignment_on_Signal_Processing.ipynb\" target=\"_parent\"><img src=\"https://colab.research.google.com/assets/colab-badge.svg\" alt=\"Open In Colab\"/></a>"
      ]
    },
    {
      "cell_type": "code",
      "execution_count": null,
      "metadata": {
        "id": "3msdvsIEOPdz"
      },
      "outputs": [],
      "source": []
    },
    {
      "cell_type": "markdown",
      "source": [
        "#Q#1 - Fourier Series of a Square Pulse"
      ],
      "metadata": {
        "id": "vn_xxYFrOvNr"
      }
    },
    {
      "cell_type": "markdown",
      "source": [
        "Consider a step function defined on the interval $[0,1]$ that is given by\n",
        "\\begin{align}\n",
        "f(t)&=\\left\\{\\begin{array}{lc}1 & \\mathrm{if \\:\\:\\:\\:\\:} t\\leq\\frac{1}{2}\\\\\n",
        "0 & \\mathrm{o.w}\\end{array}\\right.\n",
        "\\end{align}"
      ],
      "metadata": {
        "id": "_rESDAedMlc0"
      }
    },
    {
      "cell_type": "markdown",
      "source": [
        "## Q#1.1 Show using analytical methods that\n",
        "\n",
        "\\begin{align}f(t)&=\\frac{1}{2}+\\sum_{k=1}^\\infty \\frac{\\sin^2\\left(\\frac{(2k-1)\\pi}{2}\\right)}{\\left(\\frac{(2k-1)\\pi}{2}\\right)}\\sin\\left(2(2k-1)\\pi t\\right)\n",
        "\\end{align}"
      ],
      "metadata": {
        "id": "HaZdcrTKPEMk"
      }
    },
    {
      "cell_type": "markdown",
      "source": [
        "## Q#1.2 Plot $\\alpha_k$ Vs $k$ where\n"
      ],
      "metadata": {
        "id": "9Yu7ynShPTxe"
      }
    },
    {
      "cell_type": "markdown",
      "source": [
        "$\\alpha_k=\\frac{\\sin^2\\left(\\frac{(2k-1)\\pi}{2}\\right)}{\\left(\\frac{(2k-1)\\pi}{2}\\right)}$ and plot "
      ],
      "metadata": {
        "id": "NIUQ1bhPHH1O"
      }
    },
    {
      "cell_type": "markdown",
      "source": [
        "## Q#1.3 Provide an animation of the successive approximation of $f(t)$ that is given by\n",
        "\n",
        "\n"
      ],
      "metadata": {
        "id": "cvo0qMw5Poh1"
      }
    },
    {
      "cell_type": "markdown",
      "source": [
        "\\begin{align}{f}(t)&\\approx\\frac{1}{2}+\\sum_{k=1}^N \\frac{\\sin^2\\left(\\frac{(2k-1)\\pi}{2}\\right)}{\\left(\\frac{(2k-1)\\pi}{2}\\right)}\\sin\\left(2(2k-1)\\pi t\\right)\n",
        "\\end{align}\n",
        "for incerasing $N$."
      ],
      "metadata": {
        "id": "dMTWdi5GP_gI"
      }
    },
    {
      "cell_type": "markdown",
      "source": [
        "#Q#2 Find and plot both the function and its Fourier transform of the following functions of time that is define on $\\mathbb{R}$"
      ],
      "metadata": {
        "id": "elONVlIHQWe9"
      }
    },
    {
      "cell_type": "markdown",
      "source": [
        "##Q#2.1\n",
        "\n",
        "\\begin{align}\n",
        "f(t)=e^{\\left(-\\frac{t^2}{\\sigma^2}\\right)}\n",
        "\\end{align}"
      ],
      "metadata": {
        "id": "pUxWkGrLQtS0"
      }
    },
    {
      "cell_type": "markdown",
      "source": [
        "##Q#2.2\n",
        "\n",
        "* $f(t)=\\frac{1}{a}H\\left(t+\\frac{a}{2}\\right)-\\frac{1}{a}H\\left(t-\\frac{a}{2}\\right)$\n",
        "\n",
        "\n",
        "* $f(t)=\\frac{1}{a}H(t)-\\frac{1}{a}H(t-a)$\n",
        "\n",
        "Where $H(\\cdot)$ is the Heaviside step function"
      ],
      "metadata": {
        "id": "5jq7XN3zUQHx"
      }
    }
  ]
}