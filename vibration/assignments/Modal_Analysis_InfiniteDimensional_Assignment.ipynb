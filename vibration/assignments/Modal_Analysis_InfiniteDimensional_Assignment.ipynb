{
  "nbformat": 4,
  "nbformat_minor": 0,
  "metadata": {
    "colab": {
      "provenance": [],
      "collapsed_sections": [
        "FUEd4mtGN-K9",
        "3zqQab4A8NdG",
        "ot-c6f7-9oON"
      ],
      "include_colab_link": true
    },
    "kernelspec": {
      "name": "python3",
      "display_name": "Python 3"
    },
    "language_info": {
      "name": "python"
    }
  },
  "cells": [
    {
      "cell_type": "markdown",
      "metadata": {
        "id": "view-in-github",
        "colab_type": "text"
      },
      "source": [
        "<a href=\"https://colab.research.google.com/github/mugalan/lessons/blob/main/vibration/assignments/Modal_Analysis_InfiniteDimensional_Assignment.ipynb\" target=\"_parent\"><img src=\"https://colab.research.google.com/assets/colab-badge.svg\" alt=\"Open In Colab\"/></a>"
      ]
    },
    {
      "cell_type": "markdown",
      "metadata": {
        "id": "VRHgjvu0jFRO"
      },
      "source": [
        "#Assignment on - Introduction to Modes of Vibrations in Infinite Dimensional Systems\n",
        "\n",
        "* This is Assignment#1 on Dynamic Systems. It is intended to give you some experience on representing motion in moving (non Inertial) frames.\n",
        "\n",
        "* Save this file in your Institutional G-Suite google drive and rename it starting with your index number. For example if you are E/90/512 then rename the file to \n",
        "'E90512_Assignment#1_DynamicSystems.ipynb'\n",
        "\n",
        "* Get started!\n",
        "\n",
        "* Once complete share with smaithri@eng.pdn.ac.lk"
      ]
    },
    {
      "cell_type": "markdown",
      "metadata": {
        "id": "fwgbY4w3QMrM"
      },
      "source": [
        "# Setting Up Python"
      ]
    },
    {
      "cell_type": "code",
      "metadata": {
        "id": "3RW3q9BQO4s1"
      },
      "source": [
        "import numpy as np\n",
        "import scipy as sp\n",
        "from scipy.integrate import odeint\n",
        "import plotly.graph_objects as go"
      ],
      "execution_count": null,
      "outputs": []
    },
    {
      "cell_type": "code",
      "metadata": {
        "id": "Qz-c2Aw-O-SQ",
        "outputId": "ae009182-2166-47e1-baae-a777ecf746c0",
        "colab": {
          "base_uri": "https://localhost:8080/",
          "height": 133
        }
      },
      "source": [
        "class mugas_dynamic_systems_simulation_functions:\n",
        "  \n",
        "    def __init__(self): \n",
        "        self=[];\n",
        "\n",
        "    def simulateDySystem(self, dynamicSystemModel, Tmax, dT, X0, sysPara, figTitle, xLabel, yLabel):\n",
        "        t = np.linspace(0, Tmax, int(Tmax/dT+1))\n",
        "        sol = odeint(dynamicSystemModel, X0, t, args=(sysPara,));\n",
        "        self.soln=sol;\n",
        "        fig = go.Figure()\n",
        "        [nt,nS]=sol.shape;\n",
        "\n",
        "        # Add traces\n",
        "        for nn in range(nS):\n",
        "            fig.add_trace(go.Scatter(x=t, y=sol[:,nn], mode='lines+markers', name='x'+str(nn+1)))\n",
        "            fig.update_layout(title=figTitle, xaxis=dict(title=xLabel),yaxis=dict(title=yLabel))\n",
        "            \n",
        "        fig.show()\n",
        "        return [t,sol,fig] \n",
        "\n",
        "    def animate_particle_motion(self, XX, axisRange, figTitle):\n",
        "        xx=[jj[0] for jj in XX]\n",
        "        yy=[jj[1] for jj in XX]\n",
        "        zz=[jj[2] for jj in XX]\n",
        "\n",
        "        fig = go.Figure(\n",
        "            data=[go.Scatter3d(x=[xx[0]], y=[yy[0]],z=[zz[0]],\n",
        "                            mode=\"markers\",\n",
        "                            marker=dict(color=\"red\", size=10)),\n",
        "                go.Scatter3d(x=xx, y=yy,z=zz, name='Path',\n",
        "                            mode=\"lines\",\n",
        "                            line=dict(color=\"blue\", width=2))],\n",
        "            layout=go.Layout(\n",
        "                scene = dict(\n",
        "                            xaxis=dict(range=axisRange[0], autorange=False),\n",
        "                            yaxis=dict(range=axisRange[1], autorange=False),\n",
        "                            zaxis=dict(range=axisRange[2], autorange=False),\n",
        "                            aspectratio=dict(x=1, y=1, z=1),\n",
        "                ),\n",
        "                title_text=figTitle, hovermode=\"closest\",\n",
        "                updatemenus=[dict(type=\"buttons\",\n",
        "                                buttons=[dict(label=\"Play\",\n",
        "                                                method=\"animate\",\n",
        "                                                args=[None])])]),\n",
        "            frames=[go.Frame(\n",
        "                data=[go.Scatter3d(\n",
        "                    x=[p[0]],\n",
        "                    y=[p[1]],\n",
        "                    z=[p[2]],\n",
        "                    name='Particle',\n",
        "                    mode=\"markers\",\n",
        "                    marker=dict(color=\"red\", size=10))])\n",
        "\n",
        "                for p in XX]\n",
        "        )\n",
        "\n",
        "        fig.show()\n",
        "        return fig\n",
        "\n",
        "    def animate_2D_scatter_plot(self, x, YY, xlabel, ylabel, title):\n",
        "    fig = go.Figure(data=[go.Scatter(x=x,y=YY[0,:])],\n",
        "            layout=go.Layout(\n",
        "                xaxis={'title':xlabel},\n",
        "                yaxis={'title':ylabel,'range':[1.1*YY.min(),1.1*YY.max()]},\n",
        "                title={'text':title,'y':0.9,'x':0.5, 'xanchor': 'center','yanchor': 'top'},\n",
        "                scene = dict(aspectratio=dict(x=1, y=1)),    \n",
        "                hovermode=\"closest\",\n",
        "                updatemenus=[dict(type=\"buttons\",\n",
        "                                buttons=[dict(label=\"Play\",\n",
        "                                                method=\"animate\",\n",
        "                                                args=[None])])]\n",
        "                ),\n",
        "        frames=[go.Frame(data=[go.Scatter(x=x,y=y)]) for y in YY]\n",
        "    )\n",
        "\n",
        "    #fig.show()\n",
        "    return fig"
      ],
      "execution_count": null,
      "outputs": [
        {
          "output_type": "error",
          "ename": "IndentationError",
          "evalue": "ignored",
          "traceback": [
            "\u001b[0;36m  File \u001b[0;32m\"<ipython-input-1-3564e576ae5a>\"\u001b[0;36m, line \u001b[0;32m61\u001b[0m\n\u001b[0;31m    fig = go.Figure(data=[go.Scatter(x=x,y=YY[0,:])],\u001b[0m\n\u001b[0m      ^\u001b[0m\n\u001b[0;31mIndentationError\u001b[0m\u001b[0;31m:\u001b[0m expected an indented block\n"
          ]
        }
      ]
    },
    {
      "cell_type": "markdown",
      "metadata": {
        "id": "usJ6SbqyRueG"
      },
      "source": [
        "#Q#1 Modal Analysis - Infinite Dimensional Systems"
      ]
    },
    {
      "cell_type": "markdown",
      "metadata": {
        "id": "jdDWxglERxzK"
      },
      "source": [
        "Let $\\mathcal{F}$ denote the space of all four times differentiable functions defined on $[0,L]$ for some $L>0$ such that the function and its second order spatial derivative vanishes at the end points of the interval. Answer the followings:"
      ]
    },
    {
      "cell_type": "markdown",
      "metadata": {
        "id": "i6aZWgz-S3QW"
      },
      "source": [
        "##Q#1.1"
      ]
    },
    {
      "cell_type": "markdown",
      "metadata": {
        "id": "8CMW7XmJS69-"
      },
      "source": [
        "Show that $\\mathcal{F}$ is a vector space over $\\mathbb{R}$ under the binary operation of point wise addition of functions.\n",
        "\n",
        "Show that $\\langle\\langle \\cdot,\\cdot\\rangle\\rangle :\\mathcal{F}\\times \\mathcal{F}\\to \\mathbb{R}$ defined as\n",
        "\\begin{align*}\n",
        "\\langle\\langle f,g\\rangle \\rangle\\triangleq \\frac{2}{L}\\int_0^Lf(x)g(x)\\,dx\n",
        "\\end{align*}\n",
        "for any $f,g\\in \\mathcal{F}$ defines an inner product on $\\mathcal{F}$."
      ]
    },
    {
      "cell_type": "markdown",
      "metadata": {
        "id": "nVn0i7oQTDWm"
      },
      "source": [
        "## Q#1.2"
      ]
    },
    {
      "cell_type": "markdown",
      "metadata": {
        "id": "elYIz0qNTGJ5"
      },
      "source": [
        "Show that $H:\\mathcal{F}\\to\\mathcal{F}$ given by\n",
        "\\begin{align}\n",
        "H&=\\frac{EI} {\\rho A}{{d^4 } \\over {d x^4}}+\\frac{P_o}{\\rho A} {{d^2 } \\over {d x^2}},\n",
        "\\end{align}\n",
        "is a linear operator."
      ]
    },
    {
      "cell_type": "markdown",
      "metadata": {
        "id": "bzbX9KGiTNKy"
      },
      "source": [
        "## Q#1.3"
      ]
    },
    {
      "cell_type": "markdown",
      "metadata": {
        "id": "V8L0T8spTQCi"
      },
      "source": [
        "Show that $\\psi_n(x)\\triangleq \\sin{\\left(\\frac{n\\pi x}{L}\\right)}$ is an element of $\\mathcal{F}$ for each $n=0,1,2,\\cdots$ and sketch the graphs of $\\psi_n(x)$ for $n=1,2,3,4$.\n"
      ]
    },
    {
      "cell_type": "markdown",
      "metadata": {
        "id": "ZFFqRt6BTTzZ"
      },
      "source": [
        "##Q#1.4"
      ]
    },
    {
      "cell_type": "markdown",
      "metadata": {
        "id": "FJhUWIUnTWaF"
      },
      "source": [
        "Show that $\\psi_n(x)\\triangleq \\sin{\\left(\\frac{n\\pi x}{L}\\right)}$ is an eigenvector of $H$ with corresponding eigenvalue\n",
        "\\begin{align}\n",
        "\\omega_n^2\\triangleq \\frac{n^2\\pi^2}{\\rho AL^2}\\left(\\frac{EIn^2\\pi^2}{L^2}-P_o\\right).\n",
        "\\end{align}"
      ]
    },
    {
      "cell_type": "markdown",
      "metadata": {
        "id": "Icc77H0CTZ5g"
      },
      "source": [
        "##Q#1.5"
      ]
    },
    {
      "cell_type": "markdown",
      "metadata": {
        "id": "HnVrRlKaTcLJ"
      },
      "source": [
        "Show that $\\langle\\langle \\psi_j,\\psi_k\\rangle \\rangle=\\delta_{jk}$ and hence that $\\psi_j$ is orthogonal to $\\psi_k$ when $j\\neq k$."
      ]
    },
    {
      "cell_type": "markdown",
      "metadata": {
        "id": "kp2f-YTYTfkR"
      },
      "source": [
        "##Q#1.6"
      ]
    },
    {
      "cell_type": "markdown",
      "metadata": {
        "id": "gSs4vsg4Thyc"
      },
      "source": [
        "Show that if $f(x)\\triangleq \\sum_{j=1}^\\infty z_j\\,\\psi_j(x)$ where $z_j\\in \\mathbb{R}$ then $f\\in \\mathcal{F}$.\n"
      ]
    },
    {
      "cell_type": "markdown",
      "metadata": {
        "id": "oXCpB9mcTl2I"
      },
      "source": [
        "##Q#1.7"
      ]
    },
    {
      "cell_type": "markdown",
      "metadata": {
        "id": "H4Ki-sEyTovE"
      },
      "source": [
        "This show that any  $f\\in \\mathcal{F}$ can be written down as $f(x)\\triangleq \\sum_{j=1}^\\infty z_j\\,\\sin{\\left(\\frac{j\\pi x}{L}\\right)}$ for some $z_j\\in \\mathbb{R}$\n",
        "where \n",
        "\\begin{align*}\n",
        "z_j=\\langle\\langle \\psi_j,f\\rangle\\rangle=\\frac{2}{L}\\int_0^Lf(x)\\sin{\\left(\\frac{j\\pi x}{L}\\right)}\\,dx.\n",
        "\\end{align*}\n",
        "\n"
      ]
    },
    {
      "cell_type": "markdown",
      "metadata": {
        "id": "BdNrTQ8JTvMn"
      },
      "source": [
        "##Q#1.8"
      ]
    },
    {
      "cell_type": "markdown",
      "metadata": {
        "id": "bf4QGL1NTyW_"
      },
      "source": [
        "Thus show that the set $\\{\\psi_n(x)\\}_{n=1}^\\infty$ is an orthonormal basis for $\\mathcal{F}$."
      ]
    },
    {
      "cell_type": "code",
      "source": [],
      "metadata": {
        "id": "pd8hPX-QLagZ"
      },
      "execution_count": null,
      "outputs": []
    },
    {
      "cell_type": "markdown",
      "source": [
        "## Q#1.9 Plot the first 5 mode shapes of the beam"
      ],
      "metadata": {
        "id": "wtY_z4vsN6ID"
      }
    },
    {
      "cell_type": "markdown",
      "source": [
        "##Q#1.10 Numerical Verification\n"
      ],
      "metadata": {
        "id": "QLmW_9gS-4Tm"
      }
    },
    {
      "cell_type": "markdown",
      "source": [
        "Consider a beam with the following parameters that is excited by a point load (motor for example) located at the center of the beam. Let the forcing frequency be denoted by $\\omega$ and the maximum amplitude of the forcing be denoted by $f_0$. The beam parameters are given by"
      ],
      "metadata": {
        "id": "CZxIJvCiORci"
      }
    },
    {
      "cell_type": "code",
      "source": [
        "#Steel, Structural ASTM-A36\n",
        "a=1e-2; b=5e-3;\n",
        "E=200e9 #GPa\n",
        "I=a*b**3/12\n",
        "rho=7850 #kg/m^3\n",
        "P=100 #N\n",
        "L=1 #m\n",
        "A=a*b"
      ],
      "metadata": {
        "id": "Rw3QakLN-_tz"
      },
      "execution_count": null,
      "outputs": []
    },
    {
      "cell_type": "code",
      "source": [
        "f_0=1e-1\n",
        "omega=2*np.pi*50"
      ],
      "metadata": {
        "id": "wuiWJixMFF0j"
      },
      "execution_count": null,
      "outputs": []
    },
    {
      "cell_type": "markdown",
      "source": [
        "###Q#1.10.a Plot $\\omega_k$ Vs $k$ for $k \\in [1,2,\\cdots,10]$"
      ],
      "metadata": {
        "id": "QwPmYzeUOjOV"
      }
    },
    {
      "cell_type": "markdown",
      "source": [
        "###Q#1.10.b Plot $\\chi_k(\\omega)$ Vs $k$ for $k \\in [1,2,\\cdots,10]$"
      ],
      "metadata": {
        "id": "V7uQgYfRQFvz"
      }
    },
    {
      "cell_type": "markdown",
      "source": [
        "###Q#1.10.c Plot $\\phi_k(\\omega)$ Vs $k$ for $k \\in [1,2,\\cdots,10]$"
      ],
      "metadata": {
        "id": "rzvlogJ6O1XZ"
      }
    },
    {
      "cell_type": "markdown",
      "source": [
        "###Q#10.1.d Finid a low order aproximate solution to the behavior of the system $t(t,x)$"
      ],
      "metadata": {
        "id": "P1TfP5qkQFFq"
      }
    },
    {
      "cell_type": "markdown",
      "source": [
        "###Q#1.10.e Animate the approximate solution for a time span on 0 to 0.1 s"
      ],
      "metadata": {
        "id": "wDvT5qWPQ07t"
      }
    },
    {
      "cell_type": "markdown",
      "source": [
        "#Q#2 Fourier Series of a Square Pulse"
      ],
      "metadata": {
        "id": "GI8HRdjMqlWl"
      }
    },
    {
      "cell_type": "markdown",
      "source": [
        "Consider a square pulse defined on the interval $[0,1]$ that is given by\n",
        "\\begin{align}\n",
        "f(t)&=\\left\\{\\begin{array}{lc}1 & \\mathrm{if \\:\\:\\:\\:\\:} t\\leq\\frac{1}{2}\\\\\n",
        "0 & \\mathrm{o.w}\\end{array}\\right.\n",
        "\\end{align}"
      ],
      "metadata": {
        "id": "gT0LNdh_qw08"
      }
    },
    {
      "cell_type": "markdown",
      "source": [
        "##Q#2.1 Answer the following:"
      ],
      "metadata": {
        "id": "v9b2zx_uqtpD"
      }
    },
    {
      "cell_type": "markdown",
      "source": [
        "Show that\n",
        "\\begin{align}f(t)&=\\sum_{k=-\\infty}^\\infty \\alpha_k\\,e^{i{2k\\pi t}},\\end{align}\n",
        "where for $k\\neq 0$\n",
        "\\begin{align}\n",
        "\\alpha_k&=\\frac{-i}{k\\pi}\\sin^2\\left(\\frac{k\\pi}{2}\\right)\n",
        "\\end{align}\n",
        "and $\\alpha_0=\\frac{1}{2}$."
      ],
      "metadata": {
        "id": "h5JC2D2Iq-Qo"
      }
    },
    {
      "cell_type": "markdown",
      "source": [
        "##Q#2.2 Answer the following"
      ],
      "metadata": {
        "id": "5qt24VNirQJM"
      }
    },
    {
      "cell_type": "markdown",
      "source": [
        "Show that\n",
        "\\begin{align}f(t)&=\\frac{1}{2}+\\sum_{k=1}^\\infty \\frac{\\sin^2\\left(\\frac{k\\pi}{2}\\right)}{\\left(\\frac{k\\pi}{2}\\right)}\\sin\\left(2k\\pi t\\right)\n",
        "\\end{align}\n"
      ],
      "metadata": {
        "id": "m3azuhO6rXRJ"
      }
    },
    {
      "cell_type": "markdown",
      "source": [
        "##Q#2.3 Plot $\\frac{\\sin^2\\left(\\frac{k\\pi}{2}\\right)}{\\left(\\frac{k\\pi}{2}\\right)}$ Vs $k$"
      ],
      "metadata": {
        "id": "A_VY8UG1rjUQ"
      }
    },
    {
      "cell_type": "markdown",
      "source": [
        "##Q#2.4 Using the above results justify that\n",
        "\\begin{align}f(t)&=\\frac{1}{2}+\\sum_{k=1}^\\infty \\frac{\\sin^2\\left(\\frac{(2k-1)\\pi}{2}\\right)}{\\left(\\frac{(2k-1)\\pi}{2}\\right)}\\sin\\left(2(2k-1)\\pi t\\right)\n",
        "\\end{align}"
      ],
      "metadata": {
        "id": "BNT6aNnNsKqw"
      }
    },
    {
      "cell_type": "markdown",
      "source": [
        "##Q#2.4 Animate the finite approximation of $f(t)$ given by\n",
        "\\begin{align}\\hat{f}(t)&=\\frac{1}{2}+\\sum_{k=1}^N \\frac{\\sin^2\\left(\\frac{(2k-1)\\pi}{2}\\right)}{\\left(\\frac{(2k-1)\\pi}{2}\\right)}\\sin\\left(2(2k-1)\\pi t\\right)\n",
        "\\end{align}"
      ],
      "metadata": {
        "id": "WUA4mhwMry8z"
      }
    }
  ]
}