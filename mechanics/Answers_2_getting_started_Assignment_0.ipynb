{
  "cells": [
    {
      "cell_type": "markdown",
      "metadata": {
        "id": "view-in-github",
        "colab_type": "text"
      },
      "source": [
        "<a href=\"https://colab.research.google.com/github/mugalan/lessons/blob/main/mechanics/Answers_2_getting_started_Assignment_0.ipynb\" target=\"_parent\"><img src=\"https://colab.research.google.com/assets/colab-badge.svg\" alt=\"Open In Colab\"/></a>"
      ]
    },
    {
      "cell_type": "markdown",
      "metadata": {
        "id": "rwp5z2NO7jSU"
      },
      "source": [
        "# SymPy - Symbolic algebra in Python"
      ]
    },
    {
      "cell_type": "code",
      "execution_count": null,
      "metadata": {
        "id": "rPx5Fn0s7jSY"
      },
      "outputs": [],
      "source": [
        "from sympy import *"
      ]
    },
    {
      "cell_type": "markdown",
      "metadata": {
        "id": "_NYP3Ni77jSZ"
      },
      "source": [
        "To get nice-looking $\\LaTeX$ formatted output run:"
      ]
    },
    {
      "cell_type": "code",
      "execution_count": null,
      "metadata": {
        "id": "qPBC84tr7jSa"
      },
      "outputs": [],
      "source": [
        "init_printing()\n",
        "\n",
        "# or with older versions of sympy/ipython, load the IPython extension\n",
        "#%load_ext sympy.interactive.ipythonprinting\n",
        "# or\n",
        "#%load_ext sympyprinting"
      ]
    },
    {
      "cell_type": "markdown",
      "source": [
        "##Partial fraction expansion of $\\frac{1}{s^2+a^2}$"
      ],
      "metadata": {
        "id": "7pRS7Ok9v4Sz"
      }
    },
    {
      "cell_type": "code",
      "source": [
        "zeta, omega_n = symbols(\"zeta,omega_n\", real=True)\n",
        "a, b =symbols('a, b', real=True)\n",
        "s, alpha=symbols('s, alpha', real=False)"
      ],
      "metadata": {
        "id": "F0d01OIe7fmP"
      },
      "execution_count": null,
      "outputs": []
    },
    {
      "cell_type": "code",
      "source": [
        "p=1/(s**2+a**2)"
      ],
      "metadata": {
        "id": "BALZ0b9WgYpN"
      },
      "execution_count": null,
      "outputs": []
    },
    {
      "cell_type": "markdown",
      "source": [
        "Let $\\frac{1}{s^+a^2}=\\frac{i\\alpha}{s+ia}-\\frac{i\\bar{\\alpha}}{s-ia}$"
      ],
      "metadata": {
        "id": "kf_mHy30wbxq"
      }
    },
    {
      "cell_type": "code",
      "source": [
        "p1=I*alpha/(s+I*a)-I*conjugate(alpha)/(s-I*a)"
      ],
      "metadata": {
        "id": "knXxPFgIglOq"
      },
      "execution_count": null,
      "outputs": []
    },
    {
      "cell_type": "code",
      "source": [
        "p1"
      ],
      "metadata": {
        "colab": {
          "base_uri": "https://localhost:8080/",
          "height": 53
        },
        "id": "4o2liMLcycAM",
        "outputId": "c6d61512-1ee6-40fc-d329-d4b47b0e72de"
      },
      "execution_count": null,
      "outputs": [
        {
          "output_type": "execute_result",
          "data": {
            "text/plain": [
              "              _   \n",
              "  ⅈ⋅α       ⅈ⋅α   \n",
              "─────── - ────────\n",
              "ⅈ⋅a + s   -ⅈ⋅a + s"
            ],
            "image/png": "[encoded data removed]",
            "text/latex": "$\\displaystyle \\frac{i \\alpha}{i a + s} - \\frac{i \\overline{\\alpha}}{- i a + s}$"
          },
          "metadata": {},
          "execution_count": 7
        }
      ]
    },
    {
      "cell_type": "markdown",
      "source": [
        "Multiply both sides by $(s+ia)(s-ia)$ then the right hand side is"
      ],
      "metadata": {
        "id": "81-WjObuweRz"
      }
    },
    {
      "cell_type": "code",
      "source": [
        "p2=I*alpha*(s-I*a)-I*conjugate(alpha)*(s+I*a)"
      ],
      "metadata": {
        "id": "6-VV9lBAjGLN"
      },
      "execution_count": null,
      "outputs": []
    },
    {
      "cell_type": "code",
      "source": [
        "p2"
      ],
      "metadata": {
        "colab": {
          "base_uri": "https://localhost:8080/",
          "height": 39
        },
        "id": "7Rz9c3VKyzqh",
        "outputId": "8dd0d5ef-65f0-4f0b-df68-155cb6edba46"
      },
      "execution_count": null,
      "outputs": [
        {
          "output_type": "execute_result",
          "data": {
            "text/plain": [
              "                             _\n",
              "ⅈ⋅α⋅(-ⅈ⋅a + s) - ⅈ⋅(ⅈ⋅a + s)⋅α"
            ],
            "image/png": "[encoded data removed]",
            "text/latex": "$\\displaystyle i \\alpha \\left(- i a + s\\right) - i \\left(i a + s\\right) \\overline{\\alpha}$"
          },
          "metadata": {},
          "execution_count": 10
        }
      ]
    },
    {
      "cell_type": "markdown",
      "source": [
        "Set $s=-ia$ and that gives $\\alpha$"
      ],
      "metadata": {
        "id": "rrlSDYJJwoiD"
      }
    },
    {
      "cell_type": "code",
      "source": [
        "p2.subs({s:-I*a})"
      ],
      "metadata": {
        "colab": {
          "base_uri": "https://localhost:8080/",
          "height": 39
        },
        "id": "kfDpIKzA2TkG",
        "outputId": "1b74f967-eb77-4589-b71b-ed445d55c107"
      },
      "execution_count": null,
      "outputs": [
        {
          "output_type": "execute_result",
          "data": {
            "text/plain": [
              "2⋅a⋅α"
            ],
            "image/png": "[encoded data removed]",
            "text/latex": "$\\displaystyle 2 a \\alpha$"
          },
          "metadata": {},
          "execution_count": 11
        }
      ]
    },
    {
      "cell_type": "code",
      "source": [
        "alpha=1/(2*a)"
      ],
      "metadata": {
        "id": "NB3nUFdXjfLu"
      },
      "execution_count": null,
      "outputs": []
    },
    {
      "cell_type": "markdown",
      "source": [
        "Verify that the answer is equla to 1"
      ],
      "metadata": {
        "id": "QcoDscjNwxD4"
      }
    },
    {
      "cell_type": "code",
      "source": [
        "simplify(I*alpha*(s-I*a)-I*conjugate(alpha)*(s+I*a))"
      ],
      "metadata": {
        "colab": {
          "base_uri": "https://localhost:8080/",
          "height": 37
        },
        "id": "H3XMP5EhvgLD",
        "outputId": "86db848c-71c0-43b0-ba73-d41dc9f05006"
      },
      "execution_count": null,
      "outputs": [
        {
          "output_type": "execute_result",
          "data": {
            "text/plain": [
              "1"
            ],
            "image/png": "[encoded data removed]",
            "text/latex": "$\\displaystyle 1$"
          },
          "metadata": {},
          "execution_count": 13
        }
      ]
    },
    {
      "cell_type": "markdown",
      "source": [
        "## Roots of the polynomial $s^2+2\\zeta\\omega_ns+\\omega_n^2$"
      ],
      "metadata": {
        "id": "DVFMyWISxRgd"
      }
    },
    {
      "cell_type": "code",
      "source": [
        "zeta, omega_n = symbols(\"zeta,omega_n\", real=True)\n",
        "a, b =symbols('a, b', real=True)\n",
        "s, alpha=symbols('s, alpha', real=False)"
      ],
      "metadata": {
        "id": "FjHbWsNaC2g0"
      },
      "execution_count": null,
      "outputs": []
    },
    {
      "cell_type": "code",
      "source": [
        "p=s**2+2*zeta*omega_n*s+omega_n**2"
      ],
      "metadata": {
        "id": "tPg1UTTZyEGf"
      },
      "execution_count": null,
      "outputs": []
    },
    {
      "cell_type": "code",
      "source": [
        "p"
      ],
      "metadata": {
        "colab": {
          "base_uri": "https://localhost:8080/",
          "height": 39
        },
        "id": "kFxH-rcC0Ucj",
        "outputId": "d660159d-481f-48e8-8bde-94f7836f53ef"
      },
      "execution_count": null,
      "outputs": [
        {
          "output_type": "execute_result",
          "data": {
            "text/plain": [
              "  2               2\n",
              "ωₙ  + 2⋅ωₙ⋅s⋅ζ + s "
            ],
            "image/png": "[encoded data removed]",
            "text/latex": "$\\displaystyle \\omega_{n}^{2} + 2 \\omega_{n} s \\zeta + s^{2}$"
          },
          "metadata": {},
          "execution_count": 7
        }
      ]
    },
    {
      "cell_type": "code",
      "source": [
        "rootsP=solve(p,s)"
      ],
      "metadata": {
        "id": "pNRe7ab7zleU"
      },
      "execution_count": null,
      "outputs": []
    },
    {
      "cell_type": "code",
      "source": [
        "rootsP"
      ],
      "metadata": {
        "colab": {
          "base_uri": "https://localhost:8080/",
          "height": 47
        },
        "id": "2gQjB_XZ0oxV",
        "outputId": "e5390c7d-7acc-48f0-ce5b-f5fd9e6c68f7"
      },
      "execution_count": null,
      "outputs": [
        {
          "output_type": "execute_result",
          "data": {
            "text/plain": [
              "⎡   ⎛        ________⎞      ⎛       ________⎞⎤\n",
              "⎢   ⎜       ╱  2     ⎟      ⎜      ╱  2     ⎟⎥\n",
              "⎣ωₙ⋅⎝-ζ + ╲╱  ζ  - 1 ⎠, -ωₙ⋅⎝ζ + ╲╱  ζ  - 1 ⎠⎦"
            ],
            "image/png": "[encoded data removed]",
            "text/latex": "$\\displaystyle \\left[ \\omega_{n} \\left(- \\zeta + \\sqrt{\\zeta^{2} - 1}\\right), \\  - \\omega_{n} \\left(\\zeta + \\sqrt{\\zeta^{2} - 1}\\right)\\right]$"
          },
          "metadata": {},
          "execution_count": 21
        }
      ]
    },
    {
      "cell_type": "code",
      "source": [
        "p1=rootsP[0]\n",
        "p2=rootsP[1]"
      ],
      "metadata": {
        "id": "wjgboMucDWMH"
      },
      "execution_count": null,
      "outputs": []
    },
    {
      "cell_type": "code",
      "source": [
        "p1"
      ],
      "metadata": {
        "colab": {
          "base_uri": "https://localhost:8080/",
          "height": 47
        },
        "id": "7M24usjXEBoO",
        "outputId": "e5bf1a30-b193-4aa6-ca4d-4806e8ba955e"
      },
      "execution_count": null,
      "outputs": [
        {
          "output_type": "execute_result",
          "data": {
            "text/plain": [
              "   ⎛        ________⎞\n",
              "   ⎜       ╱  2     ⎟\n",
              "ωₙ⋅⎝-ζ + ╲╱  ζ  - 1 ⎠"
            ],
            "image/png": "[encoded data removed]",
            "text/latex": "$\\displaystyle \\omega_{n} \\left(- \\zeta + \\sqrt{\\zeta^{2} - 1}\\right)$"
          },
          "metadata": {},
          "execution_count": 17
        }
      ]
    },
    {
      "cell_type": "code",
      "source": [
        "p1.subs({zeta:1.5,omega_n:1.2})"
      ],
      "metadata": {
        "colab": {
          "base_uri": "https://localhost:8080/",
          "height": 37
        },
        "id": "u8orQZ7rEG_N",
        "outputId": "c66d8919-a6d7-4382-b927-a8e844ba254a"
      },
      "execution_count": null,
      "outputs": [
        {
          "output_type": "execute_result",
          "data": {
            "text/plain": [
              "-0.458359213500126"
            ],
            "image/png": "[encoded data removed]",
            "text/latex": "$\\displaystyle -0.458359213500126$"
          },
          "metadata": {},
          "execution_count": 19
        }
      ]
    },
    {
      "cell_type": "markdown",
      "source": [
        "## Partial fraction expansion of $\\frac{1}{s^2+2\\zeta\\omega_ns+\\omega_n^2}=\\frac{i\\alpha}{s+p_1}-\\frac{i\\bar{\\alpha}}{s+\\bar{p}_1}$ for $0<\\zeta <1$"
      ],
      "metadata": {
        "id": "0HatpzLx5EGG"
      }
    },
    {
      "cell_type": "code",
      "source": [
        "zeta, omega_n = symbols(\"zeta,omega_n\", real=True)\n",
        "a, b =symbols('a, b', real=True)\n",
        "s, alpha=symbols('s, alpha', real=False)"
      ],
      "metadata": {
        "id": "wFQHxjTh7Ygi"
      },
      "execution_count": null,
      "outputs": []
    },
    {
      "cell_type": "code",
      "source": [
        "p3=I*alpha/(s+p1)-I*conjugate(alpha)/(s+p2)"
      ],
      "metadata": {
        "id": "VNyVpGwa5rHu"
      },
      "execution_count": null,
      "outputs": []
    },
    {
      "cell_type": "code",
      "source": [
        "p3"
      ],
      "metadata": {
        "colab": {
          "base_uri": "https://localhost:8080/",
          "height": 68
        },
        "id": "nfJc2ZWD6CJX",
        "outputId": "bd85cec7-5159-4946-e6b2-03e414f870de"
      },
      "execution_count": null,
      "outputs": [
        {
          "output_type": "execute_result",
          "data": {
            "text/plain": [
              "                                         _            \n",
              "           ⅈ⋅α                         ⅈ⋅α            \n",
              "───────────────────────── - ──────────────────────────\n",
              "   ⎛        ________⎞            ⎛       ________⎞    \n",
              "   ⎜       ╱  2     ⎟            ⎜      ╱  2     ⎟    \n",
              "ωₙ⋅⎝-ζ + ╲╱  ζ  - 1 ⎠ + s   - ωₙ⋅⎝ζ + ╲╱  ζ  - 1 ⎠ + s"
            ],
            "image/png": "[encoded data removed]",
            "text/latex": "$\\displaystyle \\frac{i \\alpha}{\\omega_{n} \\left(- \\zeta + \\sqrt{\\zeta^{2} - 1}\\right) + s} - \\frac{i \\overline{\\alpha}}{- \\omega_{n} \\left(\\zeta + \\sqrt{\\zeta^{2} - 1}\\right) + s}$"
          },
          "metadata": {},
          "execution_count": 26
        }
      ]
    },
    {
      "cell_type": "markdown",
      "source": [
        "Multiplying both sides by $(s+p_1)(s+\\bar{p}_1)$ we have"
      ],
      "metadata": {
        "id": "xdUcibly6I-b"
      }
    },
    {
      "cell_type": "code",
      "source": [
        "p4=I*alpha*(s+p2)-I*conjugate(alpha)*(s+p1)"
      ],
      "metadata": {
        "id": "ZJAf3mDi7wjE"
      },
      "execution_count": null,
      "outputs": []
    },
    {
      "cell_type": "code",
      "source": [
        "p4"
      ],
      "metadata": {
        "colab": {
          "base_uri": "https://localhost:8080/",
          "height": 47
        },
        "id": "qiWHlc8V8MF2",
        "outputId": "c6385491-3f7a-4581-bfea-5bf9c9e61f9f"
      },
      "execution_count": null,
      "outputs": [
        {
          "output_type": "execute_result",
          "data": {
            "text/plain": [
              "    ⎛     ⎛       ________⎞    ⎞     ⎛   ⎛        ________⎞    ⎞  \n",
              "    ⎜     ⎜      ╱  2     ⎟    ⎟     ⎜   ⎜       ╱  2     ⎟    ⎟ _\n",
              "ⅈ⋅α⋅⎝- ωₙ⋅⎝ζ + ╲╱  ζ  - 1 ⎠ + s⎠ - ⅈ⋅⎝ωₙ⋅⎝-ζ + ╲╱  ζ  - 1 ⎠ + s⎠⋅α"
            ],
            "image/png": "[encoded data removed]",
            "text/latex": "$\\displaystyle i \\alpha \\left(- \\omega_{n} \\left(\\zeta + \\sqrt{\\zeta^{2} - 1}\\right) + s\\right) - i \\left(\\omega_{n} \\left(- \\zeta + \\sqrt{\\zeta^{2} - 1}\\right) + s\\right) \\overline{\\alpha}$"
          },
          "metadata": {},
          "execution_count": 30
        }
      ]
    },
    {
      "cell_type": "markdown",
      "source": [
        "Substituting $s=-p_1$ we have"
      ],
      "metadata": {
        "id": "1fc-HhS08eTe"
      }
    },
    {
      "cell_type": "code",
      "source": [
        "simplify(p4.subs({s:-p1}))"
      ],
      "metadata": {
        "colab": {
          "base_uri": "https://localhost:8080/",
          "height": 40
        },
        "id": "Od70KAs-8XSx",
        "outputId": "a3cf9328-e984-4e6a-dce6-8b37409912e0"
      },
      "execution_count": null,
      "outputs": [
        {
          "output_type": "execute_result",
          "data": {
            "text/plain": [
              "             ________\n",
              "            ╱  2     \n",
              "-2⋅ⅈ⋅α⋅ωₙ⋅╲╱  ζ  - 1 "
            ],
            "image/png": "[encoded data removed]",
            "text/latex": "$\\displaystyle - 2 i \\alpha \\omega_{n} \\sqrt{\\zeta^{2} - 1}$"
          },
          "metadata": {},
          "execution_count": 32
        }
      ]
    },
    {
      "cell_type": "code",
      "source": [
        "alpha=1/(2*omega_n*sqrt(1-zeta**2))"
      ],
      "metadata": {
        "id": "8Z5nefEc8MvB"
      },
      "execution_count": null,
      "outputs": []
    },
    {
      "cell_type": "code",
      "source": [
        "alpha"
      ],
      "metadata": {
        "colab": {
          "base_uri": "https://localhost:8080/",
          "height": 59
        },
        "id": "wOH2eOm39KyP",
        "outputId": "660a47b6-9f14-436d-9853-576944d5abcc"
      },
      "execution_count": null,
      "outputs": [
        {
          "output_type": "execute_result",
          "data": {
            "text/plain": [
              "       1        \n",
              "────────────────\n",
              "        ________\n",
              "       ╱      2 \n",
              "2⋅ωₙ⋅╲╱  1 - ζ  "
            ],
            "image/png": "[encoded data removed]",
            "text/latex": "$\\displaystyle \\frac{1}{2 \\omega_{n} \\sqrt{1 - \\zeta^{2}}}$"
          },
          "metadata": {},
          "execution_count": 35
        }
      ]
    },
    {
      "cell_type": "code",
      "source": [
        "alpha.subs({zeta:0.9,omega_n:3.9})"
      ],
      "metadata": {
        "colab": {
          "base_uri": "https://localhost:8080/",
          "height": 37
        },
        "id": "riuAt1os9Ok0",
        "outputId": "1a6f9b4c-c9e2-4c39-e713-85dec53635ac"
      },
      "execution_count": null,
      "outputs": [
        {
          "output_type": "execute_result",
          "data": {
            "text/plain": [
              "0.294122735731490"
            ],
            "image/png": "[encoded data removed]",
            "text/latex": "$\\displaystyle 0.29412273573149$"
          },
          "metadata": {},
          "execution_count": 37
        }
      ]
    },
    {
      "cell_type": "code",
      "source": [],
      "metadata": {
        "id": "hXiqjK-m-NIp"
      },
      "execution_count": null,
      "outputs": []
    },
    {
      "cell_type": "markdown",
      "source": [
        "## Area of a paralellogram "
      ],
      "metadata": {
        "id": "XuqTA4z-AdJp"
      }
    },
    {
      "cell_type": "code",
      "source": [
        "import numpy as np"
      ],
      "metadata": {
        "id": "k40DFR6PBtct"
      },
      "execution_count": null,
      "outputs": []
    },
    {
      "cell_type": "code",
      "source": [
        "a, b, c, x, y, z =symbols('a, b, c, x, y, z', real=True)"
      ],
      "metadata": {
        "id": "39p_2fK0Aohx"
      },
      "execution_count": null,
      "outputs": []
    },
    {
      "cell_type": "code",
      "source": [
        "A=np.array([a,b,c])\n",
        "X=np.array([x,y,z])"
      ],
      "metadata": {
        "id": "YYlWAWsoA1hj"
      },
      "execution_count": null,
      "outputs": []
    },
    {
      "cell_type": "code",
      "source": [
        "AcrossX=np.cross(A,X)"
      ],
      "metadata": {
        "id": "J7DCyLN4Be7y"
      },
      "execution_count": null,
      "outputs": []
    },
    {
      "cell_type": "code",
      "source": [
        "Area=sqrt(AcrossX[0]**2+AcrossX[1]**2+AcrossX[2]**2)"
      ],
      "metadata": {
        "id": "gxf_G7cCCPHq"
      },
      "execution_count": null,
      "outputs": []
    },
    {
      "cell_type": "code",
      "source": [
        "Area.subs({a:1.8,b:1.7,c:0.4,x:-1.2,y:-0.1,z:0.6})"
      ],
      "metadata": {
        "colab": {
          "base_uri": "https://localhost:8080/",
          "height": 37
        },
        "id": "_HvAMxhLBgrK",
        "outputId": "577bed8d-ca1c-48de-fd70-86f71976d0f2"
      },
      "execution_count": null,
      "outputs": [
        {
          "output_type": "execute_result",
          "data": {
            "text/plain": [
              "2.64892430997943"
            ],
            "image/png": "[encoded data removed]",
            "text/latex": "$\\displaystyle 2.64892430997943$"
          },
          "metadata": {},
          "execution_count": 61
        }
      ]
    },
    {
      "cell_type": "markdown",
      "source": [
        "## Eigent values and Eigenvectors of a Matrix"
      ],
      "metadata": {
        "id": "D3bHhXXwD-TK"
      }
    },
    {
      "cell_type": "code",
      "source": [
        "zeta, omega_n = symbols(\"zeta,omega_n\", real=True)\n",
        "a, b =symbols('a, b', real=True)\n",
        "s, alpha=symbols('s, alpha', real=False)"
      ],
      "metadata": {
        "id": "QHJLUuSGEGlX"
      },
      "execution_count": null,
      "outputs": []
    },
    {
      "cell_type": "code",
      "source": [
        "A=Matrix([[0,1],[-omega_n**2, -2*zeta*omega_n]])"
      ],
      "metadata": {
        "id": "208r3FP1EH5P"
      },
      "execution_count": null,
      "outputs": []
    },
    {
      "cell_type": "code",
      "source": [
        "A.eigenvals()"
      ],
      "metadata": {
        "colab": {
          "base_uri": "https://localhost:8080/",
          "height": 47
        },
        "id": "BAFzj8qEEZMS",
        "outputId": "4a691d2f-38e8-4383-9294-0ecf1c8814fa"
      },
      "execution_count": null,
      "outputs": [
        {
          "output_type": "execute_result",
          "data": {
            "text/plain": [
              "⎧   ⎛       _________________⎞        ⎛       _________________⎞   ⎫\n",
              "⎨ωₙ⋅⎝-ζ - ╲╱ (ζ - 1)⋅(ζ + 1) ⎠: 1, ωₙ⋅⎝-ζ + ╲╱ (ζ - 1)⋅(ζ + 1) ⎠: 1⎬\n",
              "⎩                                                                  ⎭"
            ],
            "image/png": "[encoded data removed]",
            "text/latex": "$\\displaystyle \\left\\{ \\omega_{n} \\left(- \\zeta - \\sqrt{\\left(\\zeta - 1\\right) \\left(\\zeta + 1\\right)}\\right) : 1, \\  \\omega_{n} \\left(- \\zeta + \\sqrt{\\left(\\zeta - 1\\right) \\left(\\zeta + 1\\right)}\\right) : 1\\right\\}$"
          },
          "metadata": {},
          "execution_count": 65
        }
      ]
    },
    {
      "cell_type": "code",
      "source": [
        "[*A.eigenvals()]"
      ],
      "metadata": {
        "colab": {
          "base_uri": "https://localhost:8080/",
          "height": 47
        },
        "id": "ZHiA4vwKEu8t",
        "outputId": "171bca0f-2955-41ea-b046-0c88348157e9"
      },
      "execution_count": null,
      "outputs": [
        {
          "output_type": "execute_result",
          "data": {
            "text/plain": [
              "⎡   ⎛       _________________⎞     ⎛       _________________⎞⎤\n",
              "⎣ωₙ⋅⎝-ζ - ╲╱ (ζ - 1)⋅(ζ + 1) ⎠, ωₙ⋅⎝-ζ + ╲╱ (ζ - 1)⋅(ζ + 1) ⎠⎦"
            ],
            "image/png": "[encoded data removed]",
            "text/latex": "$\\displaystyle \\left[ \\omega_{n} \\left(- \\zeta - \\sqrt{\\left(\\zeta - 1\\right) \\left(\\zeta + 1\\right)}\\right), \\  \\omega_{n} \\left(- \\zeta + \\sqrt{\\left(\\zeta - 1\\right) \\left(\\zeta + 1\\right)}\\right)\\right]$"
          },
          "metadata": {},
          "execution_count": 67
        }
      ]
    },
    {
      "cell_type": "code",
      "source": [
        "latex([*A.eigenvals()][0])"
      ],
      "metadata": {
        "colab": {
          "base_uri": "https://localhost:8080/",
          "height": 35
        },
        "id": "O47aQ8-jEsL5",
        "outputId": "a77684a5-29c7-4fc6-da03-c495d2e79f36"
      },
      "execution_count": null,
      "outputs": [
        {
          "output_type": "execute_result",
          "data": {
            "text/plain": [
              "'\\\\omega_{n} \\\\left(- \\\\zeta - \\\\sqrt{\\\\left(\\\\zeta - 1\\\\right) \\\\left(\\\\zeta + 1\\\\right)}\\\\right)'"
            ],
            "application/vnd.google.colaboratory.intrinsic+json": {
              "type": "string"
            }
          },
          "metadata": {},
          "execution_count": 68
        }
      ]
    },
    {
      "cell_type": "code",
      "source": [
        "latex(A.eigenvects()[1])"
      ],
      "metadata": {
        "colab": {
          "base_uri": "https://localhost:8080/",
          "height": 53
        },
        "id": "5_M5rHPOEZlK",
        "outputId": "c46c958f-f0cc-4431-a66d-02942fc476d4"
      },
      "execution_count": null,
      "outputs": [
        {
          "output_type": "execute_result",
          "data": {
            "text/plain": [
              "'\\\\left( \\\\omega_{n} \\\\left(- \\\\zeta + \\\\sqrt{\\\\left(\\\\zeta - 1\\\\right) \\\\left(\\\\zeta + 1\\\\right)}\\\\right), \\\\  1, \\\\  \\\\left[ \\\\left[\\\\begin{matrix}\\\\frac{1}{- \\\\omega_{n} \\\\zeta + \\\\omega_{n} \\\\sqrt{\\\\zeta^{2} - 1}}\\\\\\\\1\\\\end{matrix}\\\\right]\\\\right]\\\\right)'"
            ],
            "application/vnd.google.colaboratory.intrinsic+json": {
              "type": "string"
            }
          },
          "metadata": {},
          "execution_count": 71
        }
      ]
    },
    {
      "cell_type": "code",
      "source": [],
      "metadata": {
        "id": "w3DTGSayEjUs"
      },
      "execution_count": null,
      "outputs": []
    }
  ],
  "metadata": {
    "kernelspec": {
      "display_name": "Python 2",
      "language": "python",
      "name": "python2"
    },
    "language_info": {
      "codemirror_mode": {
        "name": "ipython",
        "version": 2
      },
      "file_extension": ".py",
      "mimetype": "text/x-python",
      "name": "python",
      "nbconvert_exporter": "python",
      "pygments_lexer": "ipython2",
      "version": "2.7.10"
    },
    "colab": {
      "provenance": [],
      "include_colab_link": true
    }
  },
  "nbformat": 4,
  "nbformat_minor": 0
}