{
  "nbformat": 4,
  "nbformat_minor": 0,
  "metadata": {
    "colab": {
      "provenance": [],
      "include_colab_link": true
    },
    "kernelspec": {
      "name": "python3",
      "display_name": "Python 3"
    },
    "language_info": {
      "name": "python"
    }
  },
  "cells": [
    {
      "cell_type": "markdown",
      "metadata": {
        "id": "view-in-github",
        "colab_type": "text"
      },
      "source": [
        "<a href=\"https://colab.research.google.com/github/mugalan/lessons/blob/main/mechanics/answers-to-selected-assignments/Sample_Answers_Getting_Started_Skill_Assessment_Quiz.ipynb\" target=\"_parent\"><img src=\"https://colab.research.google.com/assets/colab-badge.svg\" alt=\"Open In Colab\"/></a>"
      ]
    },
    {
      "cell_type": "markdown",
      "source": [
        "# **Importing Modules**"
      ],
      "metadata": {
        "id": "UefxrCbaxZzT"
      }
    },
    {
      "cell_type": "markdown",
      "source": [
        "#### Acknowledgement\n",
        "\n",
        "Sample answer based on the answer by E/19/251"
      ],
      "metadata": {
        "id": "acrBHZSzc0a-"
      }
    },
    {
      "cell_type": "code",
      "source": [
        "from sympy import *"
      ],
      "metadata": {
        "id": "-blsioSwdA3R"
      },
      "execution_count": 1,
      "outputs": []
    },
    {
      "cell_type": "markdown",
      "source": [
        "# ***Question 1***"
      ],
      "metadata": {
        "id": "IF7WdIvYw9Nh"
      }
    },
    {
      "cell_type": "code",
      "execution_count": 2,
      "metadata": {
        "id": "zfF87UoAw3FM"
      },
      "outputs": [],
      "source": [
        "s = symbols('s')"
      ]
    },
    {
      "cell_type": "code",
      "source": [
        "f1 = 1/(s**2 + 1.7**2)"
      ],
      "metadata": {
        "id": "BiquKEpTxIXp"
      },
      "execution_count": 3,
      "outputs": []
    },
    {
      "cell_type": "code",
      "source": [
        "apart(f1, full=True).doit()"
      ],
      "metadata": {
        "colab": {
          "base_uri": "https://localhost:8080/",
          "height": 53
        },
        "id": "Hgr4CRyaxLHG",
        "outputId": "5519a949-df17-459e-9576-18ddf10413ff"
      },
      "execution_count": 4,
      "outputs": [
        {
          "output_type": "execute_result",
          "data": {
            "text/plain": [
              "0.294117647058824*I/(s + 1.7*I) - 0.294117647058824*I/(s - 1.7*I)"
            ],
            "text/latex": "$\\displaystyle \\frac{0.294117647058824 i}{s + 1.7 i} - \\frac{0.294117647058824 i}{s - 1.7 i}$"
          },
          "metadata": {},
          "execution_count": 4
        }
      ]
    },
    {
      "cell_type": "markdown",
      "source": [
        "# ***Question 2***"
      ],
      "metadata": {
        "id": "cC0LF-GSxnFU"
      }
    },
    {
      "cell_type": "code",
      "source": [
        "x, omega_n , zeta = symbols('x omega_n zeta', real=True)"
      ],
      "metadata": {
        "id": "wceZRtiWxqa5"
      },
      "execution_count": 5,
      "outputs": []
    },
    {
      "cell_type": "code",
      "source": [
        "f = x**2 + 2*zeta*omega_n*x + omega_n**2\n",
        "f"
      ],
      "metadata": {
        "colab": {
          "base_uri": "https://localhost:8080/",
          "height": 39
        },
        "id": "DBiAiJSNx17w",
        "outputId": "5092b073-7ef5-4908-b66a-e5fdde9a6536"
      },
      "execution_count": 6,
      "outputs": [
        {
          "output_type": "execute_result",
          "data": {
            "text/plain": [
              "omega_n**2 + 2*omega_n*x*zeta + x**2"
            ],
            "text/latex": "$\\displaystyle \\omega_{n}^{2} + 2 \\omega_{n} x \\zeta + x^{2}$"
          },
          "metadata": {},
          "execution_count": 6
        }
      ]
    },
    {
      "cell_type": "code",
      "source": [
        "fx = f.subs({zeta:1.7, omega_n:1.9})\n",
        "fx"
      ],
      "metadata": {
        "id": "buY9kDMAx3R1",
        "colab": {
          "base_uri": "https://localhost:8080/",
          "height": 39
        },
        "outputId": "6dafb38a-8d2d-4b69-af45-786d69880188"
      },
      "execution_count": 8,
      "outputs": [
        {
          "output_type": "execute_result",
          "data": {
            "text/plain": [
              "x**2 + 6.46*x + 3.61"
            ],
            "text/latex": "$\\displaystyle x^{2} + 6.46 x + 3.61$"
          },
          "metadata": {},
          "execution_count": 8
        }
      ]
    },
    {
      "cell_type": "code",
      "source": [
        "solve(fx,x)"
      ],
      "metadata": {
        "colab": {
          "base_uri": "https://localhost:8080/"
        },
        "id": "Upy4dPQmx_TN",
        "outputId": "11b5acd0-f64c-4e4d-f4a8-ab22c20841e3"
      },
      "execution_count": 9,
      "outputs": [
        {
          "output_type": "execute_result",
          "data": {
            "text/plain": [
              "[-5.84206814612483, -0.617931853875171]"
            ]
          },
          "metadata": {},
          "execution_count": 9
        }
      ]
    },
    {
      "cell_type": "markdown",
      "source": [
        "# ***Question 3***"
      ],
      "metadata": {
        "id": "BHiOYBODyTDm"
      }
    },
    {
      "cell_type": "code",
      "source": [
        "s = symbols('s')"
      ],
      "metadata": {
        "id": "0ad27F7Syl-G"
      },
      "execution_count": 10,
      "outputs": []
    },
    {
      "cell_type": "code",
      "source": [
        "omega_n , zeta = symbols('omega_n zeta', real=True)\n",
        "G = 1/(s**2 + (2*zeta*omega_n*s) + (omega_n**2))\n",
        "G"
      ],
      "metadata": {
        "colab": {
          "base_uri": "https://localhost:8080/",
          "height": 55
        },
        "id": "d7tXPyCqyVz4",
        "outputId": "d490a347-88c0-4d4c-d69d-c29198c9521b"
      },
      "execution_count": 11,
      "outputs": [
        {
          "output_type": "execute_result",
          "data": {
            "text/plain": [
              "1/(omega_n**2 + 2*omega_n*s*zeta + s**2)"
            ],
            "text/latex": "$\\displaystyle \\frac{1}{\\omega_{n}^{2} + 2 \\omega_{n} s \\zeta + s^{2}}$"
          },
          "metadata": {},
          "execution_count": 11
        }
      ]
    },
    {
      "cell_type": "code",
      "source": [
        "Gs = G.subs({zeta:0.9,omega_n:1.1})\n",
        "Gs"
      ],
      "metadata": {
        "colab": {
          "base_uri": "https://localhost:8080/",
          "height": 52
        },
        "id": "eHSI6LlSynRp",
        "outputId": "a1bc6dc1-a2f3-43a0-9700-4145237d8cad"
      },
      "execution_count": 12,
      "outputs": [
        {
          "output_type": "execute_result",
          "data": {
            "text/plain": [
              "1/(s**2 + 1.98*s + 1.21)"
            ],
            "text/latex": "$\\displaystyle \\frac{1}{s^{2} + 1.98 s + 1.21}$"
          },
          "metadata": {},
          "execution_count": 12
        }
      ]
    },
    {
      "cell_type": "code",
      "source": [
        "apart(Gs, full=True).doit()"
      ],
      "metadata": {
        "colab": {
          "base_uri": "https://localhost:8080/",
          "height": 53
        },
        "id": "rLGiBsQ6y5ib",
        "outputId": "8d957cc3-183e-46ca-8767-0b76c679941b"
      },
      "execution_count": 13,
      "outputs": [
        {
          "output_type": "execute_result",
          "data": {
            "text/plain": [
              "1.04279879032074*I/(s + 0.99 + 0.479478883789474*I) - 1.04279879032074*I/(s + 0.99 - 0.479478883789474*I)"
            ],
            "text/latex": "$\\displaystyle \\frac{1.04279879032074 i}{s + 0.99 + 0.479478883789474 i} - \\frac{1.04279879032074 i}{s + 0.99 - 0.479478883789474 i}$"
          },
          "metadata": {},
          "execution_count": 13
        }
      ]
    },
    {
      "cell_type": "markdown",
      "source": [
        "# ***Question 4***"
      ],
      "metadata": {
        "id": "VXZPJaxjy86f"
      }
    },
    {
      "cell_type": "code",
      "source": [
        "from sympy.vector import CoordSys3D\n",
        "N = CoordSys3D('N')"
      ],
      "metadata": {
        "id": "QR0PFXMvzGMv"
      },
      "execution_count": 14,
      "outputs": []
    },
    {
      "cell_type": "code",
      "source": [
        "A = -0.9*N.i + 1.1* N.j - 0.3*N.k\n",
        "B = 0.1*N.i -1.5*N.j - 0.3*N.k"
      ],
      "metadata": {
        "id": "g_hkdonbzTVM"
      },
      "execution_count": 15,
      "outputs": []
    },
    {
      "cell_type": "code",
      "source": [
        "A.cross(B).magnitude()"
      ],
      "metadata": {
        "colab": {
          "base_uri": "https://localhost:8080/",
          "height": 37
        },
        "id": "cM7CacdwzboF",
        "outputId": "016ec34d-4d4a-4c17-82c9-e920ac93e49b"
      },
      "execution_count": 16,
      "outputs": [
        {
          "output_type": "execute_result",
          "data": {
            "text/plain": [
              "1.49532605140150"
            ],
            "text/latex": "$\\displaystyle 1.4953260514015$"
          },
          "metadata": {},
          "execution_count": 16
        }
      ]
    },
    {
      "cell_type": "markdown",
      "source": [
        "# ***Question 5***"
      ],
      "metadata": {
        "id": "xkwhFHUVSiwC"
      }
    },
    {
      "cell_type": "code",
      "source": [
        "omega_n , zeta = symbols('omega_n zeta', real=True)\n",
        "E = Matrix([[0,1],[-omega_n**2, -2*zeta*omega_n]])\n",
        "E"
      ],
      "metadata": {
        "colab": {
          "base_uri": "https://localhost:8080/",
          "height": 58
        },
        "id": "GNBhdk-JSm65",
        "outputId": "0e44bb83-0f31-468e-8efb-10fc469548d7"
      },
      "execution_count": 17,
      "outputs": [
        {
          "output_type": "execute_result",
          "data": {
            "text/plain": [
              "Matrix([\n",
              "[          0,               1],\n",
              "[-omega_n**2, -2*omega_n*zeta]])"
            ],
            "text/latex": "$\\displaystyle \\left[\\begin{matrix}0 & 1\\\\- \\omega_{n}^{2} & - 2 \\omega_{n} \\zeta\\end{matrix}\\right]$"
          },
          "metadata": {},
          "execution_count": 17
        }
      ]
    },
    {
      "cell_type": "code",
      "source": [
        "#init_printing()\n",
        "latex(E.eigenvects())"
      ],
      "metadata": {
        "colab": {
          "base_uri": "https://localhost:8080/",
          "height": 87
        },
        "id": "I3I417FLTMD3",
        "outputId": "5bd001bf-d1cb-4773-eed5-66da2e27d996"
      },
      "execution_count": 19,
      "outputs": [
        {
          "output_type": "execute_result",
          "data": {
            "text/plain": [
              "'\\\\left[ \\\\left( \\\\omega_{n} \\\\left(- \\\\zeta - \\\\sqrt{\\\\left(\\\\zeta - 1\\\\right) \\\\left(\\\\zeta + 1\\\\right)}\\\\right), \\\\  1, \\\\  \\\\left[ \\\\left[\\\\begin{matrix}\\\\frac{1}{- \\\\omega_{n} \\\\zeta - \\\\omega_{n} \\\\sqrt{\\\\zeta^{2} - 1}}\\\\\\\\1\\\\end{matrix}\\\\right]\\\\right]\\\\right), \\\\  \\\\left( \\\\omega_{n} \\\\left(- \\\\zeta + \\\\sqrt{\\\\left(\\\\zeta - 1\\\\right) \\\\left(\\\\zeta + 1\\\\right)}\\\\right), \\\\  1, \\\\  \\\\left[ \\\\left[\\\\begin{matrix}\\\\frac{1}{- \\\\omega_{n} \\\\zeta + \\\\omega_{n} \\\\sqrt{\\\\zeta^{2} - 1}}\\\\\\\\1\\\\end{matrix}\\\\right]\\\\right]\\\\right)\\\\right]'"
            ],
            "application/vnd.google.colaboratory.intrinsic+json": {
              "type": "string"
            }
          },
          "metadata": {},
          "execution_count": 19
        }
      ]
    },
    {
      "cell_type": "markdown",
      "source": [
        "$\\left[ \\left( \\omega_{n} \\left(- \\zeta - \\sqrt{\\left(\\zeta - 1\\right) \\left(\\zeta + 1\\right)}\\right), \\  \\left[ \\left[\\begin{matrix}\\frac{1}{- \\omega_{n} \\zeta - \\omega_{n} \\sqrt{\\zeta^{2} - 1}}\\\\1\\end{matrix}\\right]\\right]\\right), \\  \\left( \\omega_{n} \\left(- \\zeta + \\sqrt{\\left(\\zeta - 1\\right) \\left(\\zeta + 1\\right)}\\right),\\  \\left[ \\left[\\begin{matrix}\\frac{1}{- \\omega_{n} \\zeta + \\omega_{n} \\sqrt{\\zeta^{2} - 1}}\\\\1\\end{matrix}\\right]\\right]\\right)\\right]$"
      ],
      "metadata": {
        "id": "iP_bo___3F8f"
      }
    },
    {
      "cell_type": "markdown",
      "source": [
        "\\(\\left[ \\left( \\omega_{n} \\left(- \\zeta - \\sqrt{\\left(\\zeta - 1\\right) \\left(\\zeta + 1\\right)}\\right), \\  1, \\  \\left[ \\left[\\begin{matrix}\\frac{1}{- \\omega_{n} \\zeta - \\omega_{n} \\sqrt{\\zeta^{2} - 1}}\\\\1\\end{matrix}\\right]\\right]\\right), \\  \\left( \\omega_{n} \\left(- \\zeta + \\sqrt{\\left(\\zeta - 1\\right) \\left(\\zeta + 1\\right)}\\right), \\  1, \\  \\left[ \\left[\\begin{matrix}\\frac{1}{- \\omega_{n} \\zeta + \\omega_{n} \\sqrt{\\zeta^{2} - 1}}\\\\1\\end{matrix}\\right]\\right]\\right)\\right]\\)"
      ],
      "metadata": {
        "id": "aYc1iV58uNfu"
      }
    }
  ]
}