{
  "nbformat": 4,
  "nbformat_minor": 0,
  "metadata": {
    "colab": {
      "provenance": [],
      "include_colab_link": true
    },
    "kernelspec": {
      "name": "python3",
      "display_name": "Python 3"
    },
    "language_info": {
      "name": "python"
    }
  },
  "cells": [
    {
      "cell_type": "markdown",
      "metadata": {
        "id": "view-in-github",
        "colab_type": "text"
      },
      "source": [
        "<a href=\"https://colab.research.google.com/github/mugalan/lessons/blob/main/mechanics/answers-to-selected-assignments/Sample_Answers_Skill_Assessment_Quiz.ipynb\" target=\"_parent\"><img src=\"https://colab.research.google.com/assets/colab-badge.svg\" alt=\"Open In Colab\"/></a>"
      ]
    },
    {
      "cell_type": "markdown",
      "source": [
        "# **Importing Modules**"
      ],
      "metadata": {
        "id": "UefxrCbaxZzT"
      }
    },
    {
      "cell_type": "markdown",
      "source": [
        "#### Acknowledgement\n",
        "\n",
        "Sample answer based on the answer by E/19/251"
      ],
      "metadata": {
        "id": "acrBHZSzc0a-"
      }
    },
    {
      "cell_type": "code",
      "source": [
        "from sympy import *"
      ],
      "metadata": {
        "id": "-blsioSwdA3R"
      },
      "execution_count": 5,
      "outputs": []
    },
    {
      "cell_type": "markdown",
      "source": [
        "# ***Question 1***"
      ],
      "metadata": {
        "id": "IF7WdIvYw9Nh"
      }
    },
    {
      "cell_type": "code",
      "execution_count": 6,
      "metadata": {
        "id": "zfF87UoAw3FM"
      },
      "outputs": [],
      "source": [
        "s = symbols('s')"
      ]
    },
    {
      "cell_type": "code",
      "source": [
        "f1 = 1/(s**2 + 1.7**2)"
      ],
      "metadata": {
        "id": "BiquKEpTxIXp"
      },
      "execution_count": 7,
      "outputs": []
    },
    {
      "cell_type": "code",
      "source": [
        "smp.apart(f1, full=True).doit()"
      ],
      "metadata": {
        "colab": {
          "base_uri": "https://localhost:8080/",
          "height": 53
        },
        "id": "Hgr4CRyaxLHG",
        "outputId": "ea71b940-0bf7-4e32-a723-6c179833f2b1"
      },
      "execution_count": 8,
      "outputs": [
        {
          "output_type": "execute_result",
          "data": {
            "text/plain": [
              "0.294117647058824*I/(s + 1.7*I) - 0.294117647058824*I/(s - 1.7*I)"
            ],
            "text/latex": "$\\displaystyle \\frac{0.294117647058824 i}{s + 1.7 i} - \\frac{0.294117647058824 i}{s - 1.7 i}$"
          },
          "metadata": {},
          "execution_count": 8
        }
      ]
    },
    {
      "cell_type": "markdown",
      "source": [
        "# ***Question 2***"
      ],
      "metadata": {
        "id": "cC0LF-GSxnFU"
      }
    },
    {
      "cell_type": "code",
      "source": [
        "x, omega_n , zeta = symbols('x omega_n zeta', real=True)"
      ],
      "metadata": {
        "id": "wceZRtiWxqa5"
      },
      "execution_count": 9,
      "outputs": []
    },
    {
      "cell_type": "code",
      "source": [
        "f = x**2 + 2*zeta*omega_n*x + omega_n**2\n",
        "f"
      ],
      "metadata": {
        "colab": {
          "base_uri": "https://localhost:8080/",
          "height": 39
        },
        "id": "DBiAiJSNx17w",
        "outputId": "b937a67c-33ba-4c54-8892-eda658819f91"
      },
      "execution_count": 10,
      "outputs": [
        {
          "output_type": "execute_result",
          "data": {
            "text/plain": [
              "omega_n**2 + 2*omega_n*x*zeta + x**2"
            ],
            "text/latex": "$\\displaystyle \\omega_{n}^{2} + 2 \\omega_{n} x \\zeta + x^{2}$"
          },
          "metadata": {},
          "execution_count": 10
        }
      ]
    },
    {
      "cell_type": "code",
      "source": [
        "fx = f.subs([(zeta,1.7), (omega_n, 1.9)])\n",
        "fx"
      ],
      "metadata": {
        "id": "buY9kDMAx3R1",
        "colab": {
          "base_uri": "https://localhost:8080/",
          "height": 39
        },
        "outputId": "1e384976-baba-411f-a9a4-b9ea23e060f4"
      },
      "execution_count": 11,
      "outputs": [
        {
          "output_type": "execute_result",
          "data": {
            "text/plain": [
              "x**2 + 6.46*x + 3.61"
            ],
            "text/latex": "$\\displaystyle x^{2} + 6.46 x + 3.61$"
          },
          "metadata": {},
          "execution_count": 11
        }
      ]
    },
    {
      "cell_type": "code",
      "source": [
        "solve(fx,x)"
      ],
      "metadata": {
        "colab": {
          "base_uri": "https://localhost:8080/"
        },
        "id": "Upy4dPQmx_TN",
        "outputId": "95d520f8-f4ef-4f96-b0c7-cca39a5c52fd"
      },
      "execution_count": 12,
      "outputs": [
        {
          "output_type": "execute_result",
          "data": {
            "text/plain": [
              "[-5.84206814612483, -0.617931853875171]"
            ]
          },
          "metadata": {},
          "execution_count": 12
        }
      ]
    },
    {
      "cell_type": "markdown",
      "source": [
        "# ***Question 3***"
      ],
      "metadata": {
        "id": "BHiOYBODyTDm"
      }
    },
    {
      "cell_type": "code",
      "source": [
        "s = symbols('s')"
      ],
      "metadata": {
        "id": "0ad27F7Syl-G"
      },
      "execution_count": 13,
      "outputs": []
    },
    {
      "cell_type": "code",
      "source": [
        "omega_n , zeta = smp.symbols('omega_n zeta', real=True)\n",
        "G = 1/(s**2 + (2*zeta*omega_n*s) + (omega_n**2))\n",
        "G"
      ],
      "metadata": {
        "colab": {
          "base_uri": "https://localhost:8080/",
          "height": 55
        },
        "id": "d7tXPyCqyVz4",
        "outputId": "e1d5d5e6-8784-49d2-f568-d44011eb0015"
      },
      "execution_count": 14,
      "outputs": [
        {
          "output_type": "execute_result",
          "data": {
            "text/plain": [
              "1/(omega_n**2 + 2*omega_n*s*zeta + s**2)"
            ],
            "text/latex": "$\\displaystyle \\frac{1}{\\omega_{n}^{2} + 2 \\omega_{n} s \\zeta + s^{2}}$"
          },
          "metadata": {},
          "execution_count": 14
        }
      ]
    },
    {
      "cell_type": "code",
      "source": [
        "Gs = G.subs({zeta:0.9,omega_n:1.1})\n",
        "Gs"
      ],
      "metadata": {
        "colab": {
          "base_uri": "https://localhost:8080/",
          "height": 52
        },
        "id": "eHSI6LlSynRp",
        "outputId": "c4daaffa-d7a2-4619-bd6e-83ef7936ef46"
      },
      "execution_count": 15,
      "outputs": [
        {
          "output_type": "execute_result",
          "data": {
            "text/plain": [
              "1/(s**2 + 1.98*s + 1.21)"
            ],
            "text/latex": "$\\displaystyle \\frac{1}{s^{2} + 1.98 s + 1.21}$"
          },
          "metadata": {},
          "execution_count": 15
        }
      ]
    },
    {
      "cell_type": "code",
      "source": [
        "apart(Gs, full=True).doit()"
      ],
      "metadata": {
        "colab": {
          "base_uri": "https://localhost:8080/",
          "height": 53
        },
        "id": "rLGiBsQ6y5ib",
        "outputId": "59f6054d-4f97-496b-feb6-5a8c984f8ae1"
      },
      "execution_count": 16,
      "outputs": [
        {
          "output_type": "execute_result",
          "data": {
            "text/plain": [
              "1.04279879032074*I/(s + 0.99 + 0.479478883789474*I) - 1.04279879032074*I/(s + 0.99 - 0.479478883789474*I)"
            ],
            "text/latex": "$\\displaystyle \\frac{1.04279879032074 i}{s + 0.99 + 0.479478883789474 i} - \\frac{1.04279879032074 i}{s + 0.99 - 0.479478883789474 i}$"
          },
          "metadata": {},
          "execution_count": 16
        }
      ]
    },
    {
      "cell_type": "markdown",
      "source": [
        "# ***Question 4***"
      ],
      "metadata": {
        "id": "VXZPJaxjy86f"
      }
    },
    {
      "cell_type": "code",
      "source": [
        "from sympy.vector import CoordSys3D\n",
        "N = CoordSys3D('N')"
      ],
      "metadata": {
        "id": "QR0PFXMvzGMv"
      },
      "execution_count": 20,
      "outputs": []
    },
    {
      "cell_type": "code",
      "source": [
        "A = -0.9*N.i + 1.1* N.j - 0.3*N.k\n",
        "B = 0.1*N.i -1.5*N.j - 0.3*N.k"
      ],
      "metadata": {
        "id": "g_hkdonbzTVM"
      },
      "execution_count": 21,
      "outputs": []
    },
    {
      "cell_type": "code",
      "source": [
        "A.cross(B).magnitude()"
      ],
      "metadata": {
        "colab": {
          "base_uri": "https://localhost:8080/",
          "height": 37
        },
        "id": "cM7CacdwzboF",
        "outputId": "08cf78c5-4481-40fa-a709-9715bac450e0"
      },
      "execution_count": 22,
      "outputs": [
        {
          "output_type": "execute_result",
          "data": {
            "text/plain": [
              "1.49532605140150"
            ],
            "text/latex": "$\\displaystyle 1.4953260514015$"
          },
          "metadata": {},
          "execution_count": 22
        }
      ]
    },
    {
      "cell_type": "markdown",
      "source": [
        "# ***Question 5***"
      ],
      "metadata": {
        "id": "xkwhFHUVSiwC"
      }
    },
    {
      "cell_type": "code",
      "source": [
        "omega_n , zeta = symbols('omega_n zeta', real=True)\n",
        "E = Matrix([[0,1],[-omega_n**2, -2*zeta*omega_n]])\n",
        "E"
      ],
      "metadata": {
        "colab": {
          "base_uri": "https://localhost:8080/",
          "height": 58
        },
        "id": "GNBhdk-JSm65",
        "outputId": "d78fdf29-f592-4c86-a0be-711159e8bf21"
      },
      "execution_count": 26,
      "outputs": [
        {
          "output_type": "execute_result",
          "data": {
            "text/plain": [
              "Matrix([\n",
              "[          0,               1],\n",
              "[-omega_n**2, -2*omega_n*zeta]])"
            ],
            "text/latex": "$\\displaystyle \\left[\\begin{matrix}0 & 1\\\\- \\omega_{n}^{2} & - 2 \\omega_{n} \\zeta\\end{matrix}\\right]$"
          },
          "metadata": {},
          "execution_count": 26
        }
      ]
    },
    {
      "cell_type": "code",
      "source": [
        "init_printing()\n",
        "latex(E.eigenvects())"
      ],
      "metadata": {
        "colab": {
          "base_uri": "https://localhost:8080/",
          "height": 87
        },
        "id": "I3I417FLTMD3",
        "outputId": "82e1a1e0-d6ed-430e-dd1d-2e0036473c1a"
      },
      "execution_count": 27,
      "outputs": [
        {
          "output_type": "execute_result",
          "data": {
            "text/plain": [
              "'\\\\left[ \\\\left( \\\\omega_{n} \\\\left(- \\\\zeta - \\\\sqrt{\\\\left(\\\\zeta - 1\\\\right) \\\\left(\\\\zeta + 1\\\\right)}\\\\right), \\\\  1, \\\\  \\\\left[ \\\\left[\\\\begin{matrix}\\\\frac{1}{- \\\\omega_{n} \\\\zeta - \\\\omega_{n} \\\\sqrt{\\\\zeta^{2} - 1}}\\\\\\\\1\\\\end{matrix}\\\\right]\\\\right]\\\\right), \\\\  \\\\left( \\\\omega_{n} \\\\left(- \\\\zeta + \\\\sqrt{\\\\left(\\\\zeta - 1\\\\right) \\\\left(\\\\zeta + 1\\\\right)}\\\\right), \\\\  1, \\\\  \\\\left[ \\\\left[\\\\begin{matrix}\\\\frac{1}{- \\\\omega_{n} \\\\zeta + \\\\omega_{n} \\\\sqrt{\\\\zeta^{2} - 1}}\\\\\\\\1\\\\end{matrix}\\\\right]\\\\right]\\\\right)\\\\right]'"
            ],
            "application/vnd.google.colaboratory.intrinsic+json": {
              "type": "string"
            }
          },
          "metadata": {},
          "execution_count": 27
        }
      ]
    },
    {
      "cell_type": "markdown",
      "source": [
        "$\\left[ \\left( \\omega_{n} \\left(- \\zeta - \\sqrt{\\left(\\zeta - 1\\right) \\left(\\zeta + 1\\right)}\\right), \\  \\left[ \\left[\\begin{matrix}\\frac{1}{- \\omega_{n} \\zeta - \\omega_{n} \\sqrt{\\zeta^{2} - 1}}\\\\1\\end{matrix}\\right]\\right]\\right), \\  \\left( \\omega_{n} \\left(- \\zeta + \\sqrt{\\left(\\zeta - 1\\right) \\left(\\zeta + 1\\right)}\\right),\\  \\left[ \\left[\\begin{matrix}\\frac{1}{- \\omega_{n} \\zeta + \\omega_{n} \\sqrt{\\zeta^{2} - 1}}\\\\1\\end{matrix}\\right]\\right]\\right)\\right]$"
      ],
      "metadata": {
        "id": "iP_bo___3F8f"
      }
    }
  ]
}