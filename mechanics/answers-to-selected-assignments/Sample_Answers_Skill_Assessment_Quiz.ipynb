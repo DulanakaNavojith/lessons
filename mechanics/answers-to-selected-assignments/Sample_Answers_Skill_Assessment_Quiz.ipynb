{
  "nbformat": 4,
  "nbformat_minor": 0,
  "metadata": {
    "colab": {
      "provenance": [],
      "include_colab_link": true
    },
    "kernelspec": {
      "name": "python3",
      "display_name": "Python 3"
    },
    "language_info": {
      "name": "python"
    }
  },
  "cells": [
    {
      "cell_type": "markdown",
      "metadata": {
        "id": "view-in-github",
        "colab_type": "text"
      },
      "source": [
        "<a href=\"https://colab.research.google.com/github/mugalan/lessons/blob/main/mechanics/answers-to-selected-assignments/Sample_Answers_Skill_Assessment_Quiz.ipynb\" target=\"_parent\"><img src=\"https://colab.research.google.com/assets/colab-badge.svg\" alt=\"Open In Colab\"/></a>"
      ]
    },
    {
      "cell_type": "markdown",
      "source": [
        "# **Importing Modules**"
      ],
      "metadata": {
        "id": "UefxrCbaxZzT"
      }
    },
    {
      "cell_type": "code",
      "source": [
        "!pip install latexify-py"
      ],
      "metadata": {
        "colab": {
          "base_uri": "https://localhost:8080/"
        },
        "id": "C50rN3OVVPuY",
        "outputId": "e7093feb-31d0-48f5-e6dd-916443e17f94"
      },
      "execution_count": null,
      "outputs": [
        {
          "output_type": "stream",
          "name": "stdout",
          "text": [
            "Looking in indexes: https://pypi.org/simple, https://us-python.pkg.dev/colab-wheels/public/simple/\n",
            "Collecting latexify-py\n",
            "  Downloading latexify_py-0.0.7-py3-none-any.whl (9.0 kB)\n",
            "Requirement already satisfied: dill>=0.3.2 in /usr/local/lib/python3.7/dist-packages (from latexify-py) (0.3.5.1)\n",
            "Installing collected packages: latexify-py\n",
            "Successfully installed latexify-py-0.0.7\n"
          ]
        }
      ]
    },
    {
      "cell_type": "code",
      "source": [
        "import sympy as smp\n",
        "import latexify"
      ],
      "metadata": {
        "id": "EIo-yA0mxYR6"
      },
      "execution_count": null,
      "outputs": []
    },
    {
      "cell_type": "code",
      "source": [
        "@latexify.with_latex\n",
        "def smp2ltx(text):\n",
        "  return text"
      ],
      "metadata": {
        "id": "BMVKcWXCVNP2"
      },
      "execution_count": null,
      "outputs": []
    },
    {
      "cell_type": "markdown",
      "source": [
        "# ***Question 1***"
      ],
      "metadata": {
        "id": "IF7WdIvYw9Nh"
      }
    },
    {
      "cell_type": "code",
      "execution_count": null,
      "metadata": {
        "id": "zfF87UoAw3FM"
      },
      "outputs": [],
      "source": [
        "s = smp.symbols('s')"
      ]
    },
    {
      "cell_type": "code",
      "source": [
        "f1 = 1/(s**2 + 1.7**2)"
      ],
      "metadata": {
        "id": "BiquKEpTxIXp"
      },
      "execution_count": null,
      "outputs": []
    },
    {
      "cell_type": "code",
      "source": [
        "smp.apart(f1, full=True).doit()"
      ],
      "metadata": {
        "colab": {
          "base_uri": "https://localhost:8080/",
          "height": 53
        },
        "id": "Hgr4CRyaxLHG",
        "outputId": "d262c0c2-6694-42cb-ea30-572f078df0dc"
      },
      "execution_count": null,
      "outputs": [
        {
          "output_type": "execute_result",
          "data": {
            "text/plain": [
              "0.294117647058824⋅ⅈ   0.294117647058824⋅ⅈ\n",
              "─────────────────── - ───────────────────\n",
              "     s + 1.7⋅ⅈ             s - 1.7⋅ⅈ     "
            ],
            "image/png": "[encoded data removed]",
            "text/latex": "$\\displaystyle \\frac{0.294117647058824 i}{s + 1.7 i} - \\frac{0.294117647058824 i}{s - 1.7 i}$"
          },
          "metadata": {},
          "execution_count": 38
        }
      ]
    },
    {
      "cell_type": "markdown",
      "source": [
        "# ***Question 2***"
      ],
      "metadata": {
        "id": "cC0LF-GSxnFU"
      }
    },
    {
      "cell_type": "code",
      "source": [
        "x, omega_n , zeta = smp.symbols('x omega_n zeta')"
      ],
      "metadata": {
        "id": "wceZRtiWxqa5"
      },
      "execution_count": null,
      "outputs": []
    },
    {
      "cell_type": "code",
      "source": [
        "f = x**2 + 2*zeta*omega_n*x + omega_n**2\n",
        "f"
      ],
      "metadata": {
        "colab": {
          "base_uri": "https://localhost:8080/",
          "height": 38
        },
        "id": "DBiAiJSNx17w",
        "outputId": "f665b711-5904-44b4-d370-a75157a14e30"
      },
      "execution_count": null,
      "outputs": [
        {
          "output_type": "execute_result",
          "data": {
            "text/plain": [
              "omega_n**2 + 2*omega_n*x*zeta + x**2"
            ],
            "text/latex": "$\\displaystyle \\omega_{n}^{2} + 2 \\omega_{n} x \\zeta + x^{2}$"
          },
          "metadata": {},
          "execution_count": 9
        }
      ]
    },
    {
      "cell_type": "code",
      "source": [
        "fx = f.subs([(zeta,1.7), (omega_n, 1.9)])\n",
        "fx"
      ],
      "metadata": {
        "id": "buY9kDMAx3R1",
        "colab": {
          "base_uri": "https://localhost:8080/",
          "height": 38
        },
        "outputId": "aa21e834-e75e-499c-c92c-7c57c0ab5bb0"
      },
      "execution_count": null,
      "outputs": [
        {
          "output_type": "execute_result",
          "data": {
            "text/plain": [
              " 2                \n",
              "x  + 6.46⋅x + 3.61"
            ],
            "image/png": "[encoded data removed]",
            "text/latex": "$\\displaystyle x^{2} + 6.46 x + 3.61$"
          },
          "metadata": {},
          "execution_count": 39
        }
      ]
    },
    {
      "cell_type": "code",
      "source": [
        "smp.solve(fx,x)"
      ],
      "metadata": {
        "colab": {
          "base_uri": "https://localhost:8080/",
          "height": 37
        },
        "id": "Upy4dPQmx_TN",
        "outputId": "43cbebcd-93fb-4f70-bb66-981789e41eeb"
      },
      "execution_count": null,
      "outputs": [
        {
          "output_type": "execute_result",
          "data": {
            "text/plain": [
              "[-5.84206814612483, -0.617931853875171]"
            ],
            "image/png": "[encoded data removed]",
            "text/latex": "$\\displaystyle \\left[ -5.84206814612483, \\  -0.617931853875171\\right]$"
          },
          "metadata": {},
          "execution_count": 40
        }
      ]
    },
    {
      "cell_type": "markdown",
      "source": [
        "# ***Question 3***"
      ],
      "metadata": {
        "id": "BHiOYBODyTDm"
      }
    },
    {
      "cell_type": "code",
      "source": [
        "s = smp.symbols('s')"
      ],
      "metadata": {
        "id": "0ad27F7Syl-G"
      },
      "execution_count": null,
      "outputs": []
    },
    {
      "cell_type": "code",
      "source": [
        "omega_n , zeta = smp.symbols('omega_n zeta')\n",
        "G = 1/(s**2 + (2*zeta*omega_n*s) + (omega_n**2))\n",
        "G"
      ],
      "metadata": {
        "colab": {
          "base_uri": "https://localhost:8080/",
          "height": 55
        },
        "id": "d7tXPyCqyVz4",
        "outputId": "208111f2-74a7-4d58-fabf-4968ceba04ca"
      },
      "execution_count": null,
      "outputs": [
        {
          "output_type": "execute_result",
          "data": {
            "text/plain": [
              "         1         \n",
              "───────────────────\n",
              "  2               2\n",
              "ωₙ  + 2⋅ωₙ⋅s⋅ζ + s "
            ],
            "image/png": "[encoded data removed]",
            "text/latex": "$\\displaystyle \\frac{1}{\\omega_{n}^{2} + 2 \\omega_{n} s \\zeta + s^{2}}$"
          },
          "metadata": {},
          "execution_count": 42
        }
      ]
    },
    {
      "cell_type": "code",
      "source": [
        "Gs = G.subs([(zeta,0.9),(omega_n,1.1)])\n",
        "Gs"
      ],
      "metadata": {
        "colab": {
          "base_uri": "https://localhost:8080/",
          "height": 52
        },
        "id": "eHSI6LlSynRp",
        "outputId": "9ac94292-121a-4785-d97e-e781131699e0"
      },
      "execution_count": null,
      "outputs": [
        {
          "output_type": "execute_result",
          "data": {
            "text/plain": [
              "        1         \n",
              "──────────────────\n",
              " 2                \n",
              "s  + 1.98⋅s + 1.21"
            ],
            "image/png": "[encoded data removed]",
            "text/latex": "$\\displaystyle \\frac{1}{s^{2} + 1.98 s + 1.21}$"
          },
          "metadata": {},
          "execution_count": 43
        }
      ]
    },
    {
      "cell_type": "code",
      "source": [
        "smp.apart(Gs, full=True).doit()"
      ],
      "metadata": {
        "colab": {
          "base_uri": "https://localhost:8080/",
          "height": 53
        },
        "id": "rLGiBsQ6y5ib",
        "outputId": "5d33815c-f981-4996-ba4d-ead77dcf8cd3"
      },
      "execution_count": null,
      "outputs": [
        {
          "output_type": "execute_result",
          "data": {
            "text/plain": [
              "      1.04279879032074⋅ⅈ               1.04279879032074⋅ⅈ      \n",
              "────────────────────────────── - ──────────────────────────────\n",
              "s + 0.99 + 0.479478883789474⋅ⅈ   s + 0.99 - 0.479478883789474⋅ⅈ"
            ],
            "image/png": "[encoded data removed]",
            "text/latex": "$\\displaystyle \\frac{1.04279879032074 i}{s + 0.99 + 0.479478883789474 i} - \\frac{1.04279879032074 i}{s + 0.99 - 0.479478883789474 i}$"
          },
          "metadata": {},
          "execution_count": 44
        }
      ]
    },
    {
      "cell_type": "markdown",
      "source": [
        "# ***Question 4***"
      ],
      "metadata": {
        "id": "VXZPJaxjy86f"
      }
    },
    {
      "cell_type": "code",
      "source": [
        "from sympy.vector import CoordSys3D\n",
        "N = CoordSys3D('N')"
      ],
      "metadata": {
        "id": "QR0PFXMvzGMv"
      },
      "execution_count": null,
      "outputs": []
    },
    {
      "cell_type": "code",
      "source": [
        "A = -0.9*N.i + 1.1* N.j - 0.3*N.k\n",
        "B = 0.1*N.i -1.5*N.j - 0.3*N.k"
      ],
      "metadata": {
        "id": "g_hkdonbzTVM"
      },
      "execution_count": null,
      "outputs": []
    },
    {
      "cell_type": "code",
      "source": [
        "A.cross(B).magnitude()"
      ],
      "metadata": {
        "colab": {
          "base_uri": "https://localhost:8080/",
          "height": 37
        },
        "id": "cM7CacdwzboF",
        "outputId": "4550463a-9ac8-4969-e0ca-4c6ead77b98d"
      },
      "execution_count": null,
      "outputs": [
        {
          "output_type": "execute_result",
          "data": {
            "text/plain": [
              "1.49532605140150"
            ],
            "image/png": "[encoded data removed]",
            "text/latex": "$\\displaystyle 1.4953260514015$"
          },
          "metadata": {},
          "execution_count": 46
        }
      ]
    },
    {
      "cell_type": "markdown",
      "source": [
        "# ***Question 5***"
      ],
      "metadata": {
        "id": "xkwhFHUVSiwC"
      }
    },
    {
      "cell_type": "code",
      "source": [
        "omega_n , zeta = smp.symbols('omega_n zeta')\n",
        "E = smp.Matrix([[0,1],[-omega_n**2, -2*zeta*omega_n]])\n",
        "E"
      ],
      "metadata": {
        "colab": {
          "base_uri": "https://localhost:8080/",
          "height": 58
        },
        "id": "GNBhdk-JSm65",
        "outputId": "7d8f44bd-031e-47ea-f7f4-cf7dd552beed"
      },
      "execution_count": null,
      "outputs": [
        {
          "output_type": "execute_result",
          "data": {
            "text/plain": [
              "Matrix([\n",
              "[          0,               1],\n",
              "[-omega_n**2, -2*omega_n*zeta]])"
            ],
            "text/latex": "$\\displaystyle \\left[\\begin{matrix}0 & 1\\\\- \\omega_{n}^{2} & - 2 \\omega_{n} \\zeta\\end{matrix}\\right]$"
          },
          "metadata": {},
          "execution_count": 19
        }
      ]
    },
    {
      "cell_type": "code",
      "source": [
        "smp.init_printing()\n",
        "smp.latex(E.eigenvects())"
      ],
      "metadata": {
        "colab": {
          "base_uri": "https://localhost:8080/",
          "height": 122
        },
        "id": "I3I417FLTMD3",
        "outputId": "e78fc29f-f67b-48cc-af07-3fa671f05be3"
      },
      "execution_count": null,
      "outputs": [
        {
          "output_type": "execute_result",
          "data": {
            "text/plain": [
              "'\\\\left[ \\\\left( \\\\omega_{n} \\\\left(- \\\\zeta - \\\\sqrt{\\\\left(\\\\zeta - 1\\\\right) \\\\left(\\\\zeta + 1\\\\right)}\\\\right), \\\\  1, \\\\  \\\\left[ \\\\left[\\\\begin{matrix}\\\\frac{1}{- \\\\omega_{n} \\\\zeta - \\\\omega_{n} \\\\sqrt{\\\\zeta^{2} - 1}}\\\\\\\\1\\\\end{matrix}\\\\right]\\\\right]\\\\right), \\\\  \\\\left( \\\\omega_{n} \\\\left(- \\\\zeta + \\\\sqrt{\\\\left(\\\\zeta - 1\\\\right) \\\\left(\\\\zeta + 1\\\\right)}\\\\right), \\\\  1, \\\\  \\\\left[ \\\\left[\\\\begin{matrix}\\\\frac{1}{- \\\\omega_{n} \\\\zeta + \\\\omega_{n} \\\\sqrt{\\\\zeta^{2} - 1}}\\\\\\\\1\\\\end{matrix}\\\\right]\\\\right]\\\\right)\\\\right]'"
            ],
            "application/vnd.google.colaboratory.intrinsic+json": {
              "type": "string"
            }
          },
          "metadata": {},
          "execution_count": 34
        }
      ]
    },
    {
      "cell_type": "markdown",
      "source": [
        "$\\left[ \\left( \\omega_{n} \\left(- \\zeta - \\sqrt{\\left(\\zeta - 1\\right) \\left(\\zeta + 1\\right)}\\right), \\  \\left[ \\left[\\begin{matrix}\\frac{1}{- \\omega_{n} \\zeta - \\omega_{n} \\sqrt{\\zeta^{2} - 1}}\\\\1\\end{matrix}\\right]\\right]\\right), \\  \\left( \\omega_{n} \\left(- \\zeta + \\sqrt{\\left(\\zeta - 1\\right) \\left(\\zeta + 1\\right)}\\right),\\  \\left[ \\left[\\begin{matrix}\\frac{1}{- \\omega_{n} \\zeta + \\omega_{n} \\sqrt{\\zeta^{2} - 1}}\\\\1\\end{matrix}\\right]\\right]\\right)\\right]$"
      ],
      "metadata": {
        "id": "iP_bo___3F8f"
      }
    }
  ]
}